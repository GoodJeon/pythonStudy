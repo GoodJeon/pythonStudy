{
 "cells": [
  {
   "cell_type": "markdown",
   "metadata": {},
   "source": [
    "# Matplotlib"
   ]
  },
  {
   "cell_type": "markdown",
   "metadata": {
    "collapsed": true
   },
   "source": [
    "- 시각화 패키지\n",
    "- 파이썬 표준 시각화 도구로 불림\n",
    "- 2D 평면 그래프에 관한 다양한 포맷과 기능 지원\n",
    "- 데이터 분석 결과를 시각화 하는데 필요한 다양한 기능 제공\n",
    "- https://matplotlib.org/"
   ]
  },
  {
   "cell_type": "markdown",
   "metadata": {},
   "source": [
    "---"
   ]
  },
  {
   "cell_type": "markdown",
   "metadata": {
    "collapsed": true
   },
   "source": [
    "### 패키지 호출"
   ]
  },
  {
   "cell_type": "code",
   "execution_count": 3,
   "metadata": {},
   "outputs": [],
   "source": [
    "# matplotlib 주 패키지 사용시 \n",
    "import matplotlib as mpl\n",
    "    \n",
    "\n",
    "# pyplot 서브 패키지 사용시 : 주로 사용\n",
    "import matplotlib.pyplot as plt"
   ]
  },
  {
   "cell_type": "code",
   "execution_count": 4,
   "metadata": {},
   "outputs": [],
   "source": [
    "# 주피터 노트북 매직 명령어\n",
    "\n",
    "# 노트북 내부에 그림을 표시하도록 지정하는 명령어\n",
    "%matplotlib inline \n",
    "# 그래프가 다른 창에 나오게 하는 명령어\n",
    "# %matplotlib qt"
   ]
  },
  {
   "cell_type": "code",
   "execution_count": 5,
   "metadata": {},
   "outputs": [],
   "source": [
    "# 판다스 넘파이\n",
    "import numpy as np\n",
    "import pandas as pd"
   ]
  },
  {
   "cell_type": "code",
   "execution_count": null,
   "metadata": {},
   "outputs": [],
   "source": [
    "# 주피터 노트북 결과값 여러개 반환하게 하는 모듈\n",
    "# from IPython.core.interactiveshell import InteractiveShell\n",
    "# InteractiveShell.ast_node_interactivity=\"all\""
   ]
  },
  {
   "cell_type": "code",
   "execution_count": 6,
   "metadata": {},
   "outputs": [],
   "source": [
    "# 한글 문제\n",
    "# matplotlit의 기본 폰트에서 한글 지원되지 않기 때문에\n",
    "# matplotlib의 폰트 변경 필요\n",
    "\n",
    "import platform\n",
    "\n",
    "from matplotlib import font_manager, rc\n",
    "plt.rcParams['axes.unicode_minus'] = False\n",
    "\n",
    "if platform.system() == 'Darwin':  # 맥OS \n",
    "    rc('font', family='AppleGothic')\n",
    "elif platform.system() == 'Windows':  # 윈도우\n",
    "    path = \"c:/Windows/Fonts/malgun.ttf\"\n",
    "    font_name = font_manager.FontProperties(fname=path).get_name()\n",
    "    rc('font', family=font_name)\n",
    "else:\n",
    "    print('Unknown system...  sorry~~~')"
   ]
  },
  {
   "cell_type": "markdown",
   "metadata": {},
   "source": [
    "---"
   ]
  },
  {
   "cell_type": "markdown",
   "metadata": {
    "collapsed": true
   },
   "source": [
    "### 지원 되는 플롯 유형\n",
    "- matplot홈페이지 참조 : [https://matplotlib.org/stable/tutorials/introductory/usage.html](https://matplotlib.org/stable/tutorials/introductory/usage.html)"
   ]
  },
  {
   "cell_type": "markdown",
   "metadata": {},
   "source": [
    "### 그래프 용어 정리\n",
    "- figure(x,y) : 그래프 크기 설정 : 단위 인치\n",
    "- title() : 제목 출력\n",
    "- xlim : x 축 범위\n",
    "- ylim : y 축 범위\n",
    "- xticks():yticks() : 축과 값을 잇는 실선    \n",
    "- legend() : 범례\n",
    "- xlabel() : x축라벨(값)\n",
    "- ylabel() : y축라벨(값)\n",
    "- grid() : 그래프 배경으로 grid 사용 결정 함수\n",
    "![image](https://user-images.githubusercontent.com/75322297/149467530-8d80809b-fb45-4cb5-b3a0-39a2772c5bc5.png)\n",
    "사진 출처 : [https://matplotlib.org/stable/_images/anatomy.png](https://matplotlib.org/stable/_images/anatomy.png)"
   ]
  },
  {
   "cell_type": "markdown",
   "metadata": {},
   "source": [
    "### 그래프 속성\n"
   ]
  },
  {
   "cell_type": "markdown",
   "metadata": {},
   "source": [
    "#### 축의 눈금 설정 : plt.xticks(), plt.yticks()\n",
    "- tick은 축상의 위치 표시 지점\n",
    "- 축에 간격을 구분하기 위해 표시하는 눈금\n",
    "\n",
    "\n",
    "- xticks([x축값1,x축값2,...]) #튜플,리스트등 이용해서 축 값(위치 나열)\n",
    "- yticks([y축값1,y축값2,...]) #튜플,리스트등 이용해서 축 값(위치 나열)\n",
    "- tick_params()\n",
    "- tick label(눈금 레이블) : tick에 써진 숫자 혹은 글자"
   ]
  },
  {
   "cell_type": "markdown",
   "metadata": {},
   "source": [
    "#### 범례(legend)표시\n",
    "- plot에 label 속성이 추가되어 있어야 함\n",
    "    - plt.plot(x,y,label='a')\n",
    "- plt.legend(loc=, ncol= ) #범례표시, \n",
    "- loc = 1/2/3/4/5/6/7/8/9/10 # 범례표시 위치값\n",
    "- loc = (x,y)\n",
    "- ncol= 열갯수"
   ]
  },
  {
   "cell_type": "markdown",
   "metadata": {},
   "source": [
    "#### 그래프 제목 및 축 레이블 설정\n",
    "- 그래프 제목 설정: plot.title(data,loc=, pad=, fontsize=)\n",
    "     - loc= 'right'|'left'| 'center'| 'right'로 설정할 수 있으며 디폴트는 'center'\n",
    "     - pad=point 은 타이틀과 그래프와의 간격 (오프셋)을 포인트(숫자) 단위로 설정\n",
    "     - fontsize=제목폰트크기\n",
    "        \n",
    "- 축 레이블 설정\n",
    "    - plot.xlabel()\n",
    "    - plot.ylabel()"
   ]
  },
  {
   "cell_type": "markdown",
   "metadata": {},
   "source": [
    "#### plt.subplot() : 여러 플롯 표시\n",
    "\n",
    ": 하나의 윈도우(figure)안에 여러 개의 플롯을 배열 형태로 표시\n",
    "\n",
    "- 그리드 형태의 Axes 객체들 생성\n",
    "\n",
    "- 형식 : subplot(인수1,인수2,인수3)\n",
    "    - 인수1 과 인수2는 전체 그리드 행렬 모양 지시\n",
    "    - 인수3 : 그래프 위치 번호\n",
    "\n",
    "\n",
    "    - subplot(2,2,1) 가 원칙이나 줄여서 221로 쓸 수 있음\n",
    "    - subplot(221) 2행 2열의 그리드에서 첫번째 위치\n",
    "    - subplot(224) 2행 2열의 그리드에서 마지막 위치\n",
    "    \n",
    "    \n",
    "- tight_layout(pad=) : 플롯간 간격을 설정\n",
    "    - pad = 간격값(실수)"
   ]
  },
  {
   "cell_type": "markdown",
   "metadata": {},
   "source": [
    "---"
   ]
  },
  {
   "cell_type": "markdown",
   "metadata": {
    "collapsed": true
   },
   "source": [
    "## 1. plt.plot() : 선그래프(line plot)\n",
    "* matplotlib.pyplot.plot(*args, scalex=True, scaley=True, data=None, **kwargs)\n",
    "\n",
    ": *args : x, y 축값을 리스트 형식으로 입력, y축값만 쓰는 경우 x축값은 자동 생성"
   ]
  },
  {
   "cell_type": "markdown",
   "metadata": {
    "collapsed": true
   },
   "source": [
    "### 선 모양 속성\n",
    "   *  선 색깔 : color **(c)**\n",
    "   *  선 굵기 : linewidth  **(lw)**\n",
    "   *  선 스타일 : linestyle **(ls)**\n",
    "   *  마커 종류 :  **marker**\n",
    "   *  마커 크기 : markersize **(ms)**\n",
    "   *  마커선색깔 : markeredgecolor **(mec)**\n",
    "   *  마커선굵기 : markeredgewidth **(mew)**\n",
    "   *  마커내부색깔 : markerfacecolor **(mfc)**    "
   ]
  },
  {
   "cell_type": "markdown",
   "metadata": {},
   "source": [
    "### 색상"
   ]
  },
  {
   "cell_type": "markdown",
   "metadata": {},
   "source": [
    "- 정말 다양함.\n",
    "- 해당 사이트 참조 [https://www.w3schools.com/cssref/css_colors.asp](https://www.w3schools.com/cssref/css_colors.asp)"
   ]
  },
  {
   "cell_type": "markdown",
   "metadata": {},
   "source": [
    "### 스타일(linestyle = '선스타일') \n",
    "1. '-.' : 1점 쇄선\n",
    "2. '--' : 파선\n",
    "3. ':' : 점선\n",
    "4. '-' : 실선"
   ]
  },
  {
   "cell_type": "markdown",
   "metadata": {},
   "source": [
    "### 예제"
   ]
  },
  {
   "cell_type": "code",
   "execution_count": 19,
   "metadata": {},
   "outputs": [
    {
     "data": {
      "image/png": "[encoded data removed]",
      "text/plain": [
       "<Figure size 432x288 with 4 Axes>"
      ]
     },
     "metadata": {
      "needs_background": "light"
     },
     "output_type": "display_data"
    }
   ],
   "source": [
    "# 2 x 2 형태의 네 개의 플롯\n",
    "\n",
    "# Plot Number 1\n",
    "plt.subplot(221) # 서브플랏 1번(1/4)\n",
    "x=[0,1,2,3,4,5,6]\n",
    "y=[1,4,5,8,9,3,2]\n",
    "# plt.figure(figsize=(3,3)) # 그래프배경 크기\n",
    "plt.plot(x, y, c='green', ls='-.', marker = 'p', mfc= 'red', ms=10)\n",
    "plt.title('스타일 적용 : 약어로 지정')\n",
    "\n",
    "# Plot Number 2\n",
    "plt.subplot(222) # 서브플랏 2번(2/4)\n",
    "t=np.arange(0.,5.,0.2)\n",
    "t\n",
    "# plt.figure(figsize=(5,3))\n",
    "plt.title('라인 플롯에서 여러개의 선 그리기')\n",
    "plt.plot(t,t,'r--'\n",
    ",t,0.5*t**2,'bs:',\n",
    "t,0.2*t**3,'g^-')\n",
    "# 인수 순서 (x, y, color, marker, linestyle)\n",
    "\n",
    "\n",
    "# Plot Number 3\n",
    "plt.subplot(223) # 서브플랏 3번(3/4)\n",
    "# 데이터 생성\n",
    "x=[10,20,30,40,50,60]\n",
    "y=[11,15,40,40,20,10]\n",
    "# 그래프 그리기\n",
    "plt.title('그래프제목')\n",
    "plt.plot(x,y, color='green',linestyle='dashed',marker='o')\n",
    "# x,y축 눈금 설정\n",
    "plt.xticks(x,('10대','20대','30대','40대','50대','60대'))\n",
    "plt.yticks([0,10,20,30,40,50])\n",
    "# x,y축 제목\n",
    "plt.xlabel('x축제목')\n",
    "plt.ylabel('y축제목')\n",
    "# 그리드 표시\n",
    "plt.grid(True)\n",
    "\n",
    "\n",
    "# Plot Number 4\n",
    "plt.subplot(224) # 서브플랏 4번 (4/4)\n",
    "# x, y(sin값) 생성\n",
    "x = np.arange(0,12,0.1)\n",
    "x\n",
    "y = np.sin(x)\n",
    "y\n",
    "plt.plot(x,np.cos(x),c = 'red') # 코사인 그래프\n",
    "plt.plot(x, y) # 사인 그래프\n",
    "plt.grid() # 눈금?격자?\n",
    "plt.xlabel('time') # x축 이름\n",
    "plt.ylabel('Amplitude') # y축 이름\n",
    "plt.title('Example of sine/cosine wave') # 제목\n",
    "\n",
    "\n",
    "plt.tight_layout(pad=1.5) # 각 plot의 간격 조절\n",
    "plt.show()"
   ]
  },
  {
   "cell_type": "markdown",
   "metadata": {},
   "source": [
    "---"
   ]
  },
  {
   "cell_type": "markdown",
   "metadata": {},
   "source": [
    "## 2. bar(), barh(), df.plot() : 막대그래프"
   ]
  },
  {
   "cell_type": "markdown",
   "metadata": {},
   "source": [
    "### 2-1. 세로 막대 그래프 그리기: bar()\n",
    "- bar(x,y,color=[],alpha=)\n",
    "    - color = [] : 색상값 설정\n",
    "    - alpha = 투명도 설정"
   ]
  },
  {
   "cell_type": "code",
   "execution_count": 48,
   "metadata": {},
   "outputs": [],
   "source": [
    "# 데이터 생성\n",
    "y=[2,3,1,4]\n",
    "x=np.arange(len(y))\n",
    "\n",
    "z=[2,3]\n",
    "s=[0,1]\n",
    "\n",
    "e=[1,4]\n",
    "h=[2,3]\n",
    "\n",
    "xlabel=['가','나','다','라']"
   ]
  },
  {
   "cell_type": "code",
   "execution_count": 51,
   "metadata": {},
   "outputs": [
    {
     "data": {
      "image/png": "[encoded data removed]",
      "text/plain": [
       "<Figure size 432x288 with 1 Axes>"
      ]
     },
     "metadata": {
      "needs_background": "light"
     },
     "output_type": "display_data"
    }
   ],
   "source": [
    "# 막대그래프 그리기\n",
    "plt.title('Bar Chart')\n",
    "plt.bar(x,y)\n",
    "plt.xticks(x,xlabel)\n",
    "plt.yticks(sorted(y))\n",
    "plt.text(-0.1, 1, r'test')\n",
    "plt.xlabel('가나다라')\n",
    "plt.ylabel('빈도수')\n",
    "plt.plot(s, z, color='green',linestyle='dashed',marker='o')\n",
    "plt.plot(h, e, color='green',linestyle='dashed',marker='o')\n",
    "\n",
    "plt.show()\n",
    "\n",
    "\n",
    "\n",
    "# r'문자열 : 문자열 렌더링 rowformat으로 랜더링하는 명령\n",
    "# rowformat : 장치에서 가장 표준 형태로 변환"
   ]
  },
  {
   "cell_type": "markdown",
   "metadata": {},
   "source": [
    "### 2-2. 가로 막대 그래프 그리기 : barh()\n",
    "- barh(x,y,color=[], alpha=)"
   ]
  },
  {
   "cell_type": "code",
   "execution_count": 52,
   "metadata": {
    "scrolled": true
   },
   "outputs": [
    {
     "data": {
      "image/png": "[encoded data removed]",
      "text/plain": [
       "<Figure size 432x288 with 1 Axes>"
      ]
     },
     "metadata": {
      "needs_background": "light"
     },
     "output_type": "display_data"
    }
   ],
   "source": [
    "np.random.seed(0)\n",
    "people=['몽룡','춘향','방자','향단']\n",
    "y=np.arange(len(people))\n",
    "performance = 3+ 10 * np.random.rand(len(people))\n",
    "\n",
    "# 가로 막대그래프 그리기\n",
    "plt.title(\"Barh Chart\")\n",
    "plt.barh(y, performance, alpha=0.4)\n",
    "plt.yticks(y,people)\n",
    "plt.xlabel('xlabel')\n",
    "plt.ylabel('ylabel')\n",
    "plt.grid(True)\n",
    "plt.show()\n"
   ]
  },
  {
   "cell_type": "markdown",
   "metadata": {},
   "source": [
    "### 2-3. 데이터프레임으로 막대그래프 그리기\n",
    "- **데이터프레임.plot**(kind=그래프종류, grid=T/F, figsize=그래프크기)\n",
    "- **plt.bar**(데이터프레임.변수1, 데이터프레임.변수2)"
   ]
  },
  {
   "cell_type": "markdown",
   "metadata": {},
   "source": [
    "**데이터프레임.plot()으로 막대그래프 그리기**\n",
    "\n",
    "- plt.xticks()의 rotation 인수에 따라 가로형 또는 세로형 막대그래프 생성\n",
    "    - plt.xticks(ticks=None, labels=None, **kwargs)\n",
    "    - plt.xticks(ticks=None, labels=None) : vertical 기본\n",
    "    - plt.xticks(ticks=None, labels=None, rotation='vertical') : 가로형막대\n",
    "    - plt.xticks(ticks=None, labels=None, rotation='horizontal') : 세로형막대"
   ]
  },
  {
   "cell_type": "code",
   "execution_count": 56,
   "metadata": {},
   "outputs": [
    {
     "data": {
      "image/png": "[encoded data removed]",
      "text/plain": [
       "<Figure size 720x720 with 1 Axes>"
      ]
     },
     "metadata": {
      "needs_background": "light"
     },
     "output_type": "display_data"
    }
   ],
   "source": [
    "df1 = pd.DataFrame({\n",
    "    '나이':[15,20,17,50,2,30,23],\n",
    "    '이름':['둘리','도우너','또치','길동','희동','마이클','영희']\n",
    "},columns=['나이','이름'])\n",
    "df1\n",
    "\n",
    "# xticks 시 위치 표시에 사용할 변수 지정\n",
    "x=[0,1,2,3,4,5,6] \n",
    "\n",
    "# 막대그래프 그리기\n",
    "df1.plot(kind='bar', grid=True, figsize=(10,10))\n",
    "plt.xticks(x, df1.이름, rotation='horizontal')\n",
    "plt.show()\n"
   ]
  },
  {
   "cell_type": "markdown",
   "metadata": {},
   "source": [
    "**데이터프레임.plot()를 이용하여 묶음 막대그래프 그리기**\n",
    "- 그래프를 그리기 위한 데이터를 지정하지 않는 경우\n",
    "- 데이터프레임에 있는 모든 수치데이터를 이용하여 묶음 막대그래프를 그림"
   ]
  },
  {
   "cell_type": "code",
   "execution_count": 60,
   "metadata": {
    "scrolled": true
   },
   "outputs": [
    {
     "data": {
      "image/png": "[encoded data removed]",
      "text/plain": [
       "<Figure size 720x720 with 1 Axes>"
      ]
     },
     "metadata": {
      "needs_background": "light"
     },
     "output_type": "display_data"
    }
   ],
   "source": [
    "# 데이터 생성 :df1\n",
    "df1 = pd.DataFrame({\n",
    "    '나이':[15,20,17,50,2,30,23],\n",
    "    '키' : [165,150,151,175,80,175,185],\n",
    "    '이름':['둘리','도우너','또치','길동','희동','마이클','영희']\n",
    "},columns=['나이','키','이름'])\n",
    "\n",
    "# xticks 시 위치 표시에 사용할 변수\n",
    "x=[0,1,2,3,4,5,6] \n",
    "\n",
    "# df.plot()으로 막대그래프 그리기\n",
    "df1.plot(kind='bar',grid=True,figsize=(10,10))\n",
    "plt.xticks(x,df1.이름,rotation='horizontal')\n",
    "plt.show()\n"
   ]
  },
  {
   "cell_type": "markdown",
   "metadata": {},
   "source": [
    "**plt.bar(데이터프레임)를 이용하여 막대그래프 그리기**"
   ]
  },
  {
   "cell_type": "code",
   "execution_count": 61,
   "metadata": {
    "scrolled": true
   },
   "outputs": [
    {
     "data": {
      "image/png": "[encoded data removed]",
      "text/plain": [
       "<Figure size 432x288 with 1 Axes>"
      ]
     },
     "metadata": {
      "needs_background": "light"
     },
     "output_type": "display_data"
    }
   ],
   "source": [
    "# 데이터프레임으로 막대그래프 그리기2 : plt.bar(데이터프레임)\n",
    "# 데이터 생성 :df1\n",
    "# plt.bar()로 막대그래프 그리기\n",
    "df1 = pd.DataFrame({\n",
    "    '나이':[15,20,17,50,2,30,23],\n",
    "    '키' : [165,150,151,175,80,175,185],\n",
    "    '이름':['둘리','도우너','또치','길동','희동','마이클','영희']\n",
    "},columns=['나이','키','이름'])\n",
    "\n",
    "# plt.bar()로 막대그래프 그리기\n",
    "plt.bar(df1.이름,df1.나이)\n",
    "plt.show()\n"
   ]
  },
  {
   "cell_type": "markdown",
   "metadata": {},
   "source": [
    "**데이터프레임의 일부 필드를 데이터프레임으로 추출하여 그래프 작성**"
   ]
  },
  {
   "cell_type": "code",
   "execution_count": 62,
   "metadata": {},
   "outputs": [
    {
     "data": {
      "image/png": "[encoded data removed]",
      "text/plain": [
       "<Figure size 720x720 with 1 Axes>"
      ]
     },
     "metadata": {
      "needs_background": "light"
     },
     "output_type": "display_data"
    }
   ],
   "source": [
    "# 데이터 생성 : df1\n",
    "df1 = pd.DataFrame({\n",
    "    '나이':[15,20,17,50,2,30,23],\n",
    "    '키' : [165,150,151,175,80,175,185],\n",
    "    '이름':['둘리','도우너','또치','길동','희동','마이클','영희']\n",
    "},columns=['나이','키','이름'])\n",
    "\n",
    "# xticks 시 위치 표시에 사용할 변수\n",
    "x=[0,1,2,3,4,5,6] \n",
    "\n",
    "# 막대그래프 그리기\n",
    "df1[['키']].plot(kind='bar',grid=True,figsize=(10,10))\n",
    "plt.xticks(x,df1.이름,rotation='horizontal')\n",
    "plt.show()\n"
   ]
  },
  {
   "cell_type": "markdown",
   "metadata": {},
   "source": [
    "**정렬된 데이터를 이용하여 막대그래프 그리기**"
   ]
  },
  {
   "cell_type": "code",
   "execution_count": 63,
   "metadata": {},
   "outputs": [
    {
     "data": {
      "image/png": "[encoded data removed]",
      "text/plain": [
       "<Figure size 360x360 with 1 Axes>"
      ]
     },
     "metadata": {
      "needs_background": "light"
     },
     "output_type": "display_data"
    }
   ],
   "source": [
    "# 정렬된 데이터를 이용하여 막대그래프 그리기\n",
    "\n",
    "# 데이터 생성 : df1 \n",
    "df1 = pd.DataFrame({\n",
    "    '나이':[15,20,17,50,2,30,23],\n",
    "    '이름':['둘리','도우너','또치','길동','희동','마이클','영희']\n",
    "},columns=['나이','이름'])\n",
    " \n",
    "# xticks 시 위치 표시에 사용할 변수\n",
    "a=[0,1,2,3,4,5,6] \n",
    "\n",
    "# 나이로 df1 정렬하여 새로운 df2 생성\n",
    "df2=df1.sort_values(by='나이')\n",
    "df2\n",
    "\n",
    "# 가로 막대그래프 그리기\n",
    "df1.sort_values(by='나이').plot(kind='barh',grid=True,figsize=(5,5))\n",
    "\n",
    "plt.yticks(a, df1.sort_values(by='나이').이름, rotation='horizontal')\n",
    "plt.show()"
   ]
  },
  {
   "cell_type": "markdown",
   "metadata": {},
   "source": [
    "## 3. scatter() : 산점도"
   ]
  },
  {
   "cell_type": "markdown",
   "metadata": {},
   "source": [
    "- 두 수치형 변수간의 관계를 나타내기 위해 사용하는 그래프\n",
    "    - 상관관계 표현 : 선형성"
   ]
  },
  {
   "cell_type": "code",
   "execution_count": 64,
   "metadata": {},
   "outputs": [],
   "source": [
    "# 데이터 생성\n",
    "t = np.array([0,1,2,3,4,5,6,7,8,9])\n",
    "y = np.array([9,8,7,9,8,3,2,4,3,4])"
   ]
  },
  {
   "cell_type": "code",
   "execution_count": 65,
   "metadata": {
    "scrolled": true
   },
   "outputs": [
    {
     "data": {
      "image/png": "[encoded data removed]",
      "text/plain": [
       "<Figure size 432x288 with 1 Axes>"
      ]
     },
     "metadata": {
      "needs_background": "light"
     },
     "output_type": "display_data"
    }
   ],
   "source": [
    "# 산점도 그리기\n",
    "plt.scatter(t,y)\n",
    "plt.show()"
   ]
  },
  {
   "cell_type": "markdown",
   "metadata": {},
   "source": [
    "- 산점도의 marker 변경"
   ]
  },
  {
   "cell_type": "code",
   "execution_count": 66,
   "metadata": {
    "scrolled": true
   },
   "outputs": [
    {
     "data": {
      "image/png": "[encoded data removed]",
      "text/plain": [
       "<Figure size 720x432 with 1 Axes>"
      ]
     },
     "metadata": {
      "needs_background": "light"
     },
     "output_type": "display_data"
    }
   ],
   "source": [
    "# 산점도에 marker 변경\n",
    "plt.figure(figsize=(10,6))\n",
    "plt.scatter(t,y,marker='>') #마커지정\n",
    "plt.show()\n"
   ]
  },
  {
   "cell_type": "markdown",
   "metadata": {},
   "source": [
    "#### 버블차트\n",
    "- 점의 크기와 색상을 이용하여 서로 다른 데이터 값을 표시하는 그래프\n",
    "- scatter(c, s)를 이용하여 작성\n",
    "    - s 인수 : size\n",
    "    - c 인수 : color"
   ]
  },
  {
   "cell_type": "code",
   "execution_count": 67,
   "metadata": {},
   "outputs": [
    {
     "data": {
      "image/png": "[encoded data removed]",
      "text/plain": [
       "<Figure size 432x288 with 1 Axes>"
      ]
     },
     "metadata": {
      "needs_background": "light"
     },
     "output_type": "display_data"
    }
   ],
   "source": [
    "# 데이터 생성\n",
    "N=30\n",
    "np.random.seed(0)\n",
    "x=np.random.rand(N)\n",
    "y1 =np.random.rand(N)\n",
    "y2 =np.random.rand(N)\n",
    "y3=np.pi *(15 * np.random.rand(N))**2\n",
    "\n",
    "# 버블차트 그리기\n",
    "plt.title(\"Bubble Chart\")\n",
    "plt.scatter(x,y1,c=y2,s=y3)\n",
    "plt.show()\n"
   ]
  },
  {
   "cell_type": "markdown",
   "metadata": {},
   "source": [
    "#### 산점도에 colorbar() 적용\n",
    "- 산점도를 그린 후 colorbar()를 생성하여 색상 정보를 막대로 표현"
   ]
  },
  {
   "cell_type": "code",
   "execution_count": 68,
   "metadata": {},
   "outputs": [
    {
     "data": {
      "image/png": "[encoded data removed]",
      "text/plain": [
       "<Figure size 720x432 with 2 Axes>"
      ]
     },
     "metadata": {
      "needs_background": "light"
     },
     "output_type": "display_data"
    }
   ],
   "source": [
    "# colorbar()을 이용해서 산점도 그리기\n",
    "colormap = t\n",
    "\n",
    "plt.figure(figsize=(10,6))\n",
    "plt.scatter(t,y, s=50, c=colormap, marker='>')\n",
    "plt.colorbar() # 색상 데이터를 bar 형태로 출력\n",
    "plt.show()\n"
   ]
  },
  {
   "cell_type": "markdown",
   "metadata": {},
   "source": [
    "## 4. hist() : 히스토그램"
   ]
  },
  {
   "cell_type": "markdown",
   "metadata": {},
   "source": [
    "- 연속형 수치형 데이터의 분포 시각화\n",
    "- 참고. 막대그래프는 범주형 데이터의 빈도(비율) 분포 시각화"
   ]
  },
  {
   "cell_type": "code",
   "execution_count": 69,
   "metadata": {},
   "outputs": [
    {
     "data": {
      "image/png": "[encoded data removed]",
      "text/plain": [
       "<Figure size 720x432 with 1 Axes>"
      ]
     },
     "metadata": {
      "needs_background": "light"
     },
     "output_type": "display_data"
    }
   ],
   "source": [
    "# 데이터 생성\n",
    "np.random.seed(0)\n",
    "x = np.random.randn(1000) #난수 1000개 발생\n",
    "\n",
    "# 히스토그램 그리기\n",
    "plt.figure(figsize=(10,6))\n",
    "plt.title('Histogram')\n",
    "plt.hist(x)\n",
    "plt.show()"
   ]
  },
  {
   "cell_type": "markdown",
   "metadata": {},
   "source": [
    "## 5. boxplot() : 박스플롯"
   ]
  },
  {
   "cell_type": "markdown",
   "metadata": {},
   "source": [
    "- 데이터의 분포를 파악해주는 플롯\n",
    "    - 최소값, 제1사분위수, 중위수, 제3사분위수, 최대값\n",
    "    \n",
    "- 이상치 데이터 탐색을 위해 사용"
   ]
  },
  {
   "cell_type": "code",
   "execution_count": 70,
   "metadata": {},
   "outputs": [],
   "source": [
    "# 다차원 array 형태로 무작위 샘플을 생성\n",
    "# np.random.normal(정규분포평균,표준편차,(행열) or 개수)\n",
    "# 정규분포 확률 밀도에서 표본 추출해주는 함수\n",
    "# 데이터 3개 생성\n",
    "s1=np.random.normal(loc=0,scale=1,size=1000)\n",
    "s2=np.random.normal(loc=5,scale=0.5,size=1000)\n",
    "s3=np.random.normal(loc=10,scale=2,size=1000)\n"
   ]
  },
  {
   "cell_type": "code",
   "execution_count": 71,
   "metadata": {},
   "outputs": [
    {
     "data": {
      "image/png": "[encoded data removed]",
      "text/plain": [
       "<Figure size 720x432 with 1 Axes>"
      ]
     },
     "metadata": {
      "needs_background": "light"
     },
     "output_type": "display_data"
    }
   ],
   "source": [
    "# boxplot 그리기\n",
    "plt.figure(figsize=(10,6))\n",
    "plt.boxplot((s1,s2,s3))\n",
    "plt.grid()\n",
    "plt.show()"
   ]
  },
  {
   "cell_type": "markdown",
   "metadata": {},
   "source": [
    "## 6. pie() : 파이차트 "
   ]
  },
  {
   "cell_type": "markdown",
   "metadata": {},
   "source": [
    "- 범주형 데이터의 빈도(비율)을 비교하기 위해 사용하는 차트\n",
    "- 원의 형태를 유지할 수 있도록 다음 명령을 실행해야 함\n",
    "    - plt.axis('equal')\n",
    "    - 콘솔에서는 별 다른 변화 없으나 plot창에서는 필요함"
   ]
  },
  {
   "cell_type": "code",
   "execution_count": 72,
   "metadata": {},
   "outputs": [
    {
     "data": {
      "image/png": "[encoded data removed]",
      "text/plain": [
       "<Figure size 720x432 with 1 Axes>"
      ]
     },
     "metadata": {},
     "output_type": "display_data"
    }
   ],
   "source": [
    "# 데이터 생성\n",
    "labels=['개구리','돼지','개','통나무']\n",
    "size=[15, 30, 45, 10]\n",
    "colors=['yellowgreen','gold','lightskyblue','lightcoral']\n",
    "explode=(0,0.4,0,0.5)\n",
    "\n",
    "# plot 그리기\n",
    "plt.figure(figsize=(10,6))\n",
    "plt.title('Pie Chart')\n",
    "plt.pie(size, explode=explode, labels=labels, colors=colors,\n",
    "       autopct='%1.1f%%', shadow=True, startangle=90)\n",
    "plt.axis('equal') # 원의 형태 유지 설정\n",
    "plt.show()\n"
   ]
  }
 ],
 "metadata": {
  "kernelspec": {
   "display_name": "Python 3",
   "language": "python",
   "name": "python3"
  },
  "language_info": {
   "codemirror_mode": {
    "name": "ipython",
    "version": 3
   },
   "file_extension": ".py",
   "mimetype": "text/x-python",
   "name": "python",
   "nbconvert_exporter": "python",
   "pygments_lexer": "ipython3",
   "version": "3.8.5"
  }
 },
 "nbformat": 4,
 "nbformat_minor": 4
}
