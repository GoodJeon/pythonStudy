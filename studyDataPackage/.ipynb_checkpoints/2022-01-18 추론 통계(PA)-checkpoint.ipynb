{
 "cells": [
  {
   "cell_type": "markdown",
   "metadata": {},
   "source": [
    "# 추론 통계(Predictive Analysis)\n",
    "* 일부 데이터로부터 전체의 통계적 성질을 추측\n",
    "* 표본 정보(통계량)에 입각해 모집단의 정보를 얻어내는 과정\n",
    "    * 추정 : 점추정, 구간추정\n",
    "    * 검정 : 가설검정"
   ]
  },
  {
   "cell_type": "markdown",
   "metadata": {},
   "source": [
    "---"
   ]
  },
  {
   "cell_type": "markdown",
   "metadata": {},
   "source": [
    "## 확률(probability)\n",
    "* 어떤 사건이 일어날 가능성\n",
    "* 예시) 동전 던지기에 앞면이 나올 가능성, 주사위에서 1이 나올 확률"
   ]
  },
  {
   "cell_type": "markdown",
   "metadata": {},
   "source": [
    "### 1) 객관적 확률\n",
    "* 실험이나 관찰의 필요에 따라 구분"
   ]
  },
  {
   "cell_type": "markdown",
   "metadata": {},
   "source": [
    "#### 논리적 확률(수학적 확률)\n",
    "* **어떤 한 시행에서 나타날 수 있는 결과의 개수**\n",
    "* 동전던지기, 주사위던지기"
   ]
  },
  {
   "cell_type": "markdown",
   "metadata": {},
   "source": [
    "#### 경험적 확률(통계적 확률)\n",
    "* 동일한 조건하에서 같은 **실험을 반복**했을 때 어떤 특정한 사건이 발생한 비율, 상대도수로 계산"
   ]
  },
  {
   "cell_type": "markdown",
   "metadata": {},
   "source": [
    "### 2) 주관적 확률"
   ]
  },
  {
   "cell_type": "markdown",
   "metadata": {},
   "source": [
    "### 3) 공리적 해석\n",
    "* 모든 확률은 다음의 공리를 만족\n",
    "* A.N. Kolmogorov(1933)의 확률의 공리"
   ]
  },
  {
   "cell_type": "markdown",
   "metadata": {},
   "source": [
    "### 4) 주변확률과 결합확률"
   ]
  },
  {
   "cell_type": "markdown",
   "metadata": {},
   "source": [
    "### 5) 조건부 확률(conditional probability)\n",
    "* 일부 조건이 주어진 경우에 사건이 발생할 수 있는 경우"
   ]
  },
  {
   "cell_type": "markdown",
   "metadata": {},
   "source": [
    "### 6) 독립 사상"
   ]
  },
  {
   "cell_type": "markdown",
   "metadata": {},
   "source": [
    "### 7) 합률의 합법칙과 곱법칙"
   ]
  },
  {
   "cell_type": "markdown",
   "metadata": {},
   "source": [
    "### 8) 전확률의 정리"
   ]
  },
  {
   "cell_type": "markdown",
   "metadata": {},
   "source": [
    "### 9) 베이즈 정리(Bayes' theorem)"
   ]
  },
  {
   "cell_type": "markdown",
   "metadata": {},
   "source": [
    "## 확률분포와 확률변수"
   ]
  },
  {
   "cell_type": "markdown",
   "metadata": {},
   "source": [
    "### 1) 확률분포(probability distribution)\n",
    "* 도수분포표 및 히스토그램을 확률분포라 한다."
   ]
  },
  {
   "cell_type": "markdown",
   "metadata": {},
   "source": [
    "### 2) 확률변수(random variable)\n",
    "* 실험이나 관찰의 결과 값을 1:1 실수로 대응시키는 함수\n",
    "* 동전을 던지는 실험에서 앞면이 나온 횟수에 대한"
   ]
  },
  {
   "cell_type": "markdown",
   "metadata": {},
   "source": [
    "### 3) 확률 변수의 구분\n",
    "* 이산확률변수 : 변수가 취할 수 있는 값의 개수가 **유한**(**히스토그램**)\n",
    "* 연속확률변수 : 변수가 취할 수 있는 값의 개수가 **무한**(**막대그래프**)"
   ]
  },
  {
   "cell_type": "markdown",
   "metadata": {},
   "source": [
    "### 4) 확률 함수"
   ]
  },
  {
   "cell_type": "markdown",
   "metadata": {},
   "source": [
    "### 5) 확률 분포의 평균(mean)\n",
    "* 기대값(expected value)\n",
    "* **E(X)** 로 표시\n",
    "* 이산확률 분포의 기대값 : 확률을 가중값으로 사용한 가중평균\n",
    "* 연속확률분포의 기대값 : 적분개념의 면적"
   ]
  },
  {
   "cell_type": "markdown",
   "metadata": {},
   "source": [
    "### 6) 확률 분포 종류\n",
    "* 이산형 확률분포\n",
    "    * 이항분포(binomial distribution)\n",
    "    * 포아송분포(poisson distribution)\n",
    "* 연속형 확률분포 \n",
    "    * t 분포 : 소표본 모집단 평균 추론 시 활용\n",
    "    * 표준정규분포 : 대표본 모집단의 합, 평균 추론 시 활용\n",
    "    * 카이제곱 분포 : 모집단 분산 추론 시(데이터 정규분포 가정) 활용\n",
    "    * F 분포 : 두 모집단 분산 차이 비교 시 활용(데이터 정규분포 가정)"
   ]
  },
  {
   "cell_type": "markdown",
   "metadata": {},
   "source": [
    "#### 이항 분포\n",
    "\n",
    "* 베르누이 시행(Bernoulli trial)\n",
    "    * 시행 또는 실험의 결과가 두가지 중 하나인 경우\n",
    "\n",
    "* 이항분포\n",
    "    * X = 성공의 확률이 p인 베르누이 시행을 n번 반복할 대 성공의 수\n",
    "    * 성공확률이 0.5에 가까우면 시행회수 n의 크기에 관계 없이 좌우대칭 종 모양을 함"
   ]
  },
  {
   "cell_type": "markdown",
   "metadata": {},
   "source": [
    "#### 정규분포\n",
    "* 가장 대표적인 분포\n",
    "* 가우지안(Gaussian) 분포\n",
    "* 연속형 확률변수에 대한 분포\n",
    "* 평균과 표준편차로 모양이 결정\n",
    "    * 좌우대칭, 종모양\n",
    "    * 중앙 한점이 뾰족\n",
    "* 자연계, 사회현상에 많이 나타남\n",
    "* 평균 주위로 **+-1표준편차, +-2표준편차, +-3표준편차 안에 약 68%, 95%, 99%의 데이터**가 있다.\n",
    "* **평균을 0, 표준편차를 1로 변환하면 표준정규분포(Z분포)**"
   ]
  },
  {
   "cell_type": "markdown",
   "metadata": {},
   "source": [
    "---"
   ]
  },
  {
   "cell_type": "markdown",
   "metadata": {},
   "source": [
    "<br>"
   ]
  },
  {
   "cell_type": "markdown",
   "metadata": {},
   "source": [
    "## 표본의 추출방법\n",
    "* 무작위 (임의)추출 : 임의로 표본을 추출하는 방법\n",
    "* 복원추출 : 여러 차례 동일한 표본을 선택하는 방법\n",
    "* 비복원추출 : 동일한 표본은 한번만 선택하는 방버"
   ]
  },
  {
   "cell_type": "code",
   "execution_count": 1,
   "metadata": {},
   "outputs": [],
   "source": [
    "import numpy as np\n",
    "import pandas as pd\n",
    "import matplotlib.pyplot as plt\n",
    "\n",
    "%precision 3\n",
    "%matplotlib inline"
   ]
  },
  {
   "cell_type": "code",
   "execution_count": 2,
   "metadata": {},
   "outputs": [
    {
     "data": {
      "text/plain": [
       "0    76\n",
       "1    55\n",
       "2    80\n",
       "3    80\n",
       "4    74\n",
       "5    61\n",
       "6    81\n",
       "7    76\n",
       "8    23\n",
       "9    80\n",
       "Name: score, dtype: int64"
      ]
     },
     "execution_count": 2,
     "metadata": {},
     "output_type": "execute_result"
    }
   ],
   "source": [
    "df = pd.read_csv('./data/ch4_scores400.csv')\n",
    "scores = df['score']\n",
    "scores[:10]"
   ]
  },
  {
   "cell_type": "code",
   "execution_count": 3,
   "metadata": {},
   "outputs": [
    {
     "data": {
      "text/plain": [
       "array([2, 2, 3])"
      ]
     },
     "execution_count": 3,
     "metadata": {},
     "output_type": "execute_result"
    }
   ],
   "source": [
    "# 복원 추출 : 동일한 숫자가 추출 될 수 있음.\n",
    "np.random.choice([1,2,3],3)"
   ]
  },
  {
   "cell_type": "code",
   "execution_count": 4,
   "metadata": {},
   "outputs": [
    {
     "data": {
      "text/plain": [
       "array([2, 3, 1])"
      ]
     },
     "execution_count": 4,
     "metadata": {},
     "output_type": "execute_result"
    }
   ],
   "source": [
    "# 비복원 추출 : 동일한 숫자가 추출 X\n",
    "np.random.choice([1,2,3],3, replace=False)"
   ]
  },
  {
   "cell_type": "code",
   "execution_count": 5,
   "metadata": {},
   "outputs": [
    {
     "data": {
      "text/plain": [
       "array([3, 2, 3])"
      ]
     },
     "execution_count": 5,
     "metadata": {},
     "output_type": "execute_result"
    }
   ],
   "source": [
    "np.random.seed(123)\n",
    "np.random.choice([1,2,3],3)"
   ]
  },
  {
   "cell_type": "code",
   "execution_count": 6,
   "metadata": {},
   "outputs": [
    {
     "data": {
      "text/plain": [
       "70.4"
      ]
     },
     "execution_count": 6,
     "metadata": {},
     "output_type": "execute_result"
    }
   ],
   "source": [
    "# scores 데이터에서 sample 추출\n",
    "np.random.seed(0)\n",
    "sample = np.random.choice(scores, 20)\n",
    "\n",
    "# 표본 평균\n",
    "sample.mean()"
   ]
  },
  {
   "cell_type": "code",
   "execution_count": 7,
   "metadata": {},
   "outputs": [
    {
     "data": {
      "text/plain": [
       "69.530"
      ]
     },
     "execution_count": 7,
     "metadata": {},
     "output_type": "execute_result"
    }
   ],
   "source": [
    "# 전체 데이터의 평균\n",
    "scores.mean()"
   ]
  },
  {
   "cell_type": "code",
   "execution_count": 8,
   "metadata": {},
   "outputs": [
    {
     "name": "stdout",
     "output_type": "stream",
     "text": [
      "1번째 무작위 추출로 얻은 표본평균 72.45\n",
      "2번째 무작위 추출로 얻은 표본평균 63.7\n",
      "3번째 무작위 추출로 얻은 표본평균 66.05\n",
      "4번째 무작위 추출로 얻은 표본평균 71.7\n",
      "5번째 무작위 추출로 얻은 표본평균 74.15\n"
     ]
    }
   ],
   "source": [
    "for i in range(5):\n",
    "    sample = np.random.choice(scores, 20)\n",
    "    print(f'{i+1}번째 무작위 추출로 얻은 표본평균 {sample.mean()}')"
   ]
  },
  {
   "cell_type": "markdown",
   "metadata": {},
   "source": [
    "## 확률 모델"
   ]
  },
  {
   "cell_type": "code",
   "execution_count": 9,
   "metadata": {},
   "outputs": [
    {
     "data": {
      "text/plain": [
       "[0.048, 0.095, 0.143, 0.190, 0.238, 0.286]"
      ]
     },
     "execution_count": 9,
     "metadata": {},
     "output_type": "execute_result"
    }
   ],
   "source": [
    "# 불공정한 주사위의 확률분포를 구하는 실험\n",
    "# 확률 변수에 필요한 변수가 취할 수 있는 값 : dice\n",
    "dice = [1,2,3,4,5,6]\n",
    "\n",
    "# 그 값이 나올 수 있는 확률 : prob\n",
    "prob=[1/21,2/21,3/21,4/21,5/21,6/21]\n",
    "prob"
   ]
  },
  {
   "cell_type": "code",
   "execution_count": 10,
   "metadata": {},
   "outputs": [
    {
     "data": {
      "text/plain": [
       "1"
      ]
     },
     "execution_count": 10,
     "metadata": {},
     "output_type": "execute_result"
    }
   ],
   "source": [
    "np.random.choice(dice, p=prob)"
   ]
  },
  {
   "cell_type": "code",
   "execution_count": 11,
   "metadata": {},
   "outputs": [
    {
     "data": {
      "text/plain": [
       "array([4, 6, 4, 5, 5, 6, 6, 3, 5, 6, 5, 6, 6, 2, 3, 1, 6, 5, 6, 3, 4, 5,\n",
       "       3, 4, 3, 5, 5, 4, 4, 6, 4, 6, 5, 6, 5, 4, 6, 2, 6, 4, 5, 3, 4, 6,\n",
       "       5, 5, 5, 3, 4, 5, 4, 4, 6, 4, 4, 6, 6, 2, 2, 4, 5, 1, 6, 4, 3, 2,\n",
       "       2, 6, 3, 5, 4, 2, 4, 4, 6, 6, 1, 5, 3, 6, 6, 4, 2, 1, 6, 4, 4, 2,\n",
       "       4, 1, 3, 6, 6, 6, 4, 5, 4, 3, 3, 4])"
      ]
     },
     "execution_count": 11,
     "metadata": {},
     "output_type": "execute_result"
    }
   ],
   "source": [
    "num_trial = 100\n",
    "sample = np.random.choice(dice, num_trial, p=prob)\n",
    "sample"
   ]
  },
  {
   "cell_type": "code",
   "execution_count": 12,
   "metadata": {},
   "outputs": [
    {
     "data": {
      "text/html": [
       "<div>\n",
       "<style scoped>\n",
       "    .dataframe tbody tr th:only-of-type {\n",
       "        vertical-align: middle;\n",
       "    }\n",
       "\n",
       "    .dataframe tbody tr th {\n",
       "        vertical-align: top;\n",
       "    }\n",
       "\n",
       "    .dataframe thead th {\n",
       "        text-align: right;\n",
       "    }\n",
       "</style>\n",
       "<table border=\"1\" class=\"dataframe\">\n",
       "  <thead>\n",
       "    <tr style=\"text-align: right;\">\n",
       "      <th></th>\n",
       "      <th>frequency</th>\n",
       "      <th>rel.freq</th>\n",
       "    </tr>\n",
       "    <tr>\n",
       "      <th>dice</th>\n",
       "      <th></th>\n",
       "      <th></th>\n",
       "    </tr>\n",
       "  </thead>\n",
       "  <tbody>\n",
       "    <tr>\n",
       "      <th>1</th>\n",
       "      <td>5</td>\n",
       "      <td>0.05</td>\n",
       "    </tr>\n",
       "    <tr>\n",
       "      <th>2</th>\n",
       "      <td>9</td>\n",
       "      <td>0.09</td>\n",
       "    </tr>\n",
       "    <tr>\n",
       "      <th>3</th>\n",
       "      <td>13</td>\n",
       "      <td>0.13</td>\n",
       "    </tr>\n",
       "    <tr>\n",
       "      <th>4</th>\n",
       "      <td>27</td>\n",
       "      <td>0.27</td>\n",
       "    </tr>\n",
       "    <tr>\n",
       "      <th>5</th>\n",
       "      <td>19</td>\n",
       "      <td>0.19</td>\n",
       "    </tr>\n",
       "    <tr>\n",
       "      <th>6</th>\n",
       "      <td>27</td>\n",
       "      <td>0.27</td>\n",
       "    </tr>\n",
       "  </tbody>\n",
       "</table>\n",
       "</div>"
      ],
      "text/plain": [
       "      frequency  rel.freq\n",
       "dice                     \n",
       "1             5      0.05\n",
       "2             9      0.09\n",
       "3            13      0.13\n",
       "4            27      0.27\n",
       "5            19      0.19\n",
       "6            27      0.27"
      ]
     },
     "execution_count": 12,
     "metadata": {},
     "output_type": "execute_result"
    }
   ],
   "source": [
    "freq, _ = np.histogram(sample, bins=6, range=(1,7))\n",
    "pd.DataFrame({'frequency':freq,\n",
    "             'rel.freq': freq/num_trial},\n",
    "            index = pd.Index(np.arange(1,7), name = 'dice'))"
   ]
  },
  {
   "cell_type": "code",
   "execution_count": 13,
   "metadata": {},
   "outputs": [
    {
     "data": {
      "image/png": "[encoded data removed]",
      "text/plain": [
       "<Figure size 720x432 with 1 Axes>"
      ]
     },
     "metadata": {
      "needs_background": "light"
     },
     "output_type": "display_data"
    }
   ],
   "source": [
    "# 100번의 시도는 정해져 있는 확률과는 차이가 있다.\n",
    "\n",
    "fig = plt.figure(figsize=(10, 6))\n",
    "ax = fig.add_subplot(111)\n",
    "ax.hist(sample, bins=6, range=(1, 7), density=True, rwidth=0.8)\n",
    "# 실제의 확률분포를 가로선으로 표시\n",
    "ax.hlines(prob, np.arange(1, 7), np.arange(2, 8), colors='gray')\n",
    "# 막대 그래프의 [1.5, 2.5, ..., 6.5]에 눈금을 표시\n",
    "ax.set_xticks(np.linspace(1.5, 6.5, 6))\n",
    "# 주사위 눈의 값은 [1, 2, 3, 4, 5, 6]\n",
    "ax.set_xticklabels(np.arange(1, 7))\n",
    "ax.set_xlabel('dice')\n",
    "ax.set_ylabel('relative frequency')\n",
    "plt.show()\n"
   ]
  },
  {
   "cell_type": "code",
   "execution_count": 14,
   "metadata": {},
   "outputs": [
    {
     "data": {
      "image/png": "[encoded data removed]",
      "text/plain": [
       "<Figure size 720x432 with 1 Axes>"
      ]
     },
     "metadata": {
      "needs_background": "light"
     },
     "output_type": "display_data"
    }
   ],
   "source": [
    "# 10000번 시도\n",
    "num_trial = 10000\n",
    "sample = np.random.choice(dice, size=num_trial, p=prob)\n",
    "\n",
    "fig = plt.figure(figsize=(10, 6))\n",
    "ax = fig.add_subplot(111)\n",
    "ax.hist(sample, bins=6, range=(1, 7), density=True, rwidth=0.8)\n",
    "ax.hlines(prob, np.arange(1, 7), np.arange(2, 8), colors='gray')\n",
    "# ax.set_xticks(np.linspace(1.5, 6.5, 6))\n",
    "# ax.set_xticklabels(np.arange(1, 7))\n",
    "ax.set_xlabel('dice')\n",
    "ax.set_ylabel('relative frequency')\n",
    "plt.show()\n"
   ]
  },
  {
   "cell_type": "markdown",
   "metadata": {},
   "source": [
    "**시도할수록 실제 확률 분포에 가까워진다.**"
   ]
  },
  {
   "cell_type": "markdown",
   "metadata": {},
   "source": [
    "## 추론 통계에서 확률"
   ]
  },
  {
   "cell_type": "code",
   "execution_count": 15,
   "metadata": {},
   "outputs": [
    {
     "data": {
      "image/png": "[encoded data removed]",
      "text/plain": [
       "<Figure size 720x432 with 1 Axes>"
      ]
     },
     "metadata": {
      "needs_background": "light"
     },
     "output_type": "display_data"
    }
   ],
   "source": [
    "fig = plt.figure(figsize=(10, 6))\n",
    "ax = fig.add_subplot(111)\n",
    "ax.hist(scores, bins=100, range=(0, 100), density=True)\n",
    "ax.set_xlim(20, 100)\n",
    "ax.set_ylim(0, 0.042)\n",
    "ax.set_xlabel('score')\n",
    "ax.set_ylabel('relative frequency')\n",
    "plt.show()"
   ]
  },
  {
   "cell_type": "markdown",
   "metadata": {},
   "source": [
    "## 이산형/연속형 확률분포"
   ]
  },
  {
   "attachments": {
    "%ED%99%95%EB%A5%A0%EB%B6%84%ED%8F%AC%ED%95%A8%EC%88%98%EB%93%A4.png": {
     "image/png": "[encoded data removed]"
    }
   },
   "cell_type": "markdown",
   "metadata": {},
   "source": [
    "![%ED%99%95%EB%A5%A0%EB%B6%84%ED%8F%AC%ED%95%A8%EC%88%98%EB%93%A4.png](attachment:%ED%99%95%EB%A5%A0%EB%B6%84%ED%8F%AC%ED%95%A8%EC%88%98%EB%93%A4.png)"
   ]
  },
  {
   "cell_type": "markdown",
   "metadata": {},
   "source": [
    "---"
   ]
  },
  {
   "cell_type": "markdown",
   "metadata": {},
   "source": [
    "<br>"
   ]
  },
  {
   "cell_type": "markdown",
   "metadata": {},
   "source": [
    "## 통계적 추론(statistical inference)\n",
    "* 모집단에서 추출한 표본을 이용해 모집단의 특성(모수)를 예측하는 과정\n",
    "* 추정, 가설검정"
   ]
  },
  {
   "cell_type": "code",
   "execution_count": 16,
   "metadata": {},
   "outputs": [],
   "source": [
    "import numpy as np\n",
    "import pandas as pd\n",
    "from scipy import stats\n",
    "\n",
    "%precision 3\n",
    "np.random.seed(1111)"
   ]
  },
  {
   "cell_type": "code",
   "execution_count": 17,
   "metadata": {},
   "outputs": [],
   "source": [
    "import matplotlib.pyplot as plt"
   ]
  },
  {
   "cell_type": "markdown",
   "metadata": {},
   "source": [
    "**참고. 정규분포 관련 함수들**\n",
    "* stat.norm(평균, 표준편차) : 평균과 표준편차의 정규분포를 따르는 확률변수 생성\n",
    "* .pdf(확률변수) : 밀도함수 계산\n",
    "* .cdf(확률변수) : 누적분포함수 P(<=확률변수)\n",
    "* .isf(alpha) : 상위 alpha%가 되는 확률변수값 반환\n",
    "* .interval(alpha) : 확률이 alpha가 되는 가운데 부분의 구간 반환"
   ]
  },
  {
   "cell_type": "markdown",
   "metadata": {},
   "source": [
    "## 추정(estimation)"
   ]
  },
  {
   "cell_type": "markdown",
   "metadata": {},
   "source": [
    "### 모평균의 구간추정"
   ]
  },
  {
   "cell_type": "markdown",
   "metadata": {},
   "source": [
    "**문제1**\n",
    "\n",
    "표준정규분포로부터 표본을 뽑아 95% 신뢰구간을 구하는 것을 20번 반복했을 때, 몇 개의 신뢰구간이 모평균을 포함할지 확인"
   ]
  },
  {
   "cell_type": "code",
   "execution_count": 18,
   "metadata": {},
   "outputs": [],
   "source": [
    "# 성적 데이터\n",
    "\n",
    "df = pd.read_csv('./data/ch4_scores400.csv')\n",
    "scores = np.array(df['score'])"
   ]
  },
  {
   "cell_type": "code",
   "execution_count": 19,
   "metadata": {},
   "outputs": [
    {
     "data": {
      "text/plain": [
       "(69.53, 206.6691)"
      ]
     },
     "execution_count": 19,
     "metadata": {},
     "output_type": "execute_result"
    }
   ],
   "source": [
    "# 성적데이터 모집단의 평균과 분산 계산\n",
    "p_mean = np.mean(scores)\n",
    "p_var = np.var(scores)\n",
    "\n",
    "p_mean, p_var"
   ]
  },
  {
   "cell_type": "code",
   "execution_count": 20,
   "metadata": {},
   "outputs": [
    {
     "data": {
      "image/png": "[encoded data removed]",
      "text/plain": [
       "<Figure size 432x288 with 1 Axes>"
      ]
     },
     "metadata": {
      "needs_background": "light"
     },
     "output_type": "display_data"
    }
   ],
   "source": [
    "# 모집단의 분포\n",
    "xs = np.arange(101)\n",
    "rv = stats.norm(p_mean, np.sqrt(p_var))\n",
    "plt.plot(xs, rv.pdf(xs), color='gray') # 평균 69.53, 부산 206.67인 정규분포\n",
    "plt.hist(scores, bins=100, range = (0, 100), density=True)\n",
    "plt.show()"
   ]
  },
  {
   "cell_type": "code",
   "execution_count": 21,
   "metadata": {},
   "outputs": [
    {
     "data": {
      "text/plain": [
       "array([[68, 75, 91, 60, 76, 70, 59, 56, 77, 54, 77, 60, 67, 86, 70, 54,\n",
       "        52, 72, 57, 59],\n",
       "       [97, 55, 61, 89, 80, 85, 70, 67, 77, 81, 48, 67, 56, 74, 94, 64,\n",
       "        83, 65, 73, 71],\n",
       "       [78, 67, 43, 63, 79, 46, 89, 79, 86, 85, 70, 57, 55, 63, 49, 83,\n",
       "        83, 76, 62, 71],\n",
       "       [74, 62, 48, 73, 45, 67, 58, 83, 49, 83, 67, 59, 66, 52, 54, 53,\n",
       "        78, 80, 81, 57],\n",
       "       [63, 83, 67, 75, 74, 73, 77, 78, 66, 86, 82, 67, 78, 54, 65, 92,\n",
       "        64, 91, 61, 57]], dtype=int64)"
      ]
     },
     "execution_count": 21,
     "metadata": {},
     "output_type": "execute_result"
    }
   ],
   "source": [
    "# sample 데이터 생성\n",
    "n_sam = 10000\n",
    "n = 20\n",
    "samples = np.random.choice(scores, (n_sam, n))\n",
    "samples[:5]"
   ]
  },
  {
   "cell_type": "code",
   "execution_count": 22,
   "metadata": {},
   "outputs": [
    {
     "data": {
      "text/plain": [
       "1.9599639845400545"
      ]
     },
     "execution_count": 22,
     "metadata": {},
     "output_type": "execute_result"
    }
   ],
   "source": [
    "rv = stats.norm()\n",
    "rv.isf(0.025)"
   ]
  },
  {
   "cell_type": "code",
   "execution_count": 23,
   "metadata": {},
   "outputs": [
    {
     "data": {
      "image/png": "[encoded data removed]",
      "text/plain": [
       "<Figure size 432x288 with 1 Axes>"
      ]
     },
     "metadata": {
      "needs_background": "light"
     },
     "output_type": "display_data"
    }
   ],
   "source": [
    "# 모분산을 아는 경우 95% 신뢰구간 : 정규분포를 이용\n",
    "rv = stats.norm()\n",
    "n_samples = 20\n",
    "n = 20\n",
    "plt.vlines(p_mean, 0, 21)\n",
    "for i in  range(n_samples):\n",
    "    sample_ = samples[i]\n",
    "    s_mean = np.mean(sample_)\n",
    "    lcl = s_mean - rv.isf(0.025) * np.sqrt(p_var/n)\n",
    "    ucl = s_mean + rv.isf(0.025) * np.sqrt(p_var/n)\n",
    "#     ucl = s_mean - rv.isf(0.975) * np.sqrt(n_var/20)\n",
    "    if lcl <= p_mean <= ucl:\n",
    "        plt.scatter(s_mean, n_samples-i, color='gray')\n",
    "        plt.hlines(n_samples-i, lcl, ucl, color='gray')\n",
    "    else:\n",
    "        plt.scatter(s_mean, n_samples-i, color='b')\n",
    "        plt.hlines(n_samples-i, lcl, ucl, color='b')\n",
    "\n",
    "plt.xticks([p_mean])\n",
    "plt.xlabel('population mean')\n",
    "plt.show()"
   ]
  },
  {
   "cell_type": "code",
   "execution_count": 24,
   "metadata": {},
   "outputs": [
    {
     "data": {
      "text/plain": [
       "(61.94197882534913, 72.05802117465088)"
      ]
     },
     "execution_count": 24,
     "metadata": {},
     "output_type": "execute_result"
    }
   ],
   "source": [
    "# 모분산을 모르는 경우 95% 신뢰구간 : t-분포를 이용\n",
    "n = 20\n",
    "alpha = 0.025\n",
    "sample_ = samples[0]\n",
    "s_mean = np.mean(sample_)\n",
    "s_var = np.var(sample_)\n",
    "rv = stats.t(df=n-1) #자유도 = n-1\n",
    "lcl = s_mean - rv.isf(alpha) * np.sqrt(s_var/n)\n",
    "ucl = s_mean + rv.isf(alpha) * np.sqrt(s_var/n)\n",
    "lcl, ucl"
   ]
  },
  {
   "cell_type": "code",
   "execution_count": 25,
   "metadata": {},
   "outputs": [
    {
     "data": {
      "image/png": "[encoded data removed]",
      "text/plain": [
       "<Figure size 432x288 with 1 Axes>"
      ]
     },
     "metadata": {
      "needs_background": "light"
     },
     "output_type": "display_data"
    }
   ],
   "source": [
    "n_samples = 20\n",
    "n = 20\n",
    "rv = stats.t(df = n-1)\n",
    "alpha = 0.025\n",
    "plt.vlines(p_mean, 0, 21)\n",
    "for i in range(n_samples):\n",
    "    sample_ = samples[i]\n",
    "    s_mean = np.mean(sample_)\n",
    "    lcl = s_mean - rv.isf(alpha) * np.sqrt(s_var / n)\n",
    "    ucl = s_mean + rv.isf(alpha) * np.sqrt(s_var / n)\n",
    "#     ucl = s_mean - rv.isf(0.975) * np.sqrt(n_var / 20)\n",
    "    if lcl <= p_mean <= ucl:\n",
    "        plt.scatter(s_mean, n_samples-i, color = 'gray')\n",
    "        plt.hlines(n_samples - i, lcl, ucl, color = 'gray')\n",
    "    else:\n",
    "        plt.scatter(s_mean, n_samples-i, color = 'b')\n",
    "        plt.hlines(n_samples - i, lcl, ucl, color = 'b')\n",
    "\n",
    "plt.xticks([p_mean])\n",
    "plt.xlabel('population mean')\n",
    "plt.show()"
   ]
  },
  {
   "cell_type": "markdown",
   "metadata": {},
   "source": [
    "**문제2**  \n",
    "만 7세 어린이 중 부모의 동의를 얻은 학생 중 10명을 표본으로 추출.  \n",
    "머리 둘레를 측정한 결과를 기준으로 모평균을 95% 신뢰수준에서 신뢰구간을 추정하시오.\n"
   ]
  },
  {
   "cell_type": "code",
   "execution_count": 26,
   "metadata": {},
   "outputs": [
    {
     "name": "stdout",
     "output_type": "stream",
     "text": [
      "515.9 249.89000000000001\n",
      "10\n"
     ]
    },
    {
     "data": {
      "text/plain": [
       "(504.59170283295526, 527.2082971670446)"
      ]
     },
     "execution_count": 26,
     "metadata": {},
     "output_type": "execute_result"
    }
   ],
   "source": [
    "# 표본 데이터\n",
    "data = [520, 498, 481, 512, 515, 542, 520, 518, 527, 526]\n",
    "s_mean = np.mean(data)\n",
    "s_var = np.var(data)\n",
    "print(s_mean, s_var)\n",
    "\n",
    "n = len(data)\n",
    "print(n)\n",
    "\n",
    "# t-분포를 이용한 경우\n",
    "alpha = 0.025 # 신뢰수준\n",
    "rv = stats.t(df=n-1) #자유도 = n-1\n",
    "lcl = s_mean - rv.isf(alpha) * np.sqrt(s_var/n)\n",
    "ucl = s_mean + rv.isf(alpha) * np.sqrt(s_var/n)\n",
    "lcl, ucl"
   ]
  },
  {
   "cell_type": "code",
   "execution_count": 27,
   "metadata": {},
   "outputs": [
    {
     "data": {
      "text/plain": [
       "(506.10233627489055, 525.6976637251095)"
      ]
     },
     "execution_count": 27,
     "metadata": {},
     "output_type": "execute_result"
    }
   ],
   "source": [
    "# 정규분포를 이용한 경우\n",
    "\n",
    "rv = stats.norm() #자유도 = n-1\n",
    "alpha = 0.025\n",
    "lcl = s_mean - rv.isf(alpha) * np.sqrt(s_var/n)\n",
    "ucl = s_mean + rv.isf(alpha) * np.sqrt(s_var/n)\n",
    "lcl, ucl"
   ]
  },
  {
   "cell_type": "markdown",
   "metadata": {},
   "source": [
    "---"
   ]
  },
  {
   "cell_type": "markdown",
   "metadata": {},
   "source": [
    "## 통계적 가설검정(test) "
   ]
  },
  {
   "cell_type": "markdown",
   "metadata": {},
   "source": [
    "**문제(p.294)**  \n",
    "감자튀김 무게가 평균 130g으로 알려져있다."
   ]
  },
  {
   "cell_type": "code",
   "execution_count": 28,
   "metadata": {},
   "outputs": [
    {
     "data": {
      "text/plain": [
       "array([122.02, 131.73, 130.6 , 131.82, 132.05, 126.12, 124.43, 132.89,\n",
       "       122.79, 129.95, 126.14, 134.45, 127.64, 125.68])"
      ]
     },
     "execution_count": 28,
     "metadata": {},
     "output_type": "execute_result"
    }
   ],
   "source": [
    "# 감자 무게 측정데이터\n",
    "df = pd.read_csv('./data/ch11_potato.csv')\n",
    "sample = np.array(df['무게'])\n",
    "sample"
   ]
  },
  {
   "cell_type": "code",
   "execution_count": 29,
   "metadata": {},
   "outputs": [
    {
     "data": {
      "text/plain": [
       "128.4507142857143"
      ]
     },
     "execution_count": 29,
     "metadata": {},
     "output_type": "execute_result"
    }
   ],
   "source": [
    "# 표본 평균 확인\n",
    "s_mean = np.mean(sample)\n",
    "s_mean"
   ]
  },
  {
   "cell_type": "code",
   "execution_count": 30,
   "metadata": {},
   "outputs": [
    {
     "data": {
      "text/plain": [
       "14.735449489795883"
      ]
     },
     "execution_count": 30,
     "metadata": {},
     "output_type": "execute_result"
    }
   ],
   "source": [
    "# 표본 분산 확인\n",
    "s_var = np.var(sample)\n",
    "s_var"
   ]
  },
  {
   "cell_type": "code",
   "execution_count": 31,
   "metadata": {},
   "outputs": [
    {
     "data": {
      "text/plain": [
       "128.68118313069039"
      ]
     },
     "execution_count": 31,
     "metadata": {},
     "output_type": "execute_result"
    }
   ],
   "source": [
    "# 모분산 = 9\n",
    "rv = stats.norm(130, np.sqrt(9/14))\n",
    "rv.isf(0.95) \n",
    "# 평균이 130이였을 때, 0.95부분이 128.6811831...\n",
    "# 하지만 표본의 평균이 128.45 이므로  감자튀김의 평균 무게가 130g이라는 주장에 반대할 수 있다."
   ]
  },
  {
   "cell_type": "markdown",
   "metadata": {},
   "source": [
    "### p값은 누적 분포 함수로 구할 수 있음"
   ]
  },
  {
   "cell_type": "markdown",
   "metadata": {},
   "source": [
    "#### 검정통계량 z는 아래와 같이 설정하자\n",
    "* 유의 수준은 0.05(5%)로 설정"
   ]
  },
  {
   "cell_type": "code",
   "execution_count": 32,
   "metadata": {},
   "outputs": [
    {
     "data": {
      "text/plain": [
       "-1.932298779026813"
      ]
     },
     "execution_count": 32,
     "metadata": {},
     "output_type": "execute_result"
    }
   ],
   "source": [
    "# 검정 통계량 Z\n",
    "Z = (s_mean - 130) / np.sqrt(9/14)\n",
    "Z\n",
    "# 검정 통계량 = -1.9322.."
   ]
  },
  {
   "cell_type": "code",
   "execution_count": 33,
   "metadata": {},
   "outputs": [
    {
     "data": {
      "text/plain": [
       "0.0"
      ]
     },
     "execution_count": 33,
     "metadata": {},
     "output_type": "execute_result"
    }
   ],
   "source": [
    "# p-value\n",
    "rv.cdf(Z)"
   ]
  },
  {
   "cell_type": "markdown",
   "metadata": {},
   "source": [
    "* p값을 기준으로 하는 가설 검정\n",
    "    1. 가설을 세운다.\n",
    "    2. 유의수준을 결정\n",
    "    3. 검정통계량을 계산\n",
    "    4. p값을 계산\n",
    "    5. p값이 유의수분보다 크다면 귀무가설채택  \n",
    "    그렇지 않으면 귀무가설을 기각"
   ]
  },
  {
   "cell_type": "code",
   "execution_count": 34,
   "metadata": {},
   "outputs": [
    {
     "data": {
      "text/plain": [
       "-1.6448536269514722"
      ]
     },
     "execution_count": 34,
     "metadata": {},
     "output_type": "execute_result"
    }
   ],
   "source": [
    "rv=stats.norm()\n",
    "rv.isf(0.95) # isf 는 확률에 대한 x값을 계산"
   ]
  },
  {
   "cell_type": "markdown",
   "metadata": {},
   "source": [
    "### 단측검정과 양측검정에서는 기각역이 다르다."
   ]
  },
  {
   "cell_type": "code",
   "execution_count": 35,
   "metadata": {},
   "outputs": [
    {
     "data": {
      "text/plain": [
       "-1.932298779026813"
      ]
     },
     "execution_count": 35,
     "metadata": {},
     "output_type": "execute_result"
    }
   ],
   "source": [
    "# 검정 통계량\n",
    "Z = (s_mean - 130) / np.sqrt(9/14)\n",
    "Z"
   ]
  },
  {
   "cell_type": "code",
   "execution_count": 36,
   "metadata": {},
   "outputs": [
    {
     "data": {
      "text/plain": [
       "(-1.959963984540054, 1.959963984540054)"
      ]
     },
     "execution_count": 36,
     "metadata": {},
     "output_type": "execute_result"
    }
   ],
   "source": [
    "# 양측검정, 임계값 : 표준 정규분포의 95% 구간에 따라 구할 수 있음\n",
    "rv=stats.norm()\n",
    "rv.interval(0.95) # 유의수준 0.95에 양쪽의 기각역의 위치라고 생각하면 될듯"
   ]
  },
  {
   "cell_type": "markdown",
   "metadata": {},
   "source": [
    "* 임곗값과 검정 통계량을 비교해 보면 검정통계량이 채택역에 들어 있다. => 귀무가설이 기각되지 않는다."
   ]
  },
  {
   "cell_type": "code",
   "execution_count": 37,
   "metadata": {},
   "outputs": [
    {
     "data": {
      "text/plain": [
       "0.05332263904625327"
      ]
     },
     "execution_count": 37,
     "metadata": {},
     "output_type": "execute_result"
    }
   ],
   "source": [
    "# 양측검정의 p값\n",
    "rv.cdf(Z)*2 #cdf는 x가 주어지면 y값을 반환"
   ]
  },
  {
   "cell_type": "markdown",
   "metadata": {},
   "source": [
    "### 가설검정에서의 두가지 오류"
   ]
  },
  {
   "cell_type": "markdown",
   "metadata": {},
   "source": [
    "* 제 1종 오류\n",
    "    * 실제로 '평균이 130g'인데도 '평균은 130g보다 작다'라는 결론을 내리는 상황\n",
    "    * 본래 검출하지 말아야 할 것을 검출한 것이므로 오탐(false negative)\n",
    "    * 위험률 : 제 1종 오류를 범하는 확률 a\n",
    "\n",
    "* 제 2종 오류\n",
    "    * 실제로 '평균이 130g보다 작다'인데도 '평균은 130g보다 작다'라는 결론을 얻을 수 없는 상황\n",
    "    * 본래 검출해야 하는 것을 검출하지 못했으므로 미탐(false negative)"
   ]
  },
  {
   "cell_type": "markdown",
   "metadata": {},
   "source": [
    "### 모분산을 아는 경우"
   ]
  },
  {
   "cell_type": "code",
   "execution_count": 38,
   "metadata": {},
   "outputs": [],
   "source": [
    "# 모분산을 아는 경우 모평균에 대한 양측검정을 위한 함수\n",
    "# 정규분포를 기반\n",
    "\n",
    "def pmean_test(sample, mean0, p_var, alpha=0.05):\n",
    "    s_mean = np.mean(sample)\n",
    "    n = len(sample)\n",
    "    rv = stats.norm()\n",
    "    interval = rv.interval(1-alpha)\n",
    "\n",
    "    z = (s_mean - mean0) / np.sqrt(p_var/n)\n",
    "    if interval[0] <= z <= interval[1]:\n",
    "        print('귀무가설을 채택')\n",
    "    else:\n",
    "        print('귀무가설을 기각')\n",
    "\n",
    "    if z < 0:\n",
    "        p = rv.cdf(z) * 2\n",
    "    else:\n",
    "        p = (1 - rv.cdf(z)) * 2\n",
    "    print(f'p값은 {p:.3f}')\n"
   ]
  },
  {
   "cell_type": "markdown",
   "metadata": {},
   "source": [
    "### 모분산을 알지 못함"
   ]
  },
  {
   "cell_type": "code",
   "execution_count": 39,
   "metadata": {},
   "outputs": [],
   "source": [
    "# 양측검정, t-분포를 이용\n",
    "\n",
    "def pmean_test(sample, mean0, alpha=0.05):\n",
    "    s_mean = np.mean(sample)\n",
    "    u_var = np.var(sample, ddof=1)\n",
    "    n = len(sample)\n",
    "    rv = stats.t(df=n-1)\n",
    "    interval = rv.interval(1-alpha) # 임계값 계산\n",
    "\n",
    "    t = (s_mean - mean0) / np.sqrt(u_var/n)\n",
    "    if interval[0] <= t <= interval[1]:\n",
    "        print('귀무가설을 채택')\n",
    "    else:\n",
    "        print('귀무가설을 기각')\n",
    "\n",
    "    if t < 0:\n",
    "        p = rv.cdf(t) * 2 # p-value\n",
    "    else:\n",
    "        p = (1 - rv.cdf(t)) * 2\n",
    "    print(f'p값은 {p:.3f}')\n"
   ]
  },
  {
   "cell_type": "code",
   "execution_count": 40,
   "metadata": {},
   "outputs": [
    {
     "name": "stdout",
     "output_type": "stream",
     "text": [
      "귀무가설을 채택\n",
      "p값은 0.169\n"
     ]
    }
   ],
   "source": [
    "pmean_test(sample, 130)"
   ]
  },
  {
   "cell_type": "code",
   "execution_count": 41,
   "metadata": {},
   "outputs": [
    {
     "data": {
      "text/plain": [
       "(-1.4551960206404198, 0.16933464230414275)"
      ]
     },
     "execution_count": 41,
     "metadata": {},
     "output_type": "execute_result"
    }
   ],
   "source": [
    "# scipy.stats에 구현\n",
    "t, p = stats.ttest_1samp(sample,130)\n",
    "t, p # 통계량, p-value"
   ]
  },
  {
   "cell_type": "markdown",
   "metadata": {},
   "source": [
    "---"
   ]
  },
  {
   "cell_type": "markdown",
   "metadata": {},
   "source": [
    "## t-test(t-검정)"
   ]
  },
  {
   "cell_type": "markdown",
   "metadata": {},
   "source": [
    "* one sample t-test\n",
    "    * 정규성 가정\n",
    "    * stats.ttest_1samp()\n",
    "* two sample t-test\n",
    "    * 정규성, 등분산성 가정\n",
    "    * 등분산 stats.ttest_ind(a,b, equal_var=True)\n",
    "    * 이분산 stats.ttest_ind(a,b, equal_var=False)\n",
    "    * 정규성 만족하지 않는 경우 : Mann-Whitney rank test\n",
    "        * stats.mannwhitneyu(a,b)\n",
    "    \n",
    "* paired sample t-test\n",
    "    * 정규성 만족 : stats.ttest_1samp(a,b, popmean=모집단평균)\n",
    "    * 정규성 만족하지 않는 경우 : Wilcoxon signed-rank test\n",
    "        * stats.wilcoxon(before, after)"
   ]
  },
  {
   "cell_type": "markdown",
   "metadata": {},
   "source": [
    "### 대응표본 t-test"
   ]
  },
  {
   "cell_type": "markdown",
   "metadata": {},
   "source": [
    "- 근력 운동 전후 집중력 비교\n",
    "- 귀무가설 : 전 == 후\n",
    "- 대립가설 : 전 != 후"
   ]
  },
  {
   "cell_type": "code",
   "execution_count": 44,
   "metadata": {},
   "outputs": [
    {
     "name": "stdout",
     "output_type": "stream",
     "text": [
      "(20, 2)\n"
     ]
    },
    {
     "data": {
      "text/html": [
       "<div>\n",
       "<style scoped>\n",
       "    .dataframe tbody tr th:only-of-type {\n",
       "        vertical-align: middle;\n",
       "    }\n",
       "\n",
       "    .dataframe tbody tr th {\n",
       "        vertical-align: top;\n",
       "    }\n",
       "\n",
       "    .dataframe thead th {\n",
       "        text-align: right;\n",
       "    }\n",
       "</style>\n",
       "<table border=\"1\" class=\"dataframe\">\n",
       "  <thead>\n",
       "    <tr style=\"text-align: right;\">\n",
       "      <th></th>\n",
       "      <th>전</th>\n",
       "      <th>후</th>\n",
       "    </tr>\n",
       "  </thead>\n",
       "  <tbody>\n",
       "    <tr>\n",
       "      <th>0</th>\n",
       "      <td>59</td>\n",
       "      <td>41</td>\n",
       "    </tr>\n",
       "    <tr>\n",
       "      <th>1</th>\n",
       "      <td>52</td>\n",
       "      <td>63</td>\n",
       "    </tr>\n",
       "    <tr>\n",
       "      <th>2</th>\n",
       "      <td>55</td>\n",
       "      <td>68</td>\n",
       "    </tr>\n",
       "    <tr>\n",
       "      <th>3</th>\n",
       "      <td>61</td>\n",
       "      <td>59</td>\n",
       "    </tr>\n",
       "    <tr>\n",
       "      <th>4</th>\n",
       "      <td>59</td>\n",
       "      <td>84</td>\n",
       "    </tr>\n",
       "  </tbody>\n",
       "</table>\n",
       "</div>"
      ],
      "text/plain": [
       "    전   후\n",
       "0  59  41\n",
       "1  52  63\n",
       "2  55  68\n",
       "3  61  59\n",
       "4  59  84"
      ]
     },
     "execution_count": 44,
     "metadata": {},
     "output_type": "execute_result"
    }
   ],
   "source": [
    "# 대응표본 샘플데이터\n",
    "data = pd.read_csv('./data/ch11_training_rel.csv')\n",
    "print(data.shape)\n",
    "data.head()"
   ]
  },
  {
   "cell_type": "code",
   "execution_count": 46,
   "metadata": {},
   "outputs": [
    {
     "data": {
      "text/html": [
       "<div>\n",
       "<style scoped>\n",
       "    .dataframe tbody tr th:only-of-type {\n",
       "        vertical-align: middle;\n",
       "    }\n",
       "\n",
       "    .dataframe tbody tr th {\n",
       "        vertical-align: top;\n",
       "    }\n",
       "\n",
       "    .dataframe thead th {\n",
       "        text-align: right;\n",
       "    }\n",
       "</style>\n",
       "<table border=\"1\" class=\"dataframe\">\n",
       "  <thead>\n",
       "    <tr style=\"text-align: right;\">\n",
       "      <th></th>\n",
       "      <th>전</th>\n",
       "      <th>후</th>\n",
       "    </tr>\n",
       "  </thead>\n",
       "  <tbody>\n",
       "    <tr>\n",
       "      <th>count</th>\n",
       "      <td>20.000000</td>\n",
       "      <td>20.000000</td>\n",
       "    </tr>\n",
       "    <tr>\n",
       "      <th>mean</th>\n",
       "      <td>52.850000</td>\n",
       "      <td>58.250000</td>\n",
       "    </tr>\n",
       "    <tr>\n",
       "      <th>std</th>\n",
       "      <td>4.295346</td>\n",
       "      <td>11.964311</td>\n",
       "    </tr>\n",
       "    <tr>\n",
       "      <th>min</th>\n",
       "      <td>45.000000</td>\n",
       "      <td>37.000000</td>\n",
       "    </tr>\n",
       "    <tr>\n",
       "      <th>25%</th>\n",
       "      <td>50.500000</td>\n",
       "      <td>51.750000</td>\n",
       "    </tr>\n",
       "    <tr>\n",
       "      <th>50%</th>\n",
       "      <td>52.000000</td>\n",
       "      <td>58.500000</td>\n",
       "    </tr>\n",
       "    <tr>\n",
       "      <th>75%</th>\n",
       "      <td>55.500000</td>\n",
       "      <td>65.750000</td>\n",
       "    </tr>\n",
       "    <tr>\n",
       "      <th>max</th>\n",
       "      <td>61.000000</td>\n",
       "      <td>84.000000</td>\n",
       "    </tr>\n",
       "  </tbody>\n",
       "</table>\n",
       "</div>"
      ],
      "text/plain": [
       "               전          후\n",
       "count  20.000000  20.000000\n",
       "mean   52.850000  58.250000\n",
       "std     4.295346  11.964311\n",
       "min    45.000000  37.000000\n",
       "25%    50.500000  51.750000\n",
       "50%    52.000000  58.500000\n",
       "75%    55.500000  65.750000\n",
       "max    61.000000  84.000000"
      ]
     },
     "execution_count": 46,
     "metadata": {},
     "output_type": "execute_result"
    }
   ],
   "source": [
    "# 기술 통계\n",
    "data.describe()"
   ]
  },
  {
   "cell_type": "code",
   "execution_count": 47,
   "metadata": {},
   "outputs": [
    {
     "data": {
      "image/png": "[encoded data removed]",
      "text/plain": [
       "<Figure size 432x288 with 1 Axes>"
      ]
     },
     "metadata": {
      "needs_background": "light"
     },
     "output_type": "display_data"
    }
   ],
   "source": [
    "# 데이터의 시각화 : 상자그림표\n",
    "import matplotlib.pyplot as plt\n",
    "\n",
    "plt.boxplot(data)\n",
    "plt.show()"
   ]
  },
  {
   "cell_type": "markdown",
   "metadata": {},
   "source": [
    "#### 정규성 검정"
   ]
  },
  {
   "cell_type": "code",
   "execution_count": 48,
   "metadata": {},
   "outputs": [
    {
     "data": {
      "text/plain": [
       "ShapiroResult(statistic=0.9670043587684631, pvalue=0.6907904148101807)"
      ]
     },
     "execution_count": 48,
     "metadata": {},
     "output_type": "execute_result"
    }
   ],
   "source": [
    "# 정규성 검정\n",
    "stats.shapiro(data.전)"
   ]
  },
  {
   "cell_type": "code",
   "execution_count": 49,
   "metadata": {},
   "outputs": [
    {
     "data": {
      "text/plain": [
       "ShapiroResult(statistic=0.9786623120307922, pvalue=0.9156785011291504)"
      ]
     },
     "execution_count": 49,
     "metadata": {},
     "output_type": "execute_result"
    }
   ],
   "source": [
    "stats.shapiro(data.후)"
   ]
  },
  {
   "cell_type": "code",
   "execution_count": 50,
   "metadata": {},
   "outputs": [
    {
     "data": {
      "text/plain": [
       "0     18\n",
       "1    -11\n",
       "2    -13\n",
       "3      2\n",
       "4    -25\n",
       "5      8\n",
       "6     -5\n",
       "7     -3\n",
       "8    -19\n",
       "9    -18\n",
       "10    -6\n",
       "11    -8\n",
       "12     3\n",
       "13    13\n",
       "14    -2\n",
       "15    -6\n",
       "16   -16\n",
       "17   -16\n",
       "18    -2\n",
       "19    -2\n",
       "dtype: int64"
      ]
     },
     "execution_count": 50,
     "metadata": {},
     "output_type": "execute_result"
    }
   ],
   "source": [
    "diff = data.전 - data.후\n",
    "diff"
   ]
  },
  {
   "cell_type": "code",
   "execution_count": 52,
   "metadata": {},
   "outputs": [
    {
     "data": {
      "text/plain": [
       "ShapiroResult(statistic=0.9785391688346863, pvalue=0.9138697981834412)"
      ]
     },
     "execution_count": 52,
     "metadata": {},
     "output_type": "execute_result"
    }
   ],
   "source": [
    "stats.shapiro(diff)"
   ]
  },
  {
   "cell_type": "code",
   "execution_count": 54,
   "metadata": {},
   "outputs": [
    {
     "data": {
      "image/png": "[encoded data removed]",
      "text/plain": [
       "<Figure size 432x288 with 1 Axes>"
      ]
     },
     "metadata": {
      "needs_background": "light"
     },
     "output_type": "display_data"
    }
   ],
   "source": [
    "plt.boxplot(diff)\n",
    "plt.show()"
   ]
  },
  {
   "cell_type": "markdown",
   "metadata": {},
   "source": [
    "#### 대응표본 t 검정 수행"
   ]
  },
  {
   "cell_type": "code",
   "execution_count": 55,
   "metadata": {},
   "outputs": [
    {
     "data": {
      "text/plain": [
       "Ttest_1sampResult(statistic=-2.204154108716127, pvalue=0.04004419061842953)"
      ]
     },
     "execution_count": 55,
     "metadata": {},
     "output_type": "execute_result"
    }
   ],
   "source": [
    "stats.ttest_1samp(data.전-data.후, 0)"
   ]
  },
  {
   "cell_type": "markdown",
   "metadata": {},
   "source": [
    "=> 귀무가설을 기각하므로, 근력운동이 집중력에 영향이 있다고 볼 수 있다."
   ]
  },
  {
   "cell_type": "markdown",
   "metadata": {},
   "source": [
    "### 독립 표본 t-test\n",
    "* 독립된 두 집단의 평균 비교\n",
    "* 귀무가설 : 두 집단의 평균은 같다.\n",
    "* 대립가설 : 두 집단의 평균은 차이가 있다.\n",
    "\n",
    "* 반별 점수 차가 있는지?\n",
    "* 두 집단은 정규성을 띄어야 한다, 두 집단의 분산에 따라 다른 검정식을 사용한다."
   ]
  },
  {
   "cell_type": "markdown",
   "metadata": {},
   "source": [
    "#### 선행조건\n",
    "* 독립성 : 두 그룹은 서로 독립적이어야 함\n",
    "* 정규성 : 데이터는 정규분포를 따라야 함\n",
    "    * 만약, 정규성을 띄지 않으면 비모수적인 방법인 부호검정을 진행\n",
    "* 등분산성 : 두 그룹의 데이터에 대한 분산이 같아야 함\n",
    "    * Levene의 등분산 검정"
   ]
  },
  {
   "cell_type": "markdown",
   "metadata": {},
   "source": [
    "**예제 데이터**\n",
    "- 두 학급(A,B)에 근력운동을 수행하여 집중력 테스트\n",
    "- 귀무가설 : 두 학급의 집중력 차이가 없다.\n",
    "- 대립가설 : 두 학급의 집중력 차이가 있다.(양측검정)"
   ]
  },
  {
   "cell_type": "code",
   "execution_count": 56,
   "metadata": {},
   "outputs": [
    {
     "data": {
      "text/plain": [
       "(20, 2)"
      ]
     },
     "execution_count": 56,
     "metadata": {},
     "output_type": "execute_result"
    }
   ],
   "source": [
    "data = pd.read_csv('./data/ch11_training_ind.csv')\n",
    "data.shape"
   ]
  },
  {
   "cell_type": "code",
   "execution_count": 57,
   "metadata": {},
   "outputs": [
    {
     "data": {
      "text/html": [
       "<div>\n",
       "<style scoped>\n",
       "    .dataframe tbody tr th:only-of-type {\n",
       "        vertical-align: middle;\n",
       "    }\n",
       "\n",
       "    .dataframe tbody tr th {\n",
       "        vertical-align: top;\n",
       "    }\n",
       "\n",
       "    .dataframe thead th {\n",
       "        text-align: right;\n",
       "    }\n",
       "</style>\n",
       "<table border=\"1\" class=\"dataframe\">\n",
       "  <thead>\n",
       "    <tr style=\"text-align: right;\">\n",
       "      <th></th>\n",
       "      <th>A</th>\n",
       "      <th>B</th>\n",
       "    </tr>\n",
       "  </thead>\n",
       "  <tbody>\n",
       "    <tr>\n",
       "      <th>0</th>\n",
       "      <td>47</td>\n",
       "      <td>49</td>\n",
       "    </tr>\n",
       "    <tr>\n",
       "      <th>1</th>\n",
       "      <td>50</td>\n",
       "      <td>52</td>\n",
       "    </tr>\n",
       "    <tr>\n",
       "      <th>2</th>\n",
       "      <td>37</td>\n",
       "      <td>54</td>\n",
       "    </tr>\n",
       "    <tr>\n",
       "      <th>3</th>\n",
       "      <td>60</td>\n",
       "      <td>48</td>\n",
       "    </tr>\n",
       "    <tr>\n",
       "      <th>4</th>\n",
       "      <td>39</td>\n",
       "      <td>51</td>\n",
       "    </tr>\n",
       "  </tbody>\n",
       "</table>\n",
       "</div>"
      ],
      "text/plain": [
       "    A   B\n",
       "0  47  49\n",
       "1  50  52\n",
       "2  37  54\n",
       "3  60  48\n",
       "4  39  51"
      ]
     },
     "execution_count": 57,
     "metadata": {},
     "output_type": "execute_result"
    }
   ],
   "source": [
    "data.head()"
   ]
  },
  {
   "cell_type": "code",
   "execution_count": 58,
   "metadata": {},
   "outputs": [
    {
     "data": {
      "text/html": [
       "<div>\n",
       "<style scoped>\n",
       "    .dataframe tbody tr th:only-of-type {\n",
       "        vertical-align: middle;\n",
       "    }\n",
       "\n",
       "    .dataframe tbody tr th {\n",
       "        vertical-align: top;\n",
       "    }\n",
       "\n",
       "    .dataframe thead th {\n",
       "        text-align: right;\n",
       "    }\n",
       "</style>\n",
       "<table border=\"1\" class=\"dataframe\">\n",
       "  <thead>\n",
       "    <tr style=\"text-align: right;\">\n",
       "      <th></th>\n",
       "      <th>A</th>\n",
       "      <th>B</th>\n",
       "    </tr>\n",
       "  </thead>\n",
       "  <tbody>\n",
       "    <tr>\n",
       "      <th>count</th>\n",
       "      <td>20.000000</td>\n",
       "      <td>20.000000</td>\n",
       "    </tr>\n",
       "    <tr>\n",
       "      <th>mean</th>\n",
       "      <td>48.750000</td>\n",
       "      <td>52.050000</td>\n",
       "    </tr>\n",
       "    <tr>\n",
       "      <th>std</th>\n",
       "      <td>6.711145</td>\n",
       "      <td>5.020746</td>\n",
       "    </tr>\n",
       "    <tr>\n",
       "      <th>min</th>\n",
       "      <td>37.000000</td>\n",
       "      <td>41.000000</td>\n",
       "    </tr>\n",
       "    <tr>\n",
       "      <th>25%</th>\n",
       "      <td>44.750000</td>\n",
       "      <td>49.000000</td>\n",
       "    </tr>\n",
       "    <tr>\n",
       "      <th>50%</th>\n",
       "      <td>48.500000</td>\n",
       "      <td>52.000000</td>\n",
       "    </tr>\n",
       "    <tr>\n",
       "      <th>75%</th>\n",
       "      <td>53.000000</td>\n",
       "      <td>54.250000</td>\n",
       "    </tr>\n",
       "    <tr>\n",
       "      <th>max</th>\n",
       "      <td>64.000000</td>\n",
       "      <td>64.000000</td>\n",
       "    </tr>\n",
       "  </tbody>\n",
       "</table>\n",
       "</div>"
      ],
      "text/plain": [
       "               A          B\n",
       "count  20.000000  20.000000\n",
       "mean   48.750000  52.050000\n",
       "std     6.711145   5.020746\n",
       "min    37.000000  41.000000\n",
       "25%    44.750000  49.000000\n",
       "50%    48.500000  52.000000\n",
       "75%    53.000000  54.250000\n",
       "max    64.000000  64.000000"
      ]
     },
     "execution_count": 58,
     "metadata": {},
     "output_type": "execute_result"
    }
   ],
   "source": [
    "data.describe()"
   ]
  },
  {
   "cell_type": "code",
   "execution_count": 60,
   "metadata": {},
   "outputs": [
    {
     "data": {
      "image/png": "[encoded data removed]",
      "text/plain": [
       "<Figure size 432x288 with 1 Axes>"
      ]
     },
     "metadata": {
      "needs_background": "light"
     },
     "output_type": "display_data"
    }
   ],
   "source": [
    "plt.boxplot(data)\n",
    "plt.show()"
   ]
  },
  {
   "cell_type": "markdown",
   "metadata": {},
   "source": [
    "**1. 정규성 검정**"
   ]
  },
  {
   "cell_type": "code",
   "execution_count": 61,
   "metadata": {},
   "outputs": [
    {
     "data": {
      "text/plain": [
       "ShapiroResult(statistic=0.9685941338539124, pvalue=0.7249506711959839)"
      ]
     },
     "execution_count": 61,
     "metadata": {},
     "output_type": "execute_result"
    }
   ],
   "source": [
    "# 정규성 검정\n",
    "stats.shapiro(data.A)"
   ]
  },
  {
   "cell_type": "code",
   "execution_count": 62,
   "metadata": {},
   "outputs": [
    {
     "data": {
      "text/plain": [
       "ShapiroResult(statistic=0.9730017781257629, pvalue=0.8165717720985413)"
      ]
     },
     "execution_count": 62,
     "metadata": {},
     "output_type": "execute_result"
    }
   ],
   "source": [
    "stats.shapiro(data.B)"
   ]
  },
  {
   "cell_type": "markdown",
   "metadata": {},
   "source": [
    "=> 두 학급의 데이터는 모두 정규성을 만족"
   ]
  },
  {
   "cell_type": "markdown",
   "metadata": {},
   "source": [
    "**2. 등분산성 검정**  \n",
    "- 귀무가설 : 두 집단의 분산이 같다."
   ]
  },
  {
   "cell_type": "code",
   "execution_count": 64,
   "metadata": {},
   "outputs": [
    {
     "data": {
      "text/plain": [
       "LeveneResult(statistic=2.061573118077718, pvalue=0.15923550057222613)"
      ]
     },
     "execution_count": 64,
     "metadata": {},
     "output_type": "execute_result"
    }
   ],
   "source": [
    "stats.levene(data.A, data.B)"
   ]
  },
  {
   "cell_type": "markdown",
   "metadata": {},
   "source": [
    "=> p값이 0.05보다 크므로 귀무가설을 기각하지 않는다. 즉, 두 집단의 분산은 같다.(등분산)"
   ]
  },
  {
   "cell_type": "markdown",
   "metadata": {},
   "source": [
    "**3. 독립표본 t-검정**"
   ]
  },
  {
   "cell_type": "code",
   "execution_count": 67,
   "metadata": {},
   "outputs": [
    {
     "data": {
      "text/plain": [
       "Ttest_indResult(statistic=-1.7608157246524712, pvalue=0.08631600572195147)"
      ]
     },
     "execution_count": 67,
     "metadata": {},
     "output_type": "execute_result"
    }
   ],
   "source": [
    "# equal_var는 분산이 같니? 안같니?\n",
    "# False로 지정된 경우 웰치 방법 사용\n",
    "stats.ttest_ind(data.A, data.B, equal_var=True)"
   ]
  },
  {
   "cell_type": "markdown",
   "metadata": {},
   "source": [
    "=> 귀무가설 채택 : 두 집단의 집중력 차이가 없다."
   ]
  },
  {
   "cell_type": "code",
   "execution_count": 68,
   "metadata": {},
   "outputs": [
    {
     "data": {
      "text/plain": [
       "Ttest_indResult(statistic=-1.760815724652471, pvalue=0.08695731107259361)"
      ]
     },
     "execution_count": 68,
     "metadata": {},
     "output_type": "execute_result"
    }
   ],
   "source": [
    "stats.ttest_ind(data.A, data.B, equal_var=False)"
   ]
  },
  {
   "cell_type": "markdown",
   "metadata": {},
   "source": [
    "### 정규성을 만족하지 않는 경우\n",
    "1. 대응표본 t-test는 윌콕슨 부호순위검정을 적용\n",
    "    * stats.wilcoxon(전, 후)\n",
    "    \n",
    "2. 독립표본 t-test는 맨휘트니 U검정 적용\n",
    "    * stats.mannwhitneyu(A, B, alternative='two-sided') <- two-sided는 양측검정"
   ]
  },
  {
   "cell_type": "code",
   "execution_count": 70,
   "metadata": {},
   "outputs": [
    {
     "data": {
      "text/plain": [
       "WilcoxonResult(statistic=49.5, pvalue=0.03623390197753906)"
      ]
     },
     "execution_count": 70,
     "metadata": {},
     "output_type": "execute_result"
    }
   ],
   "source": [
    "# 앞의 20명 학생의 집중력 테스트 대응표본 데이터\n",
    "stats.wilcoxon(diff)"
   ]
  },
  {
   "cell_type": "code",
   "execution_count": 72,
   "metadata": {},
   "outputs": [
    {
     "data": {
      "text/plain": [
       "MannwhitneyuResult(statistic=130.0, pvalue=0.02974305583063662)"
      ]
     },
     "execution_count": 72,
     "metadata": {},
     "output_type": "execute_result"
    }
   ],
   "source": [
    "# 두 학급의 학생들의 집중력 테스트 데이터(독립표본)\n",
    "stats.mannwhitneyu(data.A, data.B)"
   ]
  },
  {
   "cell_type": "markdown",
   "metadata": {},
   "source": [
    "---"
   ]
  },
  {
   "cell_type": "markdown",
   "metadata": {},
   "source": [
    "<br>"
   ]
  },
  {
   "cell_type": "markdown",
   "metadata": {},
   "source": [
    "## 카이제곱 검정"
   ]
  },
  {
   "cell_type": "markdown",
   "metadata": {},
   "source": [
    "- 범주형 데이터에 대하여\n",
    "- 카이제곱 분포 근거\n",
    "\n",
    "1. 적합도 검정 : 한 표본데이터가 어떤 분포를 하는지?\n",
    "2. 동질성 검정 : 두 범주형 데이터가 동일한 분포를 하는지?\n",
    "3. 독립성 검정 : 두 범주형 데이터가 서로 관련성 있는지(독립)"
   ]
  },
  {
   "cell_type": "markdown",
   "metadata": {},
   "source": [
    "**독립성 검정**\n",
    "* 두 범주형 변수가 서로 독립적인지 검정\n",
    "    * 귀무가설 : 두 변수가 서로 독립\n",
    "    * 대립가설 : 두 변수가 서로 종속\n",
    "* 교차테이블로 시각화"
   ]
  },
  {
   "cell_type": "code",
   "execution_count": 73,
   "metadata": {},
   "outputs": [],
   "source": [
    "# 모듈들 호출!!\n",
    "import numpy as np\n",
    "import pandas as pd\n",
    "from scipy import stats\n",
    "\n",
    "%precision 3\n",
    "np.random.seed(1111)"
   ]
  },
  {
   "cell_type": "code",
   "execution_count": 76,
   "metadata": {},
   "outputs": [
    {
     "data": {
      "text/plain": [
       "(1000, 2)"
      ]
     },
     "execution_count": 76,
     "metadata": {},
     "output_type": "execute_result"
    }
   ],
   "source": [
    "# 예제 데이터\n",
    "data = pd.read_csv('./data/ch11_ad.csv')\n",
    "data.shape # 데이터 크기 확인"
   ]
  },
  {
   "cell_type": "code",
   "execution_count": 77,
   "metadata": {},
   "outputs": [
    {
     "data": {
      "text/html": [
       "<div>\n",
       "<style scoped>\n",
       "    .dataframe tbody tr th:only-of-type {\n",
       "        vertical-align: middle;\n",
       "    }\n",
       "\n",
       "    .dataframe tbody tr th {\n",
       "        vertical-align: top;\n",
       "    }\n",
       "\n",
       "    .dataframe thead th {\n",
       "        text-align: right;\n",
       "    }\n",
       "</style>\n",
       "<table border=\"1\" class=\"dataframe\">\n",
       "  <thead>\n",
       "    <tr style=\"text-align: right;\">\n",
       "      <th></th>\n",
       "      <th>광고</th>\n",
       "      <th>구입</th>\n",
       "    </tr>\n",
       "  </thead>\n",
       "  <tbody>\n",
       "    <tr>\n",
       "      <th>0</th>\n",
       "      <td>B</td>\n",
       "      <td>하지 않았다</td>\n",
       "    </tr>\n",
       "    <tr>\n",
       "      <th>1</th>\n",
       "      <td>B</td>\n",
       "      <td>하지 않았다</td>\n",
       "    </tr>\n",
       "    <tr>\n",
       "      <th>2</th>\n",
       "      <td>A</td>\n",
       "      <td>했다</td>\n",
       "    </tr>\n",
       "    <tr>\n",
       "      <th>3</th>\n",
       "      <td>A</td>\n",
       "      <td>했다</td>\n",
       "    </tr>\n",
       "    <tr>\n",
       "      <th>4</th>\n",
       "      <td>B</td>\n",
       "      <td>하지 않았다</td>\n",
       "    </tr>\n",
       "  </tbody>\n",
       "</table>\n",
       "</div>"
      ],
      "text/plain": [
       "  광고      구입\n",
       "0  B  하지 않았다\n",
       "1  B  하지 않았다\n",
       "2  A      했다\n",
       "3  A      했다\n",
       "4  B  하지 않았다"
      ]
     },
     "execution_count": 77,
     "metadata": {},
     "output_type": "execute_result"
    }
   ],
   "source": [
    "data.head()"
   ]
  },
  {
   "cell_type": "code",
   "execution_count": 78,
   "metadata": {},
   "outputs": [
    {
     "data": {
      "text/html": [
       "<div>\n",
       "<style scoped>\n",
       "    .dataframe tbody tr th:only-of-type {\n",
       "        vertical-align: middle;\n",
       "    }\n",
       "\n",
       "    .dataframe tbody tr th {\n",
       "        vertical-align: top;\n",
       "    }\n",
       "\n",
       "    .dataframe thead th {\n",
       "        text-align: right;\n",
       "    }\n",
       "</style>\n",
       "<table border=\"1\" class=\"dataframe\">\n",
       "  <thead>\n",
       "    <tr style=\"text-align: right;\">\n",
       "      <th>구입</th>\n",
       "      <th>하지 않았다</th>\n",
       "      <th>했다</th>\n",
       "    </tr>\n",
       "    <tr>\n",
       "      <th>광고</th>\n",
       "      <th></th>\n",
       "      <th></th>\n",
       "    </tr>\n",
       "  </thead>\n",
       "  <tbody>\n",
       "    <tr>\n",
       "      <th>A</th>\n",
       "      <td>351</td>\n",
       "      <td>49</td>\n",
       "    </tr>\n",
       "    <tr>\n",
       "      <th>B</th>\n",
       "      <td>549</td>\n",
       "      <td>51</td>\n",
       "    </tr>\n",
       "  </tbody>\n",
       "</table>\n",
       "</div>"
      ],
      "text/plain": [
       "구입  하지 않았다  했다\n",
       "광고            \n",
       "A      351  49\n",
       "B      549  51"
      ]
     },
     "execution_count": 78,
     "metadata": {},
     "output_type": "execute_result"
    }
   ],
   "source": [
    "# 교차표 생성\n",
    "cross = pd.crosstab(data.광고, data.구입)\n",
    "cross"
   ]
  },
  {
   "cell_type": "code",
   "execution_count": 81,
   "metadata": {},
   "outputs": [],
   "source": [
    "# 카이제곱 독립성검정\n",
    "stat, p, df, exp_tab = stats.chi2_contingency(cross, correction = False)"
   ]
  },
  {
   "cell_type": "code",
   "execution_count": 82,
   "metadata": {},
   "outputs": [
    {
     "data": {
      "text/plain": [
       "3.75"
      ]
     },
     "execution_count": 82,
     "metadata": {},
     "output_type": "execute_result"
    }
   ],
   "source": [
    "stat # 통계량"
   ]
  },
  {
   "cell_type": "code",
   "execution_count": 84,
   "metadata": {},
   "outputs": [
    {
     "data": {
      "text/plain": [
       "0.052807511416113395"
      ]
     },
     "execution_count": 84,
     "metadata": {},
     "output_type": "execute_result"
    }
   ],
   "source": [
    "p # p-value"
   ]
  },
  {
   "cell_type": "code",
   "execution_count": 85,
   "metadata": {},
   "outputs": [
    {
     "data": {
      "text/plain": [
       "1"
      ]
     },
     "execution_count": 85,
     "metadata": {},
     "output_type": "execute_result"
    }
   ],
   "source": [
    "df # 자유도"
   ]
  },
  {
   "cell_type": "code",
   "execution_count": 86,
   "metadata": {},
   "outputs": [
    {
     "data": {
      "text/plain": [
       "array([[360.,  40.],\n",
       "       [540.,  60.]])"
      ]
     },
     "execution_count": 86,
     "metadata": {},
     "output_type": "execute_result"
    }
   ],
   "source": [
    "exp_tab"
   ]
  }
 ],
 "metadata": {
  "kernelspec": {
   "display_name": "Python 3",
   "language": "python",
   "name": "python3"
  },
  "language_info": {
   "codemirror_mode": {
    "name": "ipython",
    "version": 3
   },
   "file_extension": ".py",
   "mimetype": "text/x-python",
   "name": "python",
   "nbconvert_exporter": "python",
   "pygments_lexer": "ipython3",
   "version": "3.8.5"
  }
 },
 "nbformat": 4,
 "nbformat_minor": 4
}
