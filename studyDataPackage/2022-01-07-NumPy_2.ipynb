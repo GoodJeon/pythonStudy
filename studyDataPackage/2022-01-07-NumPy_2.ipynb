{
 "cells": [
  {
   "cell_type": "markdown",
   "metadata": {},
   "source": [
    "# NumPy 연산과 인덱싱"
   ]
  },
  {
   "cell_type": "markdown",
   "metadata": {},
   "source": [
    "* 배열 연산\n",
    "* 통계, 수학 정렬 연산\n",
    "* 인덱싱과 슬라이싱"
   ]
  },
  {
   "cell_type": "markdown",
   "metadata": {},
   "source": [
    "### nupy 모듈 선언"
   ]
  },
  {
   "cell_type": "code",
   "execution_count": 1,
   "metadata": {},
   "outputs": [],
   "source": [
    "import numpy as np"
   ]
  },
  {
   "cell_type": "code",
   "execution_count": 2,
   "metadata": {},
   "outputs": [
    {
     "data": {
      "text/plain": [
       "'1.19.2'"
      ]
     },
     "execution_count": 2,
     "metadata": {},
     "output_type": "execute_result"
    }
   ],
   "source": [
    "np.__version__"
   ]
  },
  {
   "cell_type": "markdown",
   "metadata": {},
   "source": [
    "---"
   ]
  },
  {
   "cell_type": "markdown",
   "metadata": {},
   "source": [
    "## 통계를 위한 연산\n",
    "* 배열의 합, 평균, 표준편차, 분산, 최소값, 최대값, 누적합, 누적곱 등"
   ]
  },
  {
   "cell_type": "code",
   "execution_count": 3,
   "metadata": {},
   "outputs": [
    {
     "data": {
      "text/plain": [
       "array([0, 1, 2, 3, 4])"
      ]
     },
     "execution_count": 3,
     "metadata": {},
     "output_type": "execute_result"
    }
   ],
   "source": [
    "arr1 = np.arange(5)\n",
    "arr1"
   ]
  },
  {
   "cell_type": "code",
   "execution_count": 4,
   "metadata": {},
   "outputs": [
    {
     "data": {
      "text/plain": [
       "[10, 2.0]"
      ]
     },
     "execution_count": 4,
     "metadata": {},
     "output_type": "execute_result"
    }
   ],
   "source": [
    "# 합과 (산술)평균 sum(), mean()\n",
    "[arr1.sum(), arr1.mean()]"
   ]
  },
  {
   "cell_type": "code",
   "execution_count": 5,
   "metadata": {},
   "outputs": [
    {
     "data": {
      "text/plain": [
       "[1.4142135623730951, 2.0]"
      ]
     },
     "execution_count": 5,
     "metadata": {},
     "output_type": "execute_result"
    }
   ],
   "source": [
    "# 표준편차와 분산 : std(), var()\n",
    "[arr1.std(), arr1.var()]"
   ]
  },
  {
   "cell_type": "code",
   "execution_count": 6,
   "metadata": {},
   "outputs": [
    {
     "data": {
      "text/plain": [
       "[0, 4]"
      ]
     },
     "execution_count": 6,
     "metadata": {},
     "output_type": "execute_result"
    }
   ],
   "source": [
    "# 최소값과 최대값 : min(), max()\n",
    "[arr1.min(), arr1.max()]"
   ]
  },
  {
   "cell_type": "code",
   "execution_count": 7,
   "metadata": {},
   "outputs": [
    {
     "data": {
      "text/plain": [
       "array([1, 2, 3, 4])"
      ]
     },
     "execution_count": 7,
     "metadata": {},
     "output_type": "execute_result"
    }
   ],
   "source": [
    "# 누적합과 누적곱 : cumsum(), cumprod()\n",
    "arr2 = np.arange(1,5)\n",
    "arr2"
   ]
  },
  {
   "cell_type": "code",
   "execution_count": 8,
   "metadata": {},
   "outputs": [
    {
     "data": {
      "text/plain": [
       "array([ 1,  3,  6, 10], dtype=int32)"
      ]
     },
     "execution_count": 8,
     "metadata": {},
     "output_type": "execute_result"
    }
   ],
   "source": [
    "# 누적합 : cumsum()\n",
    "arr2.cumsum()"
   ]
  },
  {
   "cell_type": "code",
   "execution_count": 9,
   "metadata": {},
   "outputs": [
    {
     "data": {
      "text/plain": [
       "array([ 1,  2,  6, 24], dtype=int32)"
      ]
     },
     "execution_count": 9,
     "metadata": {},
     "output_type": "execute_result"
    }
   ],
   "source": [
    "# 누적곱 : cumprod()\n",
    "arr2.cumprod()"
   ]
  },
  {
   "cell_type": "markdown",
   "metadata": {},
   "source": [
    "---"
   ]
  },
  {
   "cell_type": "markdown",
   "metadata": {},
   "source": [
    "## 행렬 연산\n",
    "\n",
    "* 선형 대수(Linear algebra)를 위한 행렬 (2차원 배열) 연산\n",
    "* 행렬 곱, 전치 행렬, 역행렬, 행렬식 등\n",
    "    * 행렬(matrix product) : A.dot(B) 혹은 np.dot(A,B)\n",
    "    * 전치행렬(transpose matrix) : A.transpose() 혹은 np.transpose(A)\n",
    "    * 역행렬(inverse matrix) : np.linalg.inv(A)\n",
    "    * 행렬식(determinant) : np.linalg.det(A)\n",
    " "
   ]
  },
  {
   "cell_type": "code",
   "execution_count": 10,
   "metadata": {},
   "outputs": [
    {
     "data": {
      "text/plain": [
       "array([[1, 2],\n",
       "       [3, 4]])"
      ]
     },
     "execution_count": 10,
     "metadata": {},
     "output_type": "execute_result"
    }
   ],
   "source": [
    "A = np.arange(1, 5).reshape(2,2)\n",
    "# 대체 방법1 : A = np.array([[1,2],[3,4]])\n",
    "# 대체 방법2 : A = np.array([1,2,3,4]).reshape(2,2)\n",
    "A"
   ]
  },
  {
   "cell_type": "code",
   "execution_count": 11,
   "metadata": {},
   "outputs": [
    {
     "data": {
      "text/plain": [
       "array([[3, 2],\n",
       "       [0, 1]])"
      ]
     },
     "execution_count": 11,
     "metadata": {},
     "output_type": "execute_result"
    }
   ],
   "source": [
    "B = np.array([3,2,0,1]).reshape(2,2)\n",
    "B"
   ]
  },
  {
   "cell_type": "markdown",
   "metadata": {},
   "source": [
    "### 행렬의 곱"
   ]
  },
  {
   "cell_type": "code",
   "execution_count": 12,
   "metadata": {},
   "outputs": [
    {
     "data": {
      "text/plain": [
       "array([[ 3,  4],\n",
       "       [ 9, 10]])"
      ]
     },
     "execution_count": 12,
     "metadata": {},
     "output_type": "execute_result"
    }
   ],
   "source": [
    "# 행렬의 곱\n",
    "A.dot(B)"
   ]
  },
  {
   "cell_type": "code",
   "execution_count": 13,
   "metadata": {},
   "outputs": [
    {
     "data": {
      "text/plain": [
       "array([[ 3,  4],\n",
       "       [ 9, 10]])"
      ]
     },
     "execution_count": 13,
     "metadata": {},
     "output_type": "execute_result"
    }
   ],
   "source": [
    "# 행렬의 곱 2\n",
    "np.dot(A,B)"
   ]
  },
  {
   "cell_type": "markdown",
   "metadata": {},
   "source": [
    "### 전치 행렬"
   ]
  },
  {
   "cell_type": "code",
   "execution_count": 14,
   "metadata": {},
   "outputs": [
    {
     "data": {
      "text/plain": [
       "array([[1, 3],\n",
       "       [2, 4]])"
      ]
     },
     "execution_count": 14,
     "metadata": {},
     "output_type": "execute_result"
    }
   ],
   "source": [
    "# 전치 행렬 1\n",
    "A.transpose()"
   ]
  },
  {
   "cell_type": "code",
   "execution_count": 15,
   "metadata": {},
   "outputs": [
    {
     "data": {
      "text/plain": [
       "array([[1, 3],\n",
       "       [2, 4]])"
      ]
     },
     "execution_count": 15,
     "metadata": {},
     "output_type": "execute_result"
    }
   ],
   "source": [
    "# 전치 행렬 2\n",
    "np.transpose(A)"
   ]
  },
  {
   "cell_type": "markdown",
   "metadata": {},
   "source": [
    "### 역행렬(np.linalg.inv(array))"
   ]
  },
  {
   "cell_type": "code",
   "execution_count": 16,
   "metadata": {},
   "outputs": [
    {
     "data": {
      "text/plain": [
       "array([[-2. ,  1. ],\n",
       "       [ 1.5, -0.5]])"
      ]
     },
     "execution_count": 16,
     "metadata": {},
     "output_type": "execute_result"
    }
   ],
   "source": [
    "# 역행렬(inverse)\n",
    "np.linalg.inv(A)"
   ]
  },
  {
   "cell_type": "code",
   "execution_count": 17,
   "metadata": {},
   "outputs": [
    {
     "data": {
      "text/plain": [
       "-2.0000000000000004"
      ]
     },
     "execution_count": 17,
     "metadata": {},
     "output_type": "execute_result"
    }
   ],
   "source": [
    "# 행렬식(determinant)\n",
    "np.linalg.det(A)"
   ]
  },
  {
   "cell_type": "code",
   "execution_count": 18,
   "metadata": {},
   "outputs": [
    {
     "data": {
      "text/plain": [
       "array([[1.00000000e+00, 1.11022302e-16],\n",
       "       [0.00000000e+00, 1.00000000e+00]])"
      ]
     },
     "execution_count": 18,
     "metadata": {},
     "output_type": "execute_result"
    }
   ],
   "source": [
    "# A * inv(A) = I(단위행렬)\n",
    "np.dot(A,np.linalg.inv(A)) # [[1,0],[0,1]]"
   ]
  },
  {
   "cell_type": "markdown",
   "metadata": {},
   "source": [
    "---"
   ]
  },
  {
   "cell_type": "markdown",
   "metadata": {},
   "source": [
    "## Array 인덱싱(Indexing)과 슬라이싱(Slicing)\n",
    "\n",
    "* 인덱싱(indexing) : 배열의 위치나 조건을 지정해 배열의 원소를 선택하는 것\n",
    "* 슬라이싱(slicing) : 범위를 지정해 배열의 원소를 선택하는 것\n",
    "    * : 연산자를 주로 사용"
   ]
  },
  {
   "cell_type": "markdown",
   "metadata": {},
   "source": [
    "### 1차원 배열의 인덱싱"
   ]
  },
  {
   "cell_type": "markdown",
   "metadata": {},
   "source": [
    "#### 배열명[위치]\n",
    "* 파이썬의 인덱싱과 동일\n",
    "* **`0번째`**로 시작함"
   ]
  },
  {
   "cell_type": "code",
   "execution_count": 19,
   "metadata": {},
   "outputs": [
    {
     "data": {
      "text/plain": [
       "array([0, 1, 2, 3, 4, 5, 6, 7, 8, 9])"
      ]
     },
     "execution_count": 19,
     "metadata": {},
     "output_type": "execute_result"
    }
   ],
   "source": [
    "arr1 = np.arange(10)\n",
    "arr1"
   ]
  },
  {
   "cell_type": "code",
   "execution_count": 20,
   "metadata": {},
   "outputs": [
    {
     "data": {
      "text/plain": [
       "0"
      ]
     },
     "execution_count": 20,
     "metadata": {},
     "output_type": "execute_result"
    }
   ],
   "source": [
    "# 0번째 요소\n",
    "arr1[0]"
   ]
  },
  {
   "cell_type": "code",
   "execution_count": 21,
   "metadata": {},
   "outputs": [
    {
     "data": {
      "text/plain": [
       "3"
      ]
     },
     "execution_count": 21,
     "metadata": {},
     "output_type": "execute_result"
    }
   ],
   "source": [
    "# 3번째 요소\n",
    "arr1[3]"
   ]
  },
  {
   "cell_type": "markdown",
   "metadata": {},
   "source": [
    "#### 배열명[[위치1, 위치2, ... , 위치n]]"
   ]
  },
  {
   "cell_type": "code",
   "execution_count": 22,
   "metadata": {},
   "outputs": [
    {
     "data": {
      "text/plain": [
       "array([1, 3, 4])"
      ]
     },
     "execution_count": 22,
     "metadata": {},
     "output_type": "execute_result"
    }
   ],
   "source": [
    "# 1, 3, 4 위치 : \n",
    "# shape => (m, ) => 1차원, (m, n) => 2차원 (m, n, p) => 3차원\n",
    "# 인덱스 [ ] : [ m] => [m,n] => [m, n, p]  (1,2,3차원)\n",
    "# arr1[1,3,4] # => 3차원 배열의 위치 1면 3행 4열\n",
    "# 여러 인덱스의 요소들을 지정 : 리스트로 주어야 한다.\n",
    "\n",
    "arr1[[1,3,4]]"
   ]
  },
  {
   "cell_type": "markdown",
   "metadata": {},
   "source": [
    "---"
   ]
  },
  {
   "cell_type": "markdown",
   "metadata": {},
   "source": [
    "### 2차원 배열의 인덱싱\n",
    "#### 배열명[행위치, 열위치]"
   ]
  },
  {
   "cell_type": "code",
   "execution_count": 23,
   "metadata": {},
   "outputs": [
    {
     "data": {
      "text/plain": [
       "array([[ 1,  2,  3,  4],\n",
       "       [ 5,  6,  7,  8],\n",
       "       [ 9, 10, 11, 12]])"
      ]
     },
     "execution_count": 23,
     "metadata": {},
     "output_type": "execute_result"
    }
   ],
   "source": [
    "arr2 = np.arange(1, 13).reshape(3,4)\n",
    "arr2"
   ]
  },
  {
   "cell_type": "code",
   "execution_count": 24,
   "metadata": {},
   "outputs": [
    {
     "data": {
      "text/plain": [
       "12"
      ]
     },
     "execution_count": 24,
     "metadata": {},
     "output_type": "execute_result"
    }
   ],
   "source": [
    "# 2차원의 array에서 인덱싱을 하기 위해선 2개의 인자를 입력해야 합니다.\n",
    "arr2[2,3] # 2행 3열의 요소"
   ]
  },
  {
   "cell_type": "code",
   "execution_count": 25,
   "metadata": {},
   "outputs": [],
   "source": [
    "# 0행 0열 값 변경\n",
    "arr2[0,0] = 90"
   ]
  },
  {
   "cell_type": "code",
   "execution_count": 26,
   "metadata": {},
   "outputs": [
    {
     "data": {
      "text/plain": [
       "array([[90,  2,  3,  4],\n",
       "       [ 5,  6,  7,  8],\n",
       "       [ 9, 10, 11, 12]])"
      ]
     },
     "execution_count": 26,
     "metadata": {},
     "output_type": "execute_result"
    }
   ],
   "source": [
    "# 변경된 array\n",
    "arr2"
   ]
  },
  {
   "cell_type": "markdown",
   "metadata": {},
   "source": [
    "#### 2차원배열명[행위치]\n",
    ": 2차원 배열에서 지정한 행 전체가 선택됨"
   ]
  },
  {
   "cell_type": "code",
   "execution_count": 27,
   "metadata": {},
   "outputs": [
    {
     "data": {
      "text/plain": [
       "array([5, 6, 7, 8])"
      ]
     },
     "execution_count": 27,
     "metadata": {},
     "output_type": "execute_result"
    }
   ],
   "source": [
    "# 두번째 행 선택\n",
    "arr2[1]"
   ]
  },
  {
   "cell_type": "markdown",
   "metadata": {},
   "source": [
    "#### 2차원배열명[:,열위치]\n",
    ": 2차원 배열에서 지정한 열 전체가 선택됨"
   ]
  },
  {
   "cell_type": "code",
   "execution_count": 28,
   "metadata": {},
   "outputs": [
    {
     "data": {
      "text/plain": [
       "array([ 2,  6, 10])"
      ]
     },
     "execution_count": 28,
     "metadata": {},
     "output_type": "execute_result"
    }
   ],
   "source": [
    "arr2[:,1] # 두번째 열 선택"
   ]
  },
  {
   "cell_type": "markdown",
   "metadata": {},
   "source": [
    "#### 2차원 배열의 특정 행을 지정해서 행 전체를 변경"
   ]
  },
  {
   "cell_type": "code",
   "execution_count": 29,
   "metadata": {},
   "outputs": [
    {
     "data": {
      "text/plain": [
       "array([[90,  2,  3,  4],\n",
       "       [-5,  1, 10,  9],\n",
       "       [ 9, 10, 11, 12]])"
      ]
     },
     "execution_count": 29,
     "metadata": {},
     "output_type": "execute_result"
    }
   ],
   "source": [
    "# 두번째 행 변경\n",
    "arr2[1] = np.array([-5, 1, 10 ,9])\n",
    "arr2"
   ]
  },
  {
   "cell_type": "markdown",
   "metadata": {},
   "source": [
    "#### 배열명[[행위치1, 행위치2, ..., 행위치n], [열위치1, 열위치2, ..., 열위치n]]\n",
    ": 지정한 (행위치1, 열위치1), (행위치2, 열위치2), ..., (행위치n, 열위치n)의 원소를 가져옴"
   ]
  },
  {
   "cell_type": "code",
   "execution_count": 30,
   "metadata": {},
   "outputs": [
    {
     "data": {
      "text/plain": [
       "array([90, 10])"
      ]
     },
     "execution_count": 30,
     "metadata": {},
     "output_type": "execute_result"
    }
   ],
   "source": [
    "arr2[[0,2],[0,1]] # 0행 0열 2행 1열"
   ]
  },
  {
   "cell_type": "markdown",
   "metadata": {},
   "source": [
    "#### 배열명[조건]\n",
    ": 배열에서 조건을 만족하는 원소만 선택"
   ]
  },
  {
   "cell_type": "markdown",
   "metadata": {},
   "source": [
    "* 10 초과인 원소 선택"
   ]
  },
  {
   "cell_type": "code",
   "execution_count": 31,
   "metadata": {},
   "outputs": [
    {
     "data": {
      "text/plain": [
       "array([[ True, False, False, False],\n",
       "       [False, False, False, False],\n",
       "       [False, False,  True,  True]])"
      ]
     },
     "execution_count": 31,
     "metadata": {},
     "output_type": "execute_result"
    }
   ],
   "source": [
    "# 비교 연산 10 초과인 원소 선택\n",
    "arr2 > 10"
   ]
  },
  {
   "cell_type": "code",
   "execution_count": 32,
   "metadata": {},
   "outputs": [
    {
     "data": {
      "text/plain": [
       "array([90, 11, 12])"
      ]
     },
     "execution_count": 32,
     "metadata": {},
     "output_type": "execute_result"
    }
   ],
   "source": [
    "arr2[arr2 > 10] # arr2에서 원소가 10 초과하는 원소들을 가져옴"
   ]
  },
  {
   "cell_type": "markdown",
   "metadata": {},
   "source": [
    "* 짝수인 원소 선택"
   ]
  },
  {
   "cell_type": "code",
   "execution_count": 33,
   "metadata": {},
   "outputs": [
    {
     "data": {
      "text/plain": [
       "array([90,  2,  4, 10, 10, 12])"
      ]
     },
     "execution_count": 33,
     "metadata": {},
     "output_type": "execute_result"
    }
   ],
   "source": [
    "# 짝수인 원소 선택\n",
    "arr2[arr2 % 2 == 0]"
   ]
  },
  {
   "cell_type": "markdown",
   "metadata": {},
   "source": [
    "---"
   ]
  },
  {
   "cell_type": "markdown",
   "metadata": {},
   "source": [
    "### 1차원 배열의 슬라이싱(Slicing)"
   ]
  },
  {
   "cell_type": "markdown",
   "metadata": {},
   "source": [
    "#### 배열[시작위치:끝위치]\n",
    ": 시작위치에서 끝위치-1 에 해당하는 배열의 원소를 반환"
   ]
  },
  {
   "cell_type": "code",
   "execution_count": 34,
   "metadata": {},
   "outputs": [
    {
     "data": {
      "text/plain": [
       "array([0, 1, 2, 3, 4, 5, 6, 7, 8, 9])"
      ]
     },
     "execution_count": 34,
     "metadata": {},
     "output_type": "execute_result"
    }
   ],
   "source": [
    "arr1"
   ]
  },
  {
   "cell_type": "code",
   "execution_count": 35,
   "metadata": {},
   "outputs": [
    {
     "data": {
      "text/plain": [
       "array([3, 4, 5, 6, 7, 8])"
      ]
     },
     "execution_count": 35,
     "metadata": {},
     "output_type": "execute_result"
    }
   ],
   "source": [
    "# 3번째 요소부터 8번째 요소\n",
    "arr1[3:9]"
   ]
  },
  {
   "cell_type": "markdown",
   "metadata": {},
   "source": [
    "#### 배열명[start:end+1:step]\n",
    ": start에서 end 범위까지의 자료 중 step 간격으로 인덱스를 지정"
   ]
  },
  {
   "cell_type": "code",
   "execution_count": 36,
   "metadata": {},
   "outputs": [
    {
     "data": {
      "text/plain": [
       "array([3, 5, 7])"
      ]
     },
     "execution_count": 36,
     "metadata": {},
     "output_type": "execute_result"
    }
   ],
   "source": [
    "arr1[3:9:2]\n",
    "# arr[[3,5,7]]과 같음"
   ]
  },
  {
   "cell_type": "code",
   "execution_count": 37,
   "metadata": {},
   "outputs": [
    {
     "data": {
      "text/plain": [
       "array([0, 2, 4, 6, 8])"
      ]
     },
     "execution_count": 37,
     "metadata": {},
     "output_type": "execute_result"
    }
   ],
   "source": [
    "arr1[:9:2] # 처음부터 8까지 2씩"
   ]
  },
  {
   "cell_type": "code",
   "execution_count": 38,
   "metadata": {},
   "outputs": [
    {
     "data": {
      "text/plain": [
       "array([3, 5, 7, 9])"
      ]
     },
     "execution_count": 38,
     "metadata": {},
     "output_type": "execute_result"
    }
   ],
   "source": [
    "arr1[3::2] # 3부터 끝까지 2씩"
   ]
  },
  {
   "cell_type": "code",
   "execution_count": 39,
   "metadata": {},
   "outputs": [
    {
     "data": {
      "text/plain": [
       "array([0, 3, 6, 9])"
      ]
     },
     "execution_count": 39,
     "metadata": {},
     "output_type": "execute_result"
    }
   ],
   "source": [
    "arr1[::3] # 처음부터 끝까지 3씩"
   ]
  },
  {
   "cell_type": "code",
   "execution_count": 40,
   "metadata": {},
   "outputs": [
    {
     "data": {
      "text/plain": [
       "array([9, 8, 7, 6, 5, 4, 3, 2, 1, 0])"
      ]
     },
     "execution_count": 40,
     "metadata": {},
     "output_type": "execute_result"
    }
   ],
   "source": [
    "arr1[::-1] # 마지막부터 처음까지 (reverse)"
   ]
  },
  {
   "cell_type": "code",
   "execution_count": 41,
   "metadata": {},
   "outputs": [
    {
     "data": {
      "text/plain": [
       "array([9, 7, 5, 3, 1])"
      ]
     },
     "execution_count": 41,
     "metadata": {},
     "output_type": "execute_result"
    }
   ],
   "source": [
    "arr1[::-2] # 마지막부터 처음까지 2씩"
   ]
  },
  {
   "cell_type": "markdown",
   "metadata": {},
   "source": [
    "#### 배열[:끝위치]\n",
    ": 처음부터 '끝위치-1'원소 반환"
   ]
  },
  {
   "cell_type": "code",
   "execution_count": 42,
   "metadata": {},
   "outputs": [
    {
     "data": {
      "text/plain": [
       "array([0, 1, 2])"
      ]
     },
     "execution_count": 42,
     "metadata": {},
     "output_type": "execute_result"
    }
   ],
   "source": [
    "arr1[:3]"
   ]
  },
  {
   "cell_type": "markdown",
   "metadata": {},
   "source": [
    "#### 배열[시작위치:]\n",
    ": 시작부터 끝까지 원소 반환"
   ]
  },
  {
   "cell_type": "code",
   "execution_count": 43,
   "metadata": {},
   "outputs": [
    {
     "data": {
      "text/plain": [
       "array([2, 3, 4, 5, 6, 7, 8, 9])"
      ]
     },
     "execution_count": 43,
     "metadata": {},
     "output_type": "execute_result"
    }
   ],
   "source": [
    "arr1[2:]"
   ]
  },
  {
   "cell_type": "markdown",
   "metadata": {},
   "source": [
    "#### 배열[:]\n",
    ": 모든 원소 반환"
   ]
  },
  {
   "cell_type": "code",
   "execution_count": 44,
   "metadata": {},
   "outputs": [
    {
     "data": {
      "text/plain": [
       "array([0, 1, 2, 3, 4, 5, 6, 7, 8, 9])"
      ]
     },
     "execution_count": 44,
     "metadata": {},
     "output_type": "execute_result"
    }
   ],
   "source": [
    "arr1[:]"
   ]
  },
  {
   "cell_type": "markdown",
   "metadata": {},
   "source": [
    "---"
   ]
  },
  {
   "cell_type": "markdown",
   "metadata": {},
   "source": [
    "### 2차원 배열의 슬라이싱\n",
    "#### 배열[행시작위치:행끝위치, 열시작위치:열끝위치]"
   ]
  },
  {
   "cell_type": "code",
   "execution_count": 45,
   "metadata": {},
   "outputs": [
    {
     "data": {
      "text/plain": [
       "array([[90,  2,  3,  4],\n",
       "       [-5,  1, 10,  9],\n",
       "       [ 9, 10, 11, 12]])"
      ]
     },
     "execution_count": 45,
     "metadata": {},
     "output_type": "execute_result"
    }
   ],
   "source": [
    "arr2"
   ]
  },
  {
   "cell_type": "code",
   "execution_count": 46,
   "metadata": {},
   "outputs": [
    {
     "data": {
      "text/plain": [
       "array([ 9, 10, 11, 12])"
      ]
     },
     "execution_count": 46,
     "metadata": {},
     "output_type": "execute_result"
    }
   ],
   "source": [
    "# 2행의 모든 요소 꺼내기\n",
    "arr2[2,:]"
   ]
  },
  {
   "cell_type": "code",
   "execution_count": 47,
   "metadata": {},
   "outputs": [
    {
     "data": {
      "text/plain": [
       "array([ 9, 10, 11, 12])"
      ]
     },
     "execution_count": 47,
     "metadata": {},
     "output_type": "execute_result"
    }
   ],
   "source": [
    "# 2행의 모든 요소 꺼내기\n",
    "arr2[2]"
   ]
  },
  {
   "cell_type": "code",
   "execution_count": 48,
   "metadata": {},
   "outputs": [
    {
     "data": {
      "text/plain": [
       "array([ 4,  9, 12])"
      ]
     },
     "execution_count": 48,
     "metadata": {},
     "output_type": "execute_result"
    }
   ],
   "source": [
    "# 3열의 모든 요소 꺼내기\n",
    "arr2[:,3]"
   ]
  },
  {
   "cell_type": "code",
   "execution_count": 49,
   "metadata": {},
   "outputs": [
    {
     "data": {
      "text/plain": [
       "array([[ 1, 10],\n",
       "       [10, 11]])"
      ]
     },
     "execution_count": 49,
     "metadata": {},
     "output_type": "execute_result"
    }
   ],
   "source": [
    "# 1~2행, 1~2열의 요소\n",
    "arr2[1:3,1:3]"
   ]
  },
  {
   "cell_type": "markdown",
   "metadata": {},
   "source": [
    "#### 배열[행위치][열시작위치:열끝위치]\n",
    ": 특정 행을 선택한 후 열을 슬라이싱"
   ]
  },
  {
   "cell_type": "code",
   "execution_count": 50,
   "metadata": {},
   "outputs": [
    {
     "data": {
      "text/plain": [
       "array([[10, 20, 30],\n",
       "       [40, 50, 60],\n",
       "       [70, 80, 90]])"
      ]
     },
     "execution_count": 50,
     "metadata": {},
     "output_type": "execute_result"
    }
   ],
   "source": [
    "arr3 = np.arange(10,100, 10).reshape(3,3)\n",
    "arr3"
   ]
  },
  {
   "cell_type": "code",
   "execution_count": 51,
   "metadata": {},
   "outputs": [
    {
     "data": {
      "text/plain": [
       "array([40, 50])"
      ]
     },
     "execution_count": 51,
     "metadata": {},
     "output_type": "execute_result"
    }
   ],
   "source": [
    "# 1행의 0열과 1열 요소 선택\n",
    "arr3[1,:2]"
   ]
  },
  {
   "cell_type": "code",
   "execution_count": 52,
   "metadata": {},
   "outputs": [
    {
     "data": {
      "text/plain": [
       "array([40, 50])"
      ]
     },
     "execution_count": 52,
     "metadata": {},
     "output_type": "execute_result"
    }
   ],
   "source": [
    "# 1행의 0열과 1열 요소 선택\n",
    "arr3[1][:2]"
   ]
  },
  {
   "cell_type": "code",
   "execution_count": 53,
   "metadata": {},
   "outputs": [
    {
     "data": {
      "text/plain": [
       "80"
      ]
     },
     "execution_count": 53,
     "metadata": {},
     "output_type": "execute_result"
    }
   ],
   "source": [
    "# 참고. 인덱싱 예\n",
    "arr3[2][1]"
   ]
  },
  {
   "cell_type": "markdown",
   "metadata": {},
   "source": [
    "#### 슬라이싱 된 배열에 값을 지정"
   ]
  },
  {
   "cell_type": "code",
   "execution_count": 54,
   "metadata": {},
   "outputs": [
    {
     "data": {
      "text/plain": [
       "array([[10,  2,  3],\n",
       "       [40,  5,  6],\n",
       "       [70, 80, 90]])"
      ]
     },
     "execution_count": 54,
     "metadata": {},
     "output_type": "execute_result"
    }
   ],
   "source": [
    "# 0~1행, 1~2열의 요소 변경\n",
    "arr3[:2, 1:] = np.array([2,3,5,6]).reshape(2,2)\n",
    "arr3"
   ]
  },
  {
   "cell_type": "markdown",
   "metadata": {},
   "source": [
    "---"
   ]
  },
  {
   "cell_type": "markdown",
   "metadata": {},
   "source": [
    "## Array boolean 인덱싱(Mask)\n",
    "\n",
    "* 다차원의 인덱싱을 응용하여 boolean 인덱싱\n",
    "* boolean인덱승을 통해 만들어낸 array를 통해 원하는 행 또는 열의 값만 뽑아냄\n",
    "* 가리고 싶은 부분은 가리고, 원하는 요소만 꺼냄"
   ]
  },
  {
   "cell_type": "code",
   "execution_count": 55,
   "metadata": {},
   "outputs": [
    {
     "data": {
      "text/plain": [
       "array(['Beomwoo', 'Beomwoo', 'Kim', 'Joan', 'Lee', 'Beomwoo', 'Park',\n",
       "       'Beomwoo'], dtype='<U7')"
      ]
     },
     "execution_count": 55,
     "metadata": {},
     "output_type": "execute_result"
    }
   ],
   "source": [
    "names = np.array(['Beomwoo', 'Beomwoo', 'Kim', 'Joan', 'Lee', 'Beomwoo','Park', 'Beomwoo'])\n",
    "names"
   ]
  },
  {
   "cell_type": "code",
   "execution_count": 56,
   "metadata": {},
   "outputs": [
    {
     "data": {
      "text/plain": [
       "(8,)"
      ]
     },
     "execution_count": 56,
     "metadata": {},
     "output_type": "execute_result"
    }
   ],
   "source": [
    "# names 크기 확인\n",
    "names.shape"
   ]
  },
  {
   "cell_type": "code",
   "execution_count": 57,
   "metadata": {},
   "outputs": [
    {
     "data": {
      "text/plain": [
       "array([[-0.46821544, -2.82127206,  1.17384042,  1.4126358 ],\n",
       "       [-0.41468141, -1.32184734, -0.97718296, -0.08295454],\n",
       "       [-1.17581805,  0.16010913,  0.4640075 ,  1.1831278 ],\n",
       "       [-1.08755004, -1.17021442,  0.20366883, -0.36275755],\n",
       "       [-0.59289806, -0.44724656, -0.43670415,  0.85200045],\n",
       "       [ 1.79597087, -1.45440975,  2.84134888, -0.86147657],\n",
       "       [ 0.67129261, -0.19201303,  1.45651852, -0.06437053],\n",
       "       [-1.78837502, -0.30970071,  0.00801997, -1.16543785]])"
      ]
     },
     "execution_count": 57,
     "metadata": {},
     "output_type": "execute_result"
    }
   ],
   "source": [
    "# 8행 4열의 실수 난수 배열 생성\n",
    "data = np.random.randn(8,4)\n",
    "data"
   ]
  },
  {
   "cell_type": "code",
   "execution_count": 58,
   "metadata": {},
   "outputs": [
    {
     "data": {
      "text/plain": [
       "(8, 4)"
      ]
     },
     "execution_count": 58,
     "metadata": {},
     "output_type": "execute_result"
    }
   ],
   "source": [
    "# 배열 크기 확인\n",
    "data.shape # 8행 4열"
   ]
  },
  {
   "cell_type": "code",
   "execution_count": 59,
   "metadata": {},
   "outputs": [
    {
     "data": {
      "text/plain": [
       "array([ True,  True, False, False, False,  True, False,  True])"
      ]
     },
     "execution_count": 59,
     "metadata": {},
     "output_type": "execute_result"
    }
   ],
   "source": [
    "# 요소가 Beomwoo인 항목에 대한 mask 생성\n",
    "names_mask_Beomwoo = (names == 'Beomwoo')\n",
    "names_mask_Beomwoo"
   ]
  },
  {
   "cell_type": "code",
   "execution_count": 60,
   "metadata": {},
   "outputs": [
    {
     "data": {
      "text/plain": [
       "array([[-0.46821544, -2.82127206,  1.17384042,  1.4126358 ],\n",
       "       [-0.41468141, -1.32184734, -0.97718296, -0.08295454],\n",
       "       [ 1.79597087, -1.45440975,  2.84134888, -0.86147657],\n",
       "       [-1.78837502, -0.30970071,  0.00801997, -1.16543785]])"
      ]
     },
     "execution_count": 60,
     "metadata": {},
     "output_type": "execute_result"
    }
   ],
   "source": [
    "# 요소가 Beomwoo인 항목의 위치와 같은 행의 자료 가져오기\n",
    "data[names_mask_Beomwoo, :]\n",
    "# data[names_mask_Beomwoo] : 같은 결과"
   ]
  },
  {
   "cell_type": "code",
   "execution_count": 61,
   "metadata": {},
   "outputs": [
    {
     "data": {
      "text/plain": [
       "array([False, False,  True, False, False, False, False, False])"
      ]
     },
     "execution_count": 61,
     "metadata": {},
     "output_type": "execute_result"
    }
   ],
   "source": [
    "names_mask_Kim = (names == 'Kim')\n",
    "names_mask_Kim"
   ]
  },
  {
   "cell_type": "code",
   "execution_count": 62,
   "metadata": {},
   "outputs": [
    {
     "data": {
      "text/plain": [
       "array([[-1.17581805,  0.16010913,  0.4640075 ,  1.1831278 ]])"
      ]
     },
     "execution_count": 62,
     "metadata": {},
     "output_type": "execute_result"
    }
   ],
   "source": [
    "# 요소가 Kim인 행의 데이터만 꺼내기\n",
    "data[names_mask_Kim, :]"
   ]
  },
  {
   "cell_type": "code",
   "execution_count": 63,
   "metadata": {},
   "outputs": [
    {
     "data": {
      "text/plain": [
       "array([False, False,  True, False, False, False,  True, False])"
      ]
     },
     "execution_count": 63,
     "metadata": {},
     "output_type": "execute_result"
    }
   ],
   "source": [
    "# 논리 연산을 응용하여, 요소가 Kim 또는 Park인 행의 데이터만 꺼내기\n",
    "n_mask_KimOrPark = (names == 'Kim') | (names == 'Park')\n",
    "n_mask_KimOrPark"
   ]
  },
  {
   "cell_type": "code",
   "execution_count": 64,
   "metadata": {},
   "outputs": [
    {
     "data": {
      "text/plain": [
       "array([[-1.17581805,  0.16010913,  0.4640075 ,  1.1831278 ],\n",
       "       [ 0.67129261, -0.19201303,  1.45651852, -0.06437053]])"
      ]
     },
     "execution_count": 64,
     "metadata": {},
     "output_type": "execute_result"
    }
   ],
   "source": [
    "data[n_mask_KimOrPark]"
   ]
  },
  {
   "cell_type": "markdown",
   "metadata": {},
   "source": [
    "**마스크 인덱싱 문제**  \n",
    "   \n",
    "* 문제1. data array에서 0번째 열이 0보다 작은 행 데이터 가져오기"
   ]
  },
  {
   "cell_type": "code",
   "execution_count": 65,
   "metadata": {},
   "outputs": [
    {
     "data": {
      "text/plain": [
       "array([ True,  True,  True,  True,  True, False, False,  True])"
      ]
     },
     "execution_count": 65,
     "metadata": {},
     "output_type": "execute_result"
    }
   ],
   "source": [
    "# 1단계 마스크를 만든다.\n",
    "     \n",
    "data[:,0] < 0"
   ]
  },
  {
   "cell_type": "code",
   "execution_count": 66,
   "metadata": {},
   "outputs": [
    {
     "data": {
      "text/plain": [
       "array([[-0.46821544, -2.82127206,  1.17384042,  1.4126358 ],\n",
       "       [-0.41468141, -1.32184734, -0.97718296, -0.08295454],\n",
       "       [-1.17581805,  0.16010913,  0.4640075 ,  1.1831278 ],\n",
       "       [-1.08755004, -1.17021442,  0.20366883, -0.36275755],\n",
       "       [-0.59289806, -0.44724656, -0.43670415,  0.85200045],\n",
       "       [-1.78837502, -0.30970071,  0.00801997, -1.16543785]])"
      ]
     },
     "execution_count": 66,
     "metadata": {},
     "output_type": "execute_result"
    }
   ],
   "source": [
    "# 2단계, 생성된 마스크를 이용하여 0번째 열의 값이 0보다 작은 행을 구한다.\n",
    "data[data[:,0] < 0]"
   ]
  },
  {
   "cell_type": "markdown",
   "metadata": {},
   "source": [
    "* 문제2. data array에서 0번째 열이 0보다 작은 행의 2,3번째 열 데이터 가져오기"
   ]
  },
  {
   "cell_type": "code",
   "execution_count": 67,
   "metadata": {},
   "outputs": [],
   "source": [
    "# 1단계 마스크 생성"
   ]
  },
  {
   "cell_type": "code",
   "execution_count": 68,
   "metadata": {},
   "outputs": [
    {
     "data": {
      "text/plain": [
       "array([[-1.17581805,  0.16010913,  0.4640075 ,  1.1831278 ],\n",
       "       [-1.08755004, -1.17021442,  0.20366883, -0.36275755]])"
      ]
     },
     "execution_count": 68,
     "metadata": {},
     "output_type": "execute_result"
    }
   ],
   "source": [
    "# 2단계 생성된 마스크를 이용해 0번째 열의 값이 0보다 작은 행의 2,3번째 열 데이터 가져오기\n",
    "data[data[:,0] < 0][2:4]\n",
    "# data[data[:,0]<0, 2:4]"
   ]
  },
  {
   "cell_type": "markdown",
   "metadata": {},
   "source": [
    "---"
   ]
  },
  {
   "cell_type": "markdown",
   "metadata": {},
   "source": [
    "## array에 적용되는 다양한 함수"
   ]
  },
  {
   "cell_type": "markdown",
   "metadata": {},
   "source": [
    "### 하나의 array에 적용되는 함수"
   ]
  },
  {
   "cell_type": "markdown",
   "metadata": {},
   "source": [
    "#### random.rand(d0,d1,.., dn) : 표준정규난수 생성\n",
    "* [https://numpy.org/doc/stable/reference/random/legacy.html\n",
    "](https://numpy.org/doc/stable/reference/random/legacy.html\n",
    ")"
   ]
  },
  {
   "cell_type": "code",
   "execution_count": 69,
   "metadata": {},
   "outputs": [
    {
     "data": {
      "text/plain": [
       "array([[ 0.0966655 ,  0.93313054,  0.52754416],\n",
       "       [ 0.88391742,  0.49115935,  0.48757577],\n",
       "       [ 0.35367219, -0.41852283,  0.23604843],\n",
       "       [ 0.02823907, -1.67744635, -0.33286717],\n",
       "       [-0.68474982, -0.25353313, -0.7640626 ]])"
      ]
     },
     "execution_count": 69,
     "metadata": {},
     "output_type": "execute_result"
    }
   ],
   "source": [
    "# 5행 3열의 실수난수 배열 생성\n",
    "data = np.random.randn(5,3)\n",
    "data"
   ]
  },
  {
   "cell_type": "markdown",
   "metadata": {},
   "source": [
    "---"
   ]
  },
  {
   "cell_type": "markdown",
   "metadata": {},
   "source": [
    "### 수학 관련 함수\n",
    "* 제곱근, 절대값, 삼각함수, 지수로그함수, 반올림함수 등\n",
    "* [https://numpy.org/doc/stable/reference/routines.math.html\n",
    "](https://numpy.org/doc/stable/reference/routines.math.html\n",
    ")"
   ]
  },
  {
   "cell_type": "code",
   "execution_count": 70,
   "metadata": {},
   "outputs": [
    {
     "data": {
      "text/plain": [
       "array([[0.0966655 , 0.93313054, 0.52754416],\n",
       "       [0.88391742, 0.49115935, 0.48757577],\n",
       "       [0.35367219, 0.41852283, 0.23604843],\n",
       "       [0.02823907, 1.67744635, 0.33286717],\n",
       "       [0.68474982, 0.25353313, 0.7640626 ]])"
      ]
     },
     "execution_count": 70,
     "metadata": {},
     "output_type": "execute_result"
    }
   ],
   "source": [
    "# 각 성분의 절대값 계산하기\n",
    "np.abs(data)"
   ]
  },
  {
   "cell_type": "code",
   "execution_count": 71,
   "metadata": {},
   "outputs": [
    {
     "data": {
      "text/plain": [
       "array([[0.31091076, 0.96598682, 0.72632235],\n",
       "       [0.94016883, 0.70082762, 0.69826626],\n",
       "       [0.59470345, 0.6469334 , 0.48584815],\n",
       "       [0.16804484, 1.29516267, 0.57694642],\n",
       "       [0.82749612, 0.50352074, 0.87410674]])"
      ]
     },
     "execution_count": 71,
     "metadata": {},
     "output_type": "execute_result"
    }
   ],
   "source": [
    "# 각 성분의 제곱근 계산하기 : data**0.5\n",
    "np.sqrt(np.abs(data))"
   ]
  },
  {
   "cell_type": "code",
   "execution_count": 72,
   "metadata": {},
   "outputs": [
    {
     "data": {
      "text/plain": [
       "array([[9.34421896e-03, 8.70732598e-01, 2.78302841e-01],\n",
       "       [7.81310013e-01, 2.41237511e-01, 2.37730127e-01],\n",
       "       [1.25084017e-01, 1.75161356e-01, 5.57188605e-02],\n",
       "       [7.97444954e-04, 2.81382626e+00, 1.10800554e-01],\n",
       "       [4.68882319e-01, 6.42790491e-02, 5.83791653e-01]])"
      ]
     },
     "execution_count": 72,
     "metadata": {},
     "output_type": "execute_result"
    }
   ],
   "source": [
    "# 각 성분의 제곱 계산하기\n",
    "np.square(data)"
   ]
  },
  {
   "cell_type": "markdown",
   "metadata": {},
   "source": [
    "#### 지수함수"
   ]
  },
  {
   "cell_type": "code",
   "execution_count": 73,
   "metadata": {},
   "outputs": [
    {
     "data": {
      "text/plain": [
       "array([[1.10149186, 2.54245598, 1.69476512],\n",
       "       [2.42036275, 1.63420975, 1.62836389],\n",
       "       [1.42428821, 0.65801811, 1.26623563],\n",
       "       [1.02864157, 0.18685052, 0.71686541],\n",
       "       [0.50421636, 0.77605403, 0.46577034]])"
      ]
     },
     "execution_count": 73,
     "metadata": {},
     "output_type": "execute_result"
    }
   ],
   "source": [
    "# 각 성분을 무리수 e의 지수로 삼은 값을 계산하기 e^x\n",
    "np.exp(data)"
   ]
  },
  {
   "cell_type": "markdown",
   "metadata": {},
   "source": [
    "#### 로그함수\n",
    "* 자연로그 : log()\n",
    "* 상용로그 : log10()\n",
    "* 밑이2인 로그 : log2()"
   ]
  },
  {
   "cell_type": "code",
   "execution_count": 74,
   "metadata": {},
   "outputs": [
    {
     "data": {
      "text/plain": [
       "array([[-2.33649871, -0.06921018, -0.6395227 ],\n",
       "       [-0.12339163, -0.71098665, -0.71830958],\n",
       "       [-1.03938482, -0.87102385, -1.44371829],\n",
       "       [-3.56704887,  0.51727261, -1.10001175],\n",
       "       [-0.37870173, -1.37226077, -0.26910556]])"
      ]
     },
     "execution_count": 74,
     "metadata": {},
     "output_type": "execute_result"
    }
   ],
   "source": [
    "# 자연로그\n",
    "np.log(abs(data))"
   ]
  },
  {
   "cell_type": "code",
   "execution_count": 75,
   "metadata": {},
   "outputs": [
    {
     "data": {
      "text/plain": [
       "array([[-1.0147285 , -0.0300576 , -0.27774118],\n",
       "       [-0.05358831, -0.30877758, -0.31195789],\n",
       "       [-0.45139909, -0.37828085, -0.62699889],\n",
       "       [-1.54914964,  0.22464864, -0.47772904],\n",
       "       [-0.16446807, -0.59596528, -0.11687106]])"
      ]
     },
     "execution_count": 75,
     "metadata": {},
     "output_type": "execute_result"
    }
   ],
   "source": [
    "# 상용로그\n",
    "np.log10(abs(data))"
   ]
  },
  {
   "cell_type": "code",
   "execution_count": 76,
   "metadata": {},
   "outputs": [
    {
     "data": {
      "text/plain": [
       "array([[-3.3708551 , -0.09984918, -0.92263623],\n",
       "       [-0.1780165 , -1.02573692, -1.03630168],\n",
       "       [-1.49951532, -1.25662178, -2.08284522],\n",
       "       [-5.14616372,  0.74626663, -1.5869815 ],\n",
       "       [-0.54635111, -1.9797538 , -0.38823726]])"
      ]
     },
     "execution_count": 76,
     "metadata": {},
     "output_type": "execute_result"
    }
   ],
   "source": [
    "# 밑이 2인 로그\n",
    "np.log2(abs(data))"
   ]
  },
  {
   "cell_type": "markdown",
   "metadata": {},
   "source": [
    "#### 각 성분의 부호 계산 : sign()\n",
    ": +인 경우1, -인 경우 -1, 0인 경우 0"
   ]
  },
  {
   "cell_type": "code",
   "execution_count": 77,
   "metadata": {},
   "outputs": [
    {
     "data": {
      "text/plain": [
       "array([[ 1.,  1.,  1.],\n",
       "       [ 1.,  1.,  1.],\n",
       "       [ 1., -1.,  1.],\n",
       "       [ 1., -1., -1.],\n",
       "       [-1., -1., -1.]])"
      ]
     },
     "execution_count": 77,
     "metadata": {},
     "output_type": "execute_result"
    }
   ],
   "source": [
    "# 각 성분의 부호 계산하기(+인 경우 1, -인 경우 -1, 0인 경우 0)\n",
    "np.sign(data)"
   ]
  },
  {
   "cell_type": "markdown",
   "metadata": {},
   "source": [
    "#### 반올림 함수"
   ]
  },
  {
   "cell_type": "code",
   "execution_count": 78,
   "metadata": {},
   "outputs": [
    {
     "data": {
      "text/plain": [
       "array([[ 0.0966655 ,  0.93313054,  0.52754416],\n",
       "       [ 0.88391742,  0.49115935,  0.48757577],\n",
       "       [ 0.35367219, -0.41852283,  0.23604843],\n",
       "       [ 0.02823907, -1.67744635, -0.33286717],\n",
       "       [-0.68474982, -0.25353313, -0.7640626 ]])"
      ]
     },
     "execution_count": 78,
     "metadata": {},
     "output_type": "execute_result"
    }
   ],
   "source": [
    "data"
   ]
  },
  {
   "cell_type": "code",
   "execution_count": 79,
   "metadata": {},
   "outputs": [
    {
     "data": {
      "text/plain": [
       "array([[ 0.,  0.,  0.],\n",
       "       [ 0.,  0.,  0.],\n",
       "       [ 0., -1.,  0.],\n",
       "       [ 0., -2., -1.],\n",
       "       [-1., -1., -1.]])"
      ]
     },
     "execution_count": 79,
     "metadata": {},
     "output_type": "execute_result"
    }
   ],
   "source": [
    "# 각 성분의 소수 첫 번째 자리에서 내림한 값을 계산하기\n",
    "np.floor(data)"
   ]
  },
  {
   "cell_type": "markdown",
   "metadata": {},
   "source": [
    "#### NaN 여부 확인(결측치 확인)"
   ]
  },
  {
   "cell_type": "code",
   "execution_count": 80,
   "metadata": {},
   "outputs": [
    {
     "data": {
      "text/plain": [
       "array([[False, False, False],\n",
       "       [False, False, False],\n",
       "       [False, False, False],\n",
       "       [False, False, False],\n",
       "       [False, False, False]])"
      ]
     },
     "execution_count": 80,
     "metadata": {},
     "output_type": "execute_result"
    }
   ],
   "source": [
    "# 각 성분이 NaN인 경우 True를, 아닌 경우 Fasle를 반환하기\n",
    "np.isnan(data)"
   ]
  },
  {
   "cell_type": "code",
   "execution_count": 81,
   "metadata": {},
   "outputs": [
    {
     "name": "stderr",
     "output_type": "stream",
     "text": [
      "<ipython-input-81-93220a73000a>:2: RuntimeWarning: invalid value encountered in log\n",
      "  np.isnan(np.log(data))\n"
     ]
    },
    {
     "data": {
      "text/plain": [
       "array([[False, False, False],\n",
       "       [False, False, False],\n",
       "       [False,  True, False],\n",
       "       [False,  True,  True],\n",
       "       [ True,  True,  True]])"
      ]
     },
     "execution_count": 81,
     "metadata": {},
     "output_type": "execute_result"
    }
   ],
   "source": [
    "# 로그변환한 배열 중 NaN 확인\n",
    "np.isnan(np.log(data))"
   ]
  },
  {
   "cell_type": "markdown",
   "metadata": {},
   "source": [
    "#### 무한대(inf) 확인"
   ]
  },
  {
   "cell_type": "code",
   "execution_count": 82,
   "metadata": {},
   "outputs": [
    {
     "data": {
      "text/plain": [
       "array([[False, False, False],\n",
       "       [False, False, False],\n",
       "       [False, False, False],\n",
       "       [False, False, False],\n",
       "       [False, False, False]])"
      ]
     },
     "execution_count": 82,
     "metadata": {},
     "output_type": "execute_result"
    }
   ],
   "source": [
    "# 각 성분이 무한대인 경우 True를, 아닌 경우 False를 반환하기\n",
    "np.isinf(data)"
   ]
  },
  {
   "cell_type": "markdown",
   "metadata": {},
   "source": [
    "#### 삼각함수\n",
    ": 각 성분에 대해 삼각함수 값을 계산하기(cos, cosh, sin, sinh, tan, tanh)"
   ]
  },
  {
   "cell_type": "code",
   "execution_count": 83,
   "metadata": {},
   "outputs": [
    {
     "data": {
      "text/plain": [
       "array([[ 0.99533153,  0.59532156,  0.86404598],\n",
       "       [ 0.63412695,  0.88178664,  0.88347117],\n",
       "       [ 0.9381072 ,  0.91369028,  0.97226969],\n",
       "       [ 0.9996013 , -0.10644796,  0.94510937],\n",
       "       [ 0.7745773 ,  0.96803227,  0.72203123]])"
      ]
     },
     "execution_count": 83,
     "metadata": {},
     "output_type": "execute_result"
    }
   ],
   "source": [
    "# cos()\n",
    "np.cos(data)"
   ]
  },
  {
   "cell_type": "code",
   "execution_count": 84,
   "metadata": {},
   "outputs": [
    {
     "data": {
      "text/plain": [
       "array([[1.00467575, 1.46788823, 1.14240869],\n",
       "       [1.41676198, 1.12306315, 1.12123862],\n",
       "       [1.06319665, 1.08886656, 1.02798903],\n",
       "       [1.00039875, 2.76936111, 1.0559137 ],\n",
       "       [1.24374598, 1.03231205, 1.30637559]])"
      ]
     },
     "execution_count": 84,
     "metadata": {},
     "output_type": "execute_result"
    }
   ],
   "source": [
    "# cosh()\n",
    "np.cosh(data)"
   ]
  },
  {
   "cell_type": "markdown",
   "metadata": {},
   "source": [
    "#### Sums, products, differences 함수"
   ]
  },
  {
   "cell_type": "code",
   "execution_count": 85,
   "metadata": {},
   "outputs": [
    {
     "data": {
      "text/plain": [
       "array([[ 0.0966655 ,  0.93313054,  0.52754416],\n",
       "       [ 0.88391742,  0.49115935,  0.48757577],\n",
       "       [ 0.35367219, -0.41852283,  0.23604843],\n",
       "       [ 0.02823907, -1.67744635, -0.33286717],\n",
       "       [-0.68474982, -0.25353313, -0.7640626 ]])"
      ]
     },
     "execution_count": 85,
     "metadata": {},
     "output_type": "execute_result"
    }
   ],
   "source": [
    "data"
   ]
  },
  {
   "cell_type": "code",
   "execution_count": 86,
   "metadata": {},
   "outputs": [
    {
     "data": {
      "text/plain": [
       "-0.09322947469277532"
      ]
     },
     "execution_count": 86,
     "metadata": {},
     "output_type": "execute_result"
    }
   ],
   "source": [
    "# 전체 성분의 합을 계산\n",
    "np.sum(data)"
   ]
  },
  {
   "cell_type": "code",
   "execution_count": 87,
   "metadata": {},
   "outputs": [
    {
     "data": {
      "text/plain": [
       "array([ 1.5573402 ,  1.86265254,  0.17119779, -1.98207445, -1.70234555])"
      ]
     },
     "execution_count": 87,
     "metadata": {},
     "output_type": "execute_result"
    }
   ],
   "source": [
    "# 열 간의 합을 계산(axis가 1일때 열끼리 합해줌.)\n",
    "np.sum(data, axis = 1)"
   ]
  },
  {
   "cell_type": "code",
   "execution_count": 88,
   "metadata": {},
   "outputs": [
    {
     "data": {
      "text/plain": [
       "array([ 0.67774436, -0.92521242,  0.15423858])"
      ]
     },
     "execution_count": 88,
     "metadata": {},
     "output_type": "execute_result"
    }
   ],
   "source": [
    "# 행 간의 합을 계산(axis가 0일때 행끼리 합해줌.)\n",
    "np.sum(data, axis = 0)"
   ]
  },
  {
   "cell_type": "markdown",
   "metadata": {},
   "source": [
    "#### 평균(mean), 표준편차(std), 분산(var)"
   ]
  },
  {
   "cell_type": "code",
   "execution_count": 89,
   "metadata": {},
   "outputs": [
    {
     "data": {
      "text/plain": [
       "-0.0062152983128516874"
      ]
     },
     "execution_count": 89,
     "metadata": {},
     "output_type": "execute_result"
    }
   ],
   "source": [
    "# 전체 성분의 평균 계산\n",
    "np.mean(data)"
   ]
  },
  {
   "cell_type": "code",
   "execution_count": 90,
   "metadata": {},
   "outputs": [
    {
     "data": {
      "text/plain": [
       "array([ 0.5191134 ,  0.62088418,  0.05706593, -0.66069148, -0.56744852])"
      ]
     },
     "execution_count": 90,
     "metadata": {},
     "output_type": "execute_result"
    }
   ],
   "source": [
    "# 행별로 평균 계산 axis=1\n",
    "np.mean(data, axis=1)"
   ]
  },
  {
   "cell_type": "code",
   "execution_count": 91,
   "metadata": {},
   "outputs": [
    {
     "data": {
      "text/plain": [
       "array([ 0.13554887, -0.18504248,  0.03084772])"
      ]
     },
     "execution_count": 91,
     "metadata": {},
     "output_type": "execute_result"
    }
   ],
   "source": [
    "# 열별로 평균 계산 axis=0\n",
    "np.mean(data, axis=0)"
   ]
  },
  {
   "cell_type": "code",
   "execution_count": 92,
   "metadata": {},
   "outputs": [
    {
     "data": {
      "text/plain": [
       "0.6741127190375007"
      ]
     },
     "execution_count": 92,
     "metadata": {},
     "output_type": "execute_result"
    }
   ],
   "source": [
    "# 전체 성분의 표준편차 계산\n",
    "np.std(data)"
   ]
  },
  {
   "cell_type": "code",
   "execution_count": 93,
   "metadata": {},
   "outputs": [
    {
     "data": {
      "text/plain": [
       "array([0.50863553, 0.89375983, 0.50231188])"
      ]
     },
     "execution_count": 93,
     "metadata": {},
     "output_type": "execute_result"
    }
   ],
   "source": [
    "# 열별로 표준편차 계산\n",
    "np.std(data, axis=0)"
   ]
  },
  {
   "cell_type": "code",
   "execution_count": 94,
   "metadata": {},
   "outputs": [
    {
     "data": {
      "text/plain": [
       "array([0.34153745, 0.18599834, 0.33970314, 0.73391292, 0.22432087])"
      ]
     },
     "execution_count": 94,
     "metadata": {},
     "output_type": "execute_result"
    }
   ],
   "source": [
    "# 행별로 표춘편차 계산\n",
    "np.std(data, axis=1)"
   ]
  },
  {
   "cell_type": "markdown",
   "metadata": {},
   "source": [
    "#### 최대값(max), 최소값(min)"
   ]
  },
  {
   "cell_type": "code",
   "execution_count": 95,
   "metadata": {},
   "outputs": [
    {
     "data": {
      "text/plain": [
       "array([-0.68474982, -1.67744635, -0.7640626 ])"
      ]
     },
     "execution_count": 95,
     "metadata": {},
     "output_type": "execute_result"
    }
   ],
   "source": [
    "# 각 열에서 최소값\n",
    "np.min(data, axis=0)"
   ]
  },
  {
   "cell_type": "code",
   "execution_count": 96,
   "metadata": {},
   "outputs": [
    {
     "data": {
      "text/plain": [
       "array([ 0.93313054,  0.88391742,  0.35367219,  0.02823907, -0.25353313])"
      ]
     },
     "execution_count": 96,
     "metadata": {},
     "output_type": "execute_result"
    }
   ],
   "source": [
    "# 각 행에서 최대값\n",
    "np.max(data, axis=1)"
   ]
  },
  {
   "cell_type": "markdown",
   "metadata": {},
   "source": [
    "#### 최대값, 최소값 위치 인덱스 : argmax(), argmin()"
   ]
  },
  {
   "cell_type": "code",
   "execution_count": 97,
   "metadata": {},
   "outputs": [
    {
     "data": {
      "text/plain": [
       "array([[ 0.0966655 ,  0.93313054,  0.52754416],\n",
       "       [ 0.88391742,  0.49115935,  0.48757577],\n",
       "       [ 0.35367219, -0.41852283,  0.23604843],\n",
       "       [ 0.02823907, -1.67744635, -0.33286717],\n",
       "       [-0.68474982, -0.25353313, -0.7640626 ]])"
      ]
     },
     "execution_count": 97,
     "metadata": {},
     "output_type": "execute_result"
    }
   ],
   "source": [
    "data"
   ]
  },
  {
   "cell_type": "code",
   "execution_count": 98,
   "metadata": {},
   "outputs": [
    {
     "data": {
      "text/plain": [
       "[10, 1]"
      ]
     },
     "execution_count": 98,
     "metadata": {},
     "output_type": "execute_result"
    }
   ],
   "source": [
    "# 전체 성분의 최소값, 최대값이 위치한 인덱스를 반환\n",
    "# 최소값의 위치, 최대값의 위치\n",
    "[np.argmin(data), np.argmax(data)]\n",
    "# 일차원적인 배열의 위치로 알려준다.(행 우선 단위ㅠ)"
   ]
  },
  {
   "cell_type": "code",
   "execution_count": 99,
   "metadata": {},
   "outputs": [
    {
     "data": {
      "text/plain": [
       "array([1, 0, 0, 0, 1], dtype=int64)"
      ]
     },
     "execution_count": 99,
     "metadata": {},
     "output_type": "execute_result"
    }
   ],
   "source": [
    "# 행방향으로 최대값이 위치한 인덱스 반환\n",
    "np.argmax(data, axis=1)"
   ]
  },
  {
   "cell_type": "markdown",
   "metadata": {},
   "source": [
    "#### 누적합(cumsum), 누적곱(cumprod)"
   ]
  },
  {
   "cell_type": "code",
   "execution_count": 100,
   "metadata": {},
   "outputs": [
    {
     "data": {
      "text/plain": [
       "array([ 0.0966655 ,  1.02979604,  1.5573402 ,  2.44125762,  2.93241698,\n",
       "        3.41999274,  3.77366493,  3.3551421 ,  3.59119053,  3.6194296 ,\n",
       "        1.94198325,  1.60911608,  0.92436626,  0.67083312, -0.09322947])"
      ]
     },
     "execution_count": 100,
     "metadata": {},
     "output_type": "execute_result"
    }
   ],
   "source": [
    "# 맨 처음 성분부터 각 성분까지의 누적합 또는 누적곱을 계산(cumsum, cumprod)\n",
    "np.cumsum(data)"
   ]
  },
  {
   "cell_type": "code",
   "execution_count": 101,
   "metadata": {},
   "outputs": [
    {
     "data": {
      "text/plain": [
       "array([[ 0.0966655 ,  0.93313054,  0.52754416],\n",
       "       [ 0.98058292,  1.42428989,  1.01511993],\n",
       "       [ 1.33425511,  1.00576706,  1.25116835],\n",
       "       [ 1.36249418, -0.67167929,  0.91830118],\n",
       "       [ 0.67774436, -0.92521242,  0.15423858]])"
      ]
     },
     "execution_count": 101,
     "metadata": {},
     "output_type": "execute_result"
    }
   ],
   "source": [
    "# 열기준 누적합\n",
    "np.cumsum(data, axis=0)\n",
    "# 각 열에서 0행부터 내려가면서 더해준다고 생각하면 된다."
   ]
  },
  {
   "cell_type": "code",
   "execution_count": 102,
   "metadata": {},
   "outputs": [
    {
     "data": {
      "text/plain": [
       "array([ 9.66655004e-02,  9.02015302e-02,  4.75852905e-02,  4.20614674e-02,\n",
       "        2.06588832e-02,  1.00727708e-02,  3.56245888e-03, -1.49097036e-03,\n",
       "       -3.51941210e-04, -9.93849171e-06,  1.66712866e-05, -5.54932402e-06,\n",
       "        3.79989864e-06, -9.63400204e-07,  7.36098062e-07])"
      ]
     },
     "execution_count": 102,
     "metadata": {},
     "output_type": "execute_result"
    }
   ],
   "source": [
    "# 누적곱\n",
    "np.cumprod(data)"
   ]
  },
  {
   "cell_type": "code",
   "execution_count": 103,
   "metadata": {},
   "outputs": [
    {
     "data": {
      "text/plain": [
       "array([[ 0.0966655 ,  0.09020153,  0.04758529],\n",
       "       [ 0.88391742,  0.43414431,  0.21167824],\n",
       "       [ 0.35367219, -0.14801988, -0.03493986],\n",
       "       [ 0.02823907, -0.04736952,  0.01576776],\n",
       "       [-0.68474982,  0.17360677, -0.13264644]])"
      ]
     },
     "execution_count": 103,
     "metadata": {},
     "output_type": "execute_result"
    }
   ],
   "source": [
    "np.cumprod(data, axis=1)"
   ]
  },
  {
   "cell_type": "markdown",
   "metadata": {},
   "source": [
    "#### 정렬 sort"
   ]
  },
  {
   "cell_type": "code",
   "execution_count": 104,
   "metadata": {},
   "outputs": [
    {
     "data": {
      "text/plain": [
       "array([[ 0.0966655 ,  0.93313054,  0.52754416],\n",
       "       [ 0.88391742,  0.49115935,  0.48757577],\n",
       "       [ 0.35367219, -0.41852283,  0.23604843],\n",
       "       [ 0.02823907, -1.67744635, -0.33286717],\n",
       "       [-0.68474982, -0.25353313, -0.7640626 ]])"
      ]
     },
     "execution_count": 104,
     "metadata": {},
     "output_type": "execute_result"
    }
   ],
   "source": [
    "data"
   ]
  },
  {
   "cell_type": "code",
   "execution_count": 105,
   "metadata": {},
   "outputs": [
    {
     "data": {
      "text/plain": [
       "array([[ 0.0966655 ,  0.52754416,  0.93313054],\n",
       "       [ 0.48757577,  0.49115935,  0.88391742],\n",
       "       [-0.41852283,  0.23604843,  0.35367219],\n",
       "       [-1.67744635, -0.33286717,  0.02823907],\n",
       "       [-0.7640626 , -0.68474982, -0.25353313]])"
      ]
     },
     "execution_count": 105,
     "metadata": {},
     "output_type": "execute_result"
    }
   ],
   "source": [
    "# 전체 성분에 대해서 오름차순으로 정렬\n",
    "np.sort(data) # 행 별로 오름차순으로 정리된다."
   ]
  },
  {
   "cell_type": "code",
   "execution_count": 106,
   "metadata": {},
   "outputs": [
    {
     "data": {
      "text/plain": [
       "array([[-0.7640626 , -0.68474982, -0.25353313],\n",
       "       [-1.67744635, -0.33286717,  0.02823907],\n",
       "       [-0.41852283,  0.23604843,  0.35367219],\n",
       "       [ 0.48757577,  0.49115935,  0.88391742],\n",
       "       [ 0.0966655 ,  0.52754416,  0.93313054]])"
      ]
     },
     "execution_count": 106,
     "metadata": {},
     "output_type": "execute_result"
    }
   ],
   "source": [
    "# 전체 성분에 대해서 [::-1]를 적용 : 정렬후 마지막행부터 표시\n",
    "np.sort(data)[::-1] \n",
    "# data의 밑에서부터  행별로 내림차순을 따져서 내려간다."
   ]
  },
  {
   "cell_type": "code",
   "execution_count": 107,
   "metadata": {},
   "outputs": [
    {
     "data": {
      "text/plain": [
       "array([[-0.68474982, -1.67744635, -0.7640626 ],\n",
       "       [ 0.02823907, -0.41852283, -0.33286717],\n",
       "       [ 0.0966655 , -0.25353313,  0.23604843],\n",
       "       [ 0.35367219,  0.49115935,  0.48757577],\n",
       "       [ 0.88391742,  0.93313054,  0.52754416]])"
      ]
     },
     "execution_count": 107,
     "metadata": {},
     "output_type": "execute_result"
    }
   ],
   "source": [
    "# 열 방향으로 오름차순으로 정렬(각 열마다 정렬)\n",
    "np.sort(data, axis=0)"
   ]
  },
  {
   "cell_type": "code",
   "execution_count": 108,
   "metadata": {},
   "outputs": [
    {
     "data": {
      "text/plain": [
       "array([[ 0.0966655 ,  0.52754416,  0.93313054],\n",
       "       [ 0.48757577,  0.49115935,  0.88391742],\n",
       "       [-0.41852283,  0.23604843,  0.35367219],\n",
       "       [-1.67744635, -0.33286717,  0.02823907],\n",
       "       [-0.7640626 , -0.68474982, -0.25353313]])"
      ]
     },
     "execution_count": 108,
     "metadata": {},
     "output_type": "execute_result"
    }
   ],
   "source": [
    "# 행 방향으로 오름차순으로 정렬(각 행마다 정렬)\n",
    "np.sort(data, axis=1)"
   ]
  },
  {
   "cell_type": "markdown",
   "metadata": {},
   "source": [
    "---"
   ]
  },
  {
   "cell_type": "markdown",
   "metadata": {},
   "source": [
    "### 두 개의 array에 적용되는 함수"
   ]
  },
  {
   "cell_type": "code",
   "execution_count": 109,
   "metadata": {},
   "outputs": [
    {
     "data": {
      "text/plain": [
       "array([[-1.04784123,  0.62312167,  0.14327893],\n",
       "       [ 0.56360901,  1.08324609,  0.38043529],\n",
       "       [-1.57016362, -0.96219305, -0.88502023],\n",
       "       [-1.14501879, -0.84063558,  1.53340534],\n",
       "       [-0.44242834, -1.54254728, -2.64162847]])"
      ]
     },
     "execution_count": 109,
     "metadata": {},
     "output_type": "execute_result"
    }
   ],
   "source": [
    "data1 = np.random.randn(5,3) # 5행 3열의 실수난수 생성\n",
    "data1"
   ]
  },
  {
   "cell_type": "code",
   "execution_count": 110,
   "metadata": {},
   "outputs": [
    {
     "data": {
      "text/plain": [
       "array([[ 0.95913539, -1.58548375, -1.14909123],\n",
       "       [ 0.35921551, -1.89877362,  0.63334318],\n",
       "       [-1.51366682,  0.29963955, -0.71256125],\n",
       "       [-1.02113484,  0.41621584, -0.66237842],\n",
       "       [ 0.28402433,  0.70448944, -0.92991448]])"
      ]
     },
     "execution_count": 110,
     "metadata": {},
     "output_type": "execute_result"
    }
   ],
   "source": [
    "data2 = np.random.randn(5,3) # 5행 3열의 실수난수 생성\n",
    "data2"
   ]
  },
  {
   "cell_type": "markdown",
   "metadata": {},
   "source": [
    "#### 두개의 array에 대해 동일한 위치의 성분끼리 연산\n",
    "* add(), subtract(), multiply(), divide()"
   ]
  },
  {
   "cell_type": "code",
   "execution_count": 111,
   "metadata": {},
   "outputs": [
    {
     "data": {
      "text/plain": [
       "array([[-0.08870584, -0.96236209, -1.0058123 ],\n",
       "       [ 0.92282452, -0.81552753,  1.01377847],\n",
       "       [-3.08383044, -0.6625535 , -1.59758148],\n",
       "       [-2.16615363, -0.42441974,  0.87102693],\n",
       "       [-0.15840401, -0.83805784, -3.57154295]])"
      ]
     },
     "execution_count": 111,
     "metadata": {},
     "output_type": "execute_result"
    }
   ],
   "source": [
    "# 두 배열의 합\n",
    "np.add(data1, data2)"
   ]
  },
  {
   "cell_type": "code",
   "execution_count": 112,
   "metadata": {},
   "outputs": [
    {
     "data": {
      "text/plain": [
       "array([[-2.00697662,  2.20860542,  1.29237016],\n",
       "       [ 0.2043935 ,  2.98201971, -0.25290789],\n",
       "       [-0.0564968 , -1.2618326 , -0.17245898],\n",
       "       [-0.12388395, -1.25685142,  2.19578376],\n",
       "       [-0.72645267, -2.24703672, -1.71171399]])"
      ]
     },
     "execution_count": 112,
     "metadata": {},
     "output_type": "execute_result"
    }
   ],
   "source": [
    "# 두 배열의 차\n",
    "np.subtract(data1, data2)"
   ]
  },
  {
   "cell_type": "code",
   "execution_count": 113,
   "metadata": {},
   "outputs": [
    {
     "data": {
      "text/plain": [
       "array([[-1.00502161, -0.98794928, -0.16464056],\n",
       "       [ 0.2024571 , -2.0568391 ,  0.2409461 ],\n",
       "       [ 2.37670458, -0.28831109,  0.63063112],\n",
       "       [ 1.16921858, -0.34988585, -1.0156946 ],\n",
       "       [-0.12566041, -1.08670827,  2.45648857]])"
      ]
     },
     "execution_count": 113,
     "metadata": {},
     "output_type": "execute_result"
    }
   ],
   "source": [
    "# 두 배열의 곱\n",
    "np.multiply(data1, data2)"
   ]
  },
  {
   "cell_type": "code",
   "execution_count": 114,
   "metadata": {},
   "outputs": [
    {
     "data": {
      "text/plain": [
       "array([[-1.09248521, -0.39301675, -0.12468891],\n",
       "       [ 1.56899966, -0.57049776,  0.60067796],\n",
       "       [ 1.03732446, -3.21116842,  1.24202689],\n",
       "       [ 1.12131987, -2.0197107 , -2.31499896],\n",
       "       [-1.5577128 , -2.18959602,  2.84072195]])"
      ]
     },
     "execution_count": 114,
     "metadata": {},
     "output_type": "execute_result"
    }
   ],
   "source": [
    "# 두 배열의 나누기\n",
    "np.divide(data1, data2)"
   ]
  },
  {
   "cell_type": "markdown",
   "metadata": {},
   "source": [
    "#### 최대값 또는 최소값 계산 : maximum(), minimum()"
   ]
  },
  {
   "cell_type": "code",
   "execution_count": 115,
   "metadata": {},
   "outputs": [
    {
     "data": {
      "text/plain": [
       "array([[ 0.95913539,  0.62312167,  0.14327893],\n",
       "       [ 0.56360901,  1.08324609,  0.63334318],\n",
       "       [-1.51366682,  0.29963955, -0.71256125],\n",
       "       [-1.02113484,  0.41621584,  1.53340534],\n",
       "       [ 0.28402433,  0.70448944, -0.92991448]])"
      ]
     },
     "execution_count": 115,
     "metadata": {},
     "output_type": "execute_result"
    }
   ],
   "source": [
    "np.maximum(data1, data2)\n",
    "# 둘을 비교해서 큰 값을 원소에 넣어준다."
   ]
  },
  {
   "cell_type": "code",
   "execution_count": 116,
   "metadata": {},
   "outputs": [
    {
     "data": {
      "text/plain": [
       "array([[-1.04784123, -1.58548375, -1.14909123],\n",
       "       [ 0.35921551, -1.89877362,  0.38043529],\n",
       "       [-1.57016362, -0.96219305, -0.88502023],\n",
       "       [-1.14501879, -0.84063558, -0.66237842],\n",
       "       [-0.44242834, -1.54254728, -2.64162847]])"
      ]
     },
     "execution_count": 116,
     "metadata": {},
     "output_type": "execute_result"
    }
   ],
   "source": [
    "np.minimum(data1, data2)\n",
    "# 둘을 비교해서 작은 값을 원소에 넣어준다."
   ]
  }
 ],
 "metadata": {
  "kernelspec": {
   "display_name": "Python 3",
   "language": "python",
   "name": "python3"
  },
  "language_info": {
   "codemirror_mode": {
    "name": "ipython",
    "version": 3
   },
   "file_extension": ".py",
   "mimetype": "text/x-python",
   "name": "python",
   "nbconvert_exporter": "python",
   "pygments_lexer": "ipython3",
   "version": "3.8.5"
  }
 },
 "nbformat": 4,
 "nbformat_minor": 4
}
