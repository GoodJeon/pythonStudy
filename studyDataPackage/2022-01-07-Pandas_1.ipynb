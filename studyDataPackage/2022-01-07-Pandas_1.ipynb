{
 "cells": [
  {
   "cell_type": "markdown",
   "metadata": {},
   "source": [
    "# Pandas"
   ]
  },
  {
   "cell_type": "markdown",
   "metadata": {},
   "source": [
    "* Python Data Analysis Library\n",
    "* 데이터 분석 및 가공을 위한 파이썬 라이브러리\n",
    "* series, DataFrame 등의 자료구조를 활용\n",
    "* R의 데이터프레임을 모방\n",
    "* 데이터를 수정하고 목적에 맞게 변경시키기 위해 사용\n",
    "* 데이터 프레임은 엑셀과 유사\n",
    "* Numpy를 사용하고 있어 계산이 빠름\n",
    "* 라이브러리 구성\n",
    "    * 여러종류의 클래스와 다양한 함수로 구성\n",
    "    * 시리즈와 데이터 프레임의 자료 구조 제공\n",
    "    * 시리즈(1차원 배열), 데이터프레임(2차원 배열)\n",
    "* [https://pandas.pydata.org/](https://pandas.pydata.org/)"
   ]
  },
  {
   "cell_type": "markdown",
   "metadata": {},
   "source": [
    "## 판다스의 목적\n",
    "\n",
    "* 서로 다른 유형의 데이터를 공통된 포맷으로 정리하는 것\n",
    "* 행과 열로 이루어진 2차원 데이터프레임을 처리 할 수 있는 함수제공 목적\n",
    "* 실무 사용 형태 : 데이터 프레임"
   ]
  },
  {
   "cell_type": "code",
   "execution_count": 1,
   "metadata": {},
   "outputs": [],
   "source": [
    "# pandas 모듈 import\n",
    "# 대부분의 코드에서 pandas를 pd 라는 별칭으로 사용\n",
    "import pandas as pd\n",
    "import numpy as np"
   ]
  },
  {
   "cell_type": "code",
   "execution_count": 2,
   "metadata": {},
   "outputs": [
    {
     "data": {
      "text/plain": [
       "'1.1.3'"
      ]
     },
     "execution_count": 2,
     "metadata": {},
     "output_type": "execute_result"
    }
   ],
   "source": [
    "pd.__version__"
   ]
  },
  {
   "cell_type": "markdown",
   "metadata": {},
   "source": [
    "## pandas의 데이터 구조\n",
    "\n",
    "1. Series 데이터\n",
    "    : 벡터처럼 되어있는 1차원적인 구조\n",
    "2. 데이터 프레임\n",
    "    : 행과 열을 갖고 있는 테이블(Matrix)적, 2차원적 구조"
   ]
  },
  {
   "attachments": {},
   "cell_type": "markdown",
   "metadata": {},
   "source": [
    "![image](https://user-images.githubusercontent.com/75322297/148494884-ede8f143-775b-469a-b2a5-95b00bbdbd5a.png)\n"
   ]
  },
  {
   "cell_type": "markdown",
   "metadata": {},
   "source": [
    "출처 : [https://www.kdnuggets.com/2017/01/pandas-cheat-sheet.html\n",
    "](https://www.kdnuggets.com/2017/01/pandas-cheat-sheet.html\n",
    ")"
   ]
  },
  {
   "cell_type": "markdown",
   "metadata": {},
   "source": [
    "---"
   ]
  },
  {
   "cell_type": "markdown",
   "metadata": {},
   "source": [
    "## 1. Series 데이터"
   ]
  },
  {
   "cell_type": "markdown",
   "metadata": {},
   "source": [
    "### Series\n",
    "\n",
    "* pandas의 기본 객체 중 하나\n",
    "* numpy의 ndarray를 기반으로 인덱싱 기능을 추가하여 1차원 배열을 나타냄\n",
    "* index를 지정하지 않을 시, 기본적으로 ndarray와 같이 0-based 인덱스 생성, 지정할 경우 명시적으로 지정된 index를 사용\n",
    "* 같은 타입의 0개 이상의 데이터를 가질 수 있음"
   ]
  },
  {
   "cell_type": "markdown",
   "metadata": {},
   "source": [
    "1. 자료구조 : 시리즈\n",
    "    * 데이터가 순차적으로 나열된 1차원 배열 형태\n",
    "    * 인덱스(index)와 데이터 값(value)이 일대일로 대응\n",
    "    * 딕셔너리와 비슷한 구조 : {key(index):value}\n",
    "2. 시리즈의 인덱스\n",
    "    * 데이터 값의 위치를 나타내는 이름표 역할\n",
    "3. 시리즈 생성: 판다스 내장함수인 Series()이용\n",
    "    * 리스트로 시리즈 만들기\n",
    "    * 딕셔너리로 시리즈 만들기\n",
    "    * 튜플로 시리즈 만들기"
   ]
  },
  {
   "cell_type": "markdown",
   "metadata": {},
   "source": [
    "### Series 생성하기"
   ]
  },
  {
   "cell_type": "markdown",
   "metadata": {},
   "source": [
    "#### pd.Series(seq_data) 함수 이용\n",
    "    * seq_data : 리스트, 딕셔너리, 튜플 타입 데이터"
   ]
  },
  {
   "cell_type": "markdown",
   "metadata": {},
   "source": [
    "#### 1) seq_data 를 이용하여 Series 생성하기\n",
    ": index는 기본적으로 0부터 자동적으로 생성\n"
   ]
  },
  {
   "cell_type": "markdown",
   "metadata": {},
   "source": [
    "* **리스트로 시리즈 만들기**"
   ]
  },
  {
   "cell_type": "code",
   "execution_count": 3,
   "metadata": {},
   "outputs": [
    {
     "data": {
      "text/plain": [
       "0    1\n",
       "1    2\n",
       "2    3\n",
       "dtype: int64"
      ]
     },
     "execution_count": 3,
     "metadata": {},
     "output_type": "execute_result"
    }
   ],
   "source": [
    "# pd.Series\n",
    "s = pd.Series([1,2,3])\n",
    "s"
   ]
  },
  {
   "cell_type": "code",
   "execution_count": 4,
   "metadata": {},
   "outputs": [
    {
     "data": {
      "text/plain": [
       "0    10\n",
       "1    20\n",
       "2    30\n",
       "3    40\n",
       "4    50\n",
       "dtype: int32"
      ]
     },
     "execution_count": 4,
     "metadata": {},
     "output_type": "execute_result"
    }
   ],
   "source": [
    "# 정수값을 갖은 리스트로 시리즈 생성\n",
    "s1 = pd.Series(np.arange(10,60,10))\n",
    "s1"
   ]
  },
  {
   "cell_type": "code",
   "execution_count": 5,
   "metadata": {},
   "outputs": [
    {
     "data": {
      "text/plain": [
       "0    A\n",
       "1    B\n",
       "2    C\n",
       "dtype: object"
      ]
     },
     "execution_count": 5,
     "metadata": {},
     "output_type": "execute_result"
    }
   ],
   "source": [
    "# 문자열을 갖은 리스트로 시리즈 생성\n",
    "s2 = pd.Series(['A', 'B', 'C'])\n",
    "s2"
   ]
  },
  {
   "cell_type": "code",
   "execution_count": 6,
   "metadata": {},
   "outputs": [
    {
     "data": {
      "text/plain": [
       "0    A\n",
       "1    B\n",
       "2    C\n",
       "dtype: object"
      ]
     },
     "execution_count": 6,
     "metadata": {},
     "output_type": "execute_result"
    }
   ],
   "source": [
    "# 문자열을 갖은 리스트로 시리즈 생성2\n",
    "s2 = pd.Series('A B C'.split()) # 스플릿 사용\n",
    "s2"
   ]
  },
  {
   "cell_type": "markdown",
   "metadata": {},
   "source": [
    "* **범위를 시리즈의 value 생성하는데 사용하기**\n",
    "    * range()/np.arange() 함수 사용"
   ]
  },
  {
   "cell_type": "code",
   "execution_count": 7,
   "metadata": {},
   "outputs": [
    {
     "data": {
      "text/plain": [
       "0    10\n",
       "1    11\n",
       "2    12\n",
       "3    13\n",
       "dtype: int64"
      ]
     },
     "execution_count": 7,
     "metadata": {},
     "output_type": "execute_result"
    }
   ],
   "source": [
    "# range()를 이용하여 정수범위 자료를 시리즈로 생성\n",
    "s3 = pd.Series(range(10, 14))\n",
    "s3"
   ]
  },
  {
   "cell_type": "code",
   "execution_count": 8,
   "metadata": {},
   "outputs": [
    {
     "data": {
      "text/plain": [
       "0    0\n",
       "1    1\n",
       "2    2\n",
       "3    3\n",
       "4    4\n",
       "dtype: int32"
      ]
     },
     "execution_count": 8,
     "metadata": {},
     "output_type": "execute_result"
    }
   ],
   "source": [
    "# arange()를 이용하여 정수범위 자료를 시리즈로 생성\n",
    "s4 = pd.Series(np.arange(5))\n",
    "s4"
   ]
  },
  {
   "cell_type": "markdown",
   "metadata": {},
   "source": [
    "* **결측값을 포함해서 시리즈 만들기**\n",
    "    * 결측값 NaN - numpy 라는 모듈에서 생성할 수 있음\n",
    "    * 결측값 생성 위해서는 numpy 모듈 import"
   ]
  },
  {
   "cell_type": "code",
   "execution_count": 9,
   "metadata": {},
   "outputs": [
    {
     "data": {
      "text/plain": [
       "0    1.0\n",
       "1    2.0\n",
       "2    3.0\n",
       "3    NaN\n",
       "4    6.0\n",
       "5    8.0\n",
       "dtype: float64"
      ]
     },
     "execution_count": 9,
     "metadata": {},
     "output_type": "execute_result"
    }
   ],
   "source": [
    "### pandas와 numpy 패키지는 import 해서 사용\n",
    "# import numpy as np\n",
    "\n",
    "s = pd.Series([1,2,3,np.nan,6,8])\n",
    "s\n",
    "\n",
    "# 인덱스 : 0부터 시작하는 정수값"
   ]
  },
  {
   "cell_type": "markdown",
   "metadata": {},
   "source": [
    "#### 2) 인덱스 명시해서 시리즈 만들기\n",
    "\n",
    "* **숫자 인덱스 지정**\n",
    "    * s = pd.Series([값1,값2,값3,...], index=[1,2,3,...])"
   ]
  },
  {
   "cell_type": "code",
   "execution_count": 10,
   "metadata": {},
   "outputs": [
    {
     "data": {
      "text/plain": [
       "1    10\n",
       "2    20\n",
       "3    30\n",
       "dtype: int64"
      ]
     },
     "execution_count": 10,
     "metadata": {},
     "output_type": "execute_result"
    }
   ],
   "source": [
    "# 숫자 인덱스 지정\n",
    "s1 = pd.Series([10,20,30], index=[1,2,3])\n",
    "s1"
   ]
  },
  {
   "cell_type": "markdown",
   "metadata": {},
   "source": [
    "* **문자 인덱스 지정**\n"
   ]
  },
  {
   "cell_type": "code",
   "execution_count": 11,
   "metadata": {},
   "outputs": [
    {
     "data": {
      "text/plain": [
       "홍길동     95\n",
       "이몽룡    100\n",
       "성춘향     88\n",
       "dtype: int64"
      ]
     },
     "execution_count": 11,
     "metadata": {},
     "output_type": "execute_result"
    }
   ],
   "source": [
    "# 문자 인덱스 지정\n",
    "s2 = pd.Series([95,100,88], index=['홍길동','이몽룡','성춘향'])\n",
    "s2"
   ]
  },
  {
   "cell_type": "markdown",
   "metadata": {},
   "source": [
    "#### 3) 인덱스 활용"
   ]
  },
  {
   "cell_type": "markdown",
   "metadata": {},
   "source": [
    "* **시리즈의 index**\n",
    "    * 시리즈의 index는 index 속성으로 접근 : **시리즈index**"
   ]
  },
  {
   "cell_type": "code",
   "execution_count": 12,
   "metadata": {},
   "outputs": [
    {
     "data": {
      "text/plain": [
       "Int64Index([1, 2, 3], dtype='int64')"
      ]
     },
     "execution_count": 12,
     "metadata": {},
     "output_type": "execute_result"
    }
   ],
   "source": [
    "# 시리즈.index\n",
    "s1.index"
   ]
  },
  {
   "cell_type": "code",
   "execution_count": 13,
   "metadata": {},
   "outputs": [
    {
     "data": {
      "text/plain": [
       "Index(['홍길동', '이몽룡', '성춘향'], dtype='object')"
      ]
     },
     "execution_count": 13,
     "metadata": {},
     "output_type": "execute_result"
    }
   ],
   "source": [
    "s2.index"
   ]
  },
  {
   "cell_type": "code",
   "execution_count": 14,
   "metadata": {},
   "outputs": [
    {
     "data": {
      "text/plain": [
       "Index(['서울', '부산', '인천', '대구'], dtype='object')"
      ]
     },
     "execution_count": 14,
     "metadata": {},
     "output_type": "execute_result"
    }
   ],
   "source": [
    "s = pd.Series([9904312, 3448737, 289045, 2466052],\n",
    "             index = ['서울', '부산', '인천', '대구'])\n",
    "s.index\n",
    "\n",
    "# dtype = 'object' : datatype = '문자열객체'"
   ]
  },
  {
   "cell_type": "markdown",
   "metadata": {},
   "source": [
    "* **시리즈.index.name 속성**\n",
    "    * 시리즈의 인덱스에 이름을 붙일 수 있음"
   ]
  },
  {
   "cell_type": "code",
   "execution_count": 15,
   "metadata": {},
   "outputs": [
    {
     "name": "stdout",
     "output_type": "stream",
     "text": [
      "None\n"
     ]
    },
    {
     "data": {
      "text/plain": [
       "서울    9904312\n",
       "부산    3448737\n",
       "인천     289045\n",
       "대구    2466052\n",
       "dtype: int64"
      ]
     },
     "execution_count": 15,
     "metadata": {},
     "output_type": "execute_result"
    }
   ],
   "source": [
    "print(s.index.name)\n",
    "s # None"
   ]
  },
  {
   "cell_type": "code",
   "execution_count": 16,
   "metadata": {},
   "outputs": [
    {
     "data": {
      "text/plain": [
       "도시\n",
       "서울    9904312\n",
       "부산    3448737\n",
       "인천     289045\n",
       "대구    2466052\n",
       "dtype: int64"
      ]
     },
     "execution_count": 16,
     "metadata": {},
     "output_type": "execute_result"
    }
   ],
   "source": [
    "s.index.name = '도시' \n",
    "s # 도시라는 index 제목이 생김"
   ]
  },
  {
   "cell_type": "markdown",
   "metadata": {},
   "source": [
    "#### 4) 시리즈의 값\n",
    "\n",
    "* numpy 자료 구조 : 1차원 배열\n",
    "* values 속성으로 접근 : **시리즈.values**"
   ]
  },
  {
   "cell_type": "code",
   "execution_count": 17,
   "metadata": {},
   "outputs": [
    {
     "data": {
      "text/plain": [
       "array([9904312, 3448737,  289045, 2466052], dtype=int64)"
      ]
     },
     "execution_count": 17,
     "metadata": {},
     "output_type": "execute_result"
    }
   ],
   "source": [
    "# 시리즈 값\n",
    "s.values"
   ]
  },
  {
   "cell_type": "markdown",
   "metadata": {},
   "source": [
    "#### 5) 시리즈.name 속성\n",
    "* 시리즈 데이터에 이름을 붙일 수 있음\n",
    "* name 속성은 값의 의미 전달에 사용"
   ]
  },
  {
   "cell_type": "code",
   "execution_count": 18,
   "metadata": {},
   "outputs": [
    {
     "name": "stdout",
     "output_type": "stream",
     "text": [
      "None\n"
     ]
    }
   ],
   "source": [
    "# 시리즈의 name 속성 출력\n",
    "print(s.name)"
   ]
  },
  {
   "cell_type": "code",
   "execution_count": 19,
   "metadata": {},
   "outputs": [
    {
     "data": {
      "text/plain": [
       "도시\n",
       "서울    9904312\n",
       "부산    3448737\n",
       "인천     289045\n",
       "대구    2466052\n",
       "Name: 인구수, dtype: int64"
      ]
     },
     "execution_count": 19,
     "metadata": {},
     "output_type": "execute_result"
    }
   ],
   "source": [
    "# 시리즈 name 속셩 변경\n",
    "s.name = '인구수'\n",
    "s # Name에 인구수가 생김"
   ]
  },
  {
   "cell_type": "markdown",
   "metadata": {},
   "source": [
    "---"
   ]
  },
  {
   "cell_type": "markdown",
   "metadata": {},
   "source": [
    "### 시리즈 인덱싱(indexing)\n",
    "* 인덱싱 : 데이터에서 특정한 데이터를 골라내는 것\n"
   ]
  },
  {
   "cell_type": "markdown",
   "metadata": {},
   "source": [
    "#### 시리즈의 인덱싱 종류\n",
    "1. 정수형 위치 인덱스(integer position)\n",
    "2. 인덱스 이름(index name) 또는 인덱스 라벨(index label)\n",
    "    * 인덱스 별도 지정하지 않으면 0부터 시작하는 정수형 인덱스가 지정됨\n",
    "        \n",
    "**원소접근**\n",
    "- 정수형 인덱스 : 숫자 s[0]\n",
    "- 문자형 인덱스 : 문자 s['인천'] , s.인천"
   ]
  },
  {
   "cell_type": "code",
   "execution_count": 20,
   "metadata": {},
   "outputs": [
    {
     "name": "stdout",
     "output_type": "stream",
     "text": [
      "Index(['서울', '부산', '인천', '대구'], dtype='object', name='도시')\n"
     ]
    },
    {
     "data": {
      "text/plain": [
       "9904312"
      ]
     },
     "execution_count": 20,
     "metadata": {},
     "output_type": "execute_result"
    }
   ],
   "source": [
    "# 정수형 인덱스 접근\n",
    "print(s.index)\n",
    "s[0]"
   ]
  },
  {
   "cell_type": "code",
   "execution_count": 21,
   "metadata": {},
   "outputs": [
    {
     "data": {
      "text/plain": [
       "9904312"
      ]
     },
     "execution_count": 21,
     "metadata": {},
     "output_type": "execute_result"
    }
   ],
   "source": [
    "# 문자형 인덱스 접근\n",
    "s['서울']"
   ]
  },
  {
   "cell_type": "code",
   "execution_count": 22,
   "metadata": {},
   "outputs": [
    {
     "data": {
      "text/plain": [
       "(289045, 289045)"
      ]
     },
     "execution_count": 22,
     "metadata": {},
     "output_type": "execute_result"
    }
   ],
   "source": [
    "# 한 줄에 위치 인덱스와 문자 인덱스를 동시에 접근\n",
    "s[2], s['인천']"
   ]
  },
  {
   "cell_type": "markdown",
   "metadata": {},
   "source": [
    "#### 리스트 이용 인덱싱\n",
    "* 자료의 순서를 바꾸거나 특정자료 여러개를 선택할 수 있다.\n",
    "* 인덱스값 여러 개를 이용해 접근시 []안에 넣는다."
   ]
  },
  {
   "cell_type": "code",
   "execution_count": 23,
   "metadata": {},
   "outputs": [
    {
     "data": {
      "text/plain": [
       "도시\n",
       "부산    3448737\n",
       "인천     289045\n",
       "Name: 인구수, dtype: int64"
      ]
     },
     "execution_count": 23,
     "metadata": {},
     "output_type": "execute_result"
    }
   ],
   "source": [
    "# 여러 개 접근\n",
    "s[[1,2]]"
   ]
  },
  {
   "cell_type": "code",
   "execution_count": 24,
   "metadata": {},
   "outputs": [
    {
     "data": {
      "text/plain": [
       "도시\n",
       "서울    9904312\n",
       "대구    2466052\n",
       "Name: 인구수, dtype: int64"
      ]
     },
     "execution_count": 24,
     "metadata": {},
     "output_type": "execute_result"
    }
   ],
   "source": [
    "s[['서울','대구']]"
   ]
  },
  {
   "cell_type": "markdown",
   "metadata": {},
   "source": [
    "#### 문자 인덱스를 이용한 인덱싱\n",
    "* [.]연산자를 이용하여 접근가능 : 객체명.문자인덱스명"
   ]
  },
  {
   "cell_type": "code",
   "execution_count": 25,
   "metadata": {},
   "outputs": [
    {
     "data": {
      "text/plain": [
       "9904312"
      ]
     },
     "execution_count": 25,
     "metadata": {},
     "output_type": "execute_result"
    }
   ],
   "source": [
    "# 인덱스를 문자값으로 지정한 시리즈\n",
    "s.서울"
   ]
  },
  {
   "cell_type": "code",
   "execution_count": 26,
   "metadata": {},
   "outputs": [
    {
     "data": {
      "text/plain": [
       "a    0\n",
       "b    1\n",
       "c    2\n",
       "dtype: int64"
      ]
     },
     "execution_count": 26,
     "metadata": {},
     "output_type": "execute_result"
    }
   ],
   "source": [
    "# s1의 인덱스가 a,b,c\n",
    "s1 = pd.Series(range(3), index=['a','b','c'])\n",
    "s1"
   ]
  },
  {
   "cell_type": "code",
   "execution_count": 27,
   "metadata": {},
   "outputs": [
    {
     "data": {
      "text/plain": [
       "(0, 1, 2)"
      ]
     },
     "execution_count": 27,
     "metadata": {},
     "output_type": "execute_result"
    }
   ],
   "source": [
    "s1.a, s1.b, s1.c # 각 인덱스에 해당하는 value들이 나온다."
   ]
  },
  {
   "cell_type": "markdown",
   "metadata": {},
   "source": [
    "---"
   ]
  },
  {
   "cell_type": "markdown",
   "metadata": {},
   "source": [
    "### 시리즈 슬라이싱(slicing)\n",
    "* 정수형 위치 인덱스를 사용한 슬라이싱\n",
    "    * 시리즈[start : stop+1]\n",
    "    \n",
    "* 문자(라벨)인덱스 이용 슬라이싱\n",
    "    * 시리즈['시작라벨':'끝라벨'] : 표시된 라벨 범위 모두 추출"
   ]
  },
  {
   "cell_type": "code",
   "execution_count": 28,
   "metadata": {},
   "outputs": [
    {
     "data": {
      "text/plain": [
       "도시\n",
       "부산    3448737\n",
       "인천     289045\n",
       "Name: 인구수, dtype: int64"
      ]
     },
     "execution_count": 28,
     "metadata": {},
     "output_type": "execute_result"
    }
   ],
   "source": [
    "# 값 2개 추출 - [1,2]\n",
    "s[1:3]"
   ]
  },
  {
   "cell_type": "code",
   "execution_count": 29,
   "metadata": {},
   "outputs": [
    {
     "data": {
      "text/plain": [
       "도시\n",
       "부산    3448737\n",
       "인천     289045\n",
       "대구    2466052\n",
       "Name: 인구수, dtype: int64"
      ]
     },
     "execution_count": 29,
     "metadata": {},
     "output_type": "execute_result"
    }
   ],
   "source": [
    "# 문자 인덱스를 이용한 슬라이싱\n",
    "# 2~4번째 값 (3개값)\n",
    "\n",
    "s['부산':'대구']"
   ]
  },
  {
   "cell_type": "markdown",
   "metadata": {},
   "source": [
    "---"
   ]
  },
  {
   "cell_type": "markdown",
   "metadata": {},
   "source": [
    "### 인덱스 통한 시리즈 데이터 업데이트"
   ]
  },
  {
   "cell_type": "code",
   "execution_count": 30,
   "metadata": {},
   "outputs": [
    {
     "data": {
      "text/plain": [
       "도시\n",
       "서울    9904312\n",
       "부산    3448737\n",
       "인천     289045\n",
       "대구    2466052\n",
       "Name: 인구수, dtype: int64"
      ]
     },
     "execution_count": 30,
     "metadata": {},
     "output_type": "execute_result"
    }
   ],
   "source": [
    "s"
   ]
  },
  {
   "cell_type": "code",
   "execution_count": 31,
   "metadata": {},
   "outputs": [
    {
     "data": {
      "text/plain": [
       "도시\n",
       "서울    10000000\n",
       "부산     3448737\n",
       "인천      289045\n",
       "대구     2466052\n",
       "Name: 인구수, dtype: int64"
      ]
     },
     "execution_count": 31,
     "metadata": {},
     "output_type": "execute_result"
    }
   ],
   "source": [
    "# '서울' 데이터 변경\n",
    "s.서울 = 10000000\n",
    "# s['서울'] = 10000000\n",
    "# s[0] = 10000000\n",
    "s"
   ]
  },
  {
   "cell_type": "markdown",
   "metadata": {},
   "source": [
    "---"
   ]
  },
  {
   "cell_type": "markdown",
   "metadata": {},
   "source": [
    "### 인덱스 재사용"
   ]
  },
  {
   "cell_type": "code",
   "execution_count": 32,
   "metadata": {},
   "outputs": [
    {
     "data": {
      "text/plain": [
       "도시\n",
       "서울    0\n",
       "부산    1\n",
       "인천    2\n",
       "대구    3\n",
       "dtype: int32"
      ]
     },
     "execution_count": 32,
     "metadata": {},
     "output_type": "execute_result"
    }
   ],
   "source": [
    "s1 = pd.Series(np.arange(4), s.index) \n",
    "# value를 새로 적고 s의 인덱스를 불러옴\n",
    "s1"
   ]
  },
  {
   "cell_type": "markdown",
   "metadata": {},
   "source": [
    "---"
   ]
  },
  {
   "cell_type": "markdown",
   "metadata": {},
   "source": [
    "### 시리즈 연산"
   ]
  },
  {
   "cell_type": "markdown",
   "metadata": {},
   "source": [
    "#### 벡터화 연산\n",
    "\n",
    "* numpy 배열처럼 pandas의 시리즈도 벡터화 연산 가능\n",
    "* 벡터화 연산이란 집합적 자료형의 원소 각각을 독립적으로 계산을 진행하는 방법\n",
    "    * 단, 연산은 시리즈의 값에만 적용되며 인덱스 값은 변경 불가"
   ]
  },
  {
   "cell_type": "code",
   "execution_count": 33,
   "metadata": {},
   "outputs": [
    {
     "data": {
      "text/plain": [
       "0    5\n",
       "1    6\n",
       "2    7\n",
       "dtype: int64"
      ]
     },
     "execution_count": 33,
     "metadata": {},
     "output_type": "execute_result"
    }
   ],
   "source": [
    "# 시리즈와 스칼라의 합\n",
    "pd.Series([1,2,3]) + 4"
   ]
  },
  {
   "cell_type": "code",
   "execution_count": 34,
   "metadata": {},
   "outputs": [
    {
     "data": {
      "text/plain": [
       "도시\n",
       "서울    10.000000\n",
       "부산     3.448737\n",
       "인천     0.289045\n",
       "대구     2.466052\n",
       "Name: 인구수, dtype: float64"
      ]
     },
     "execution_count": 34,
     "metadata": {},
     "output_type": "execute_result"
    }
   ],
   "source": [
    "# s시리즈의 값을 1/1000000로 변경\n",
    "s/1000000\n",
    "\n",
    "# s 시리즈의 모든 value에 대하여 각각 연산을 진행\n",
    "# 실수형으로 반환"
   ]
  },
  {
   "cell_type": "markdown",
   "metadata": {},
   "source": [
    "#### 벡터화 인덱싱 : Boolean selection\n",
    "\n",
    "* boolean Series 가 []와 함께 사용되면 True 값에 해당하는 값만 새로 반환되는 Series 객체에 포함됨\n",
    "* 다중조건의 경우, &(and), |(or)를 사용하여 연결 가능"
   ]
  },
  {
   "cell_type": "code",
   "execution_count": 35,
   "metadata": {},
   "outputs": [
    {
     "data": {
      "text/plain": [
       "도시\n",
       "부산    3448737\n",
       "Name: 인구수, dtype: int64"
      ]
     },
     "execution_count": 35,
     "metadata": {},
     "output_type": "execute_result"
    }
   ],
   "source": [
    "# 벡터화 인덱싱\n",
    "# s 시리즈 값 중 2500000 보다 크고 5000000 보다 작은 원소를 추출\n",
    "# 각 원소의 값 모두 각각 조건식을 확인 하여 결과가 True인 원소만 추출\n",
    "s[(s > 2500000) & (s < 5000000)] # 반드시 ()해야함\n",
    "# (s > 25e05) & (s < 50e05) : 데이터의 수가 너무 큰경우 이렇게 줄일 수 있다."
   ]
  },
  {
   "cell_type": "code",
   "execution_count": 36,
   "metadata": {},
   "outputs": [
    {
     "data": {
      "text/plain": [
       "1     0\n",
       "2     1\n",
       "3     2\n",
       "4     3\n",
       "5     4\n",
       "6     5\n",
       "7     6\n",
       "8     7\n",
       "9     8\n",
       "10    9\n",
       "dtype: int32"
      ]
     },
     "execution_count": 36,
     "metadata": {},
     "output_type": "execute_result"
    }
   ],
   "source": [
    "s0 = pd.Series(np.arange(10), np.arange(10)+1)\n",
    "s0"
   ]
  },
  {
   "cell_type": "code",
   "execution_count": 37,
   "metadata": {},
   "outputs": [
    {
     "data": {
      "text/plain": [
       "1     False\n",
       "2     False\n",
       "3     False\n",
       "4     False\n",
       "5     False\n",
       "6     False\n",
       "7      True\n",
       "8      True\n",
       "9      True\n",
       "10     True\n",
       "dtype: bool"
      ]
     },
     "execution_count": 37,
     "metadata": {},
     "output_type": "execute_result"
    }
   ],
   "source": [
    "# 5보다 큰가?\n",
    "s0 > 5"
   ]
  },
  {
   "cell_type": "code",
   "execution_count": 38,
   "metadata": {},
   "outputs": [
    {
     "data": {
      "text/plain": [
       "7     6\n",
       "8     7\n",
       "9     8\n",
       "10    9\n",
       "dtype: int32"
      ]
     },
     "execution_count": 38,
     "metadata": {},
     "output_type": "execute_result"
    }
   ],
   "source": [
    "# 5보다 큰 요소 추출\n",
    "s0[s0>5]"
   ]
  },
  {
   "cell_type": "code",
   "execution_count": 39,
   "metadata": {},
   "outputs": [
    {
     "data": {
      "text/plain": [
       "3    2\n",
       "5    4\n",
       "7    6\n",
       "9    8\n",
       "dtype: int32"
      ]
     },
     "execution_count": 39,
     "metadata": {},
     "output_type": "execute_result"
    }
   ],
   "source": [
    "# 짝수 추출\n",
    "s0[(s0 % 2 == 0) & (s0 != 0)]"
   ]
  },
  {
   "cell_type": "code",
   "execution_count": 40,
   "metadata": {},
   "outputs": [
    {
     "data": {
      "text/plain": [
       "1     0\n",
       "2     1\n",
       "3     2\n",
       "4     3\n",
       "5     4\n",
       "6     5\n",
       "7     6\n",
       "8     7\n",
       "9     8\n",
       "10    9\n",
       "dtype: int32"
      ]
     },
     "execution_count": 40,
     "metadata": {},
     "output_type": "execute_result"
    }
   ],
   "source": [
    "s0"
   ]
  },
  {
   "cell_type": "code",
   "execution_count": 41,
   "metadata": {},
   "outputs": [
    {
     "data": {
      "text/plain": [
       "array([False, False, False, False, False,  True,  True,  True,  True,\n",
       "        True])"
      ]
     },
     "execution_count": 41,
     "metadata": {},
     "output_type": "execute_result"
    }
   ],
   "source": [
    "# 인덱스가 5보다 큰가?\n",
    "s0.index > 5"
   ]
  },
  {
   "cell_type": "code",
   "execution_count": 42,
   "metadata": {},
   "outputs": [
    {
     "data": {
      "text/plain": [
       "5     4\n",
       "6     5\n",
       "7     6\n",
       "8     7\n",
       "9     8\n",
       "10    9\n",
       "dtype: int32"
      ]
     },
     "execution_count": 42,
     "metadata": {},
     "output_type": "execute_result"
    }
   ],
   "source": [
    "# 인덱스가 5이상인 요소 추출\n",
    "s0[s0.index>=5]"
   ]
  },
  {
   "cell_type": "code",
   "execution_count": 43,
   "metadata": {},
   "outputs": [
    {
     "data": {
      "text/plain": [
       "7    6\n",
       "8    7\n",
       "dtype: int32"
      ]
     },
     "execution_count": 43,
     "metadata": {},
     "output_type": "execute_result"
    }
   ],
   "source": [
    "# 값이 5보다 크고 8보다 작은 요소 추출\n",
    "s0[(s0 > 5) & (s0 < 8)]"
   ]
  },
  {
   "cell_type": "code",
   "execution_count": 44,
   "metadata": {},
   "outputs": [
    {
     "data": {
      "text/plain": [
       "24"
      ]
     },
     "execution_count": 44,
     "metadata": {},
     "output_type": "execute_result"
    }
   ],
   "source": [
    "# 값이 7이상인 수들의 합\n",
    "s0[s0 >= 7].sum()"
   ]
  },
  {
   "cell_type": "code",
   "execution_count": 45,
   "metadata": {},
   "outputs": [
    {
     "data": {
      "text/plain": [
       "3"
      ]
     },
     "execution_count": 45,
     "metadata": {},
     "output_type": "execute_result"
    }
   ],
   "source": [
    "# 값이 7 이상인 값들의 개수(True값들의 개수)\n",
    "(s0 >= 7).sum()"
   ]
  },
  {
   "cell_type": "markdown",
   "metadata": {},
   "source": [
    "#### 두 시리즈간의 연산"
   ]
  },
  {
   "cell_type": "code",
   "execution_count": 46,
   "metadata": {},
   "outputs": [
    {
     "data": {
      "text/plain": [
       "a    1\n",
       "b    2\n",
       "c    3\n",
       "d    4\n",
       "dtype: int64"
      ]
     },
     "execution_count": 46,
     "metadata": {},
     "output_type": "execute_result"
    }
   ],
   "source": [
    "num_s1 = pd.Series([1,2,3,4], index=['a','b','c','d'])\n",
    "num_s1"
   ]
  },
  {
   "cell_type": "code",
   "execution_count": 47,
   "metadata": {},
   "outputs": [
    {
     "data": {
      "text/plain": [
       "b    5\n",
       "c    6\n",
       "d    7\n",
       "a    8\n",
       "dtype: int64"
      ]
     },
     "execution_count": 47,
     "metadata": {},
     "output_type": "execute_result"
    }
   ],
   "source": [
    "num_s2 = pd.Series([5,6,7,8], index=['b','c','d','a'])\n",
    "num_s2"
   ]
  },
  {
   "cell_type": "markdown",
   "metadata": {},
   "source": [
    "* 시리즈간의 연산은 같은 인덱스를 찾아 연산을 진행\n",
    "* 동일한 인덱스는 연산을 진행하고 나머지 인덱스는 연산처리가 불가해 NaN값 처리"
   ]
  },
  {
   "cell_type": "markdown",
   "metadata": {},
   "source": [
    "* 시리즈 + 시리즈\n",
    "    * 같은 인덱스를 찾아 + 연산을 진행"
   ]
  },
  {
   "cell_type": "code",
   "execution_count": 48,
   "metadata": {},
   "outputs": [
    {
     "data": {
      "text/plain": [
       "a     9\n",
       "b     7\n",
       "c     9\n",
       "d    11\n",
       "dtype: int64"
      ]
     },
     "execution_count": 48,
     "metadata": {},
     "output_type": "execute_result"
    }
   ],
   "source": [
    "# 두 시리즈에 대한 + 연산\n",
    "num_s1 + num_s2"
   ]
  },
  {
   "cell_type": "markdown",
   "metadata": {},
   "source": [
    "* 시리즈 + 시리즈\n",
    "    * 동일한 인덱스는 연산을 진행하고 나머지 인덱스는 연산처리가 불가해 NaN값 처리"
   ]
  },
  {
   "cell_type": "code",
   "execution_count": 49,
   "metadata": {},
   "outputs": [],
   "source": [
    "num_s3 = pd.Series([5,6,7,8], index=['e','b','f','g'])\n",
    "num_s4 = pd.Series([1,2,3,4], index=['a','b','c','d'])"
   ]
  },
  {
   "cell_type": "code",
   "execution_count": 50,
   "metadata": {},
   "outputs": [
    {
     "data": {
      "text/plain": [
       "a    NaN\n",
       "b    8.0\n",
       "c    NaN\n",
       "d    NaN\n",
       "e    NaN\n",
       "f    NaN\n",
       "g    NaN\n",
       "dtype: float64"
      ]
     },
     "execution_count": 50,
     "metadata": {},
     "output_type": "execute_result"
    }
   ],
   "source": [
    "# 두 시리즈의 + 연산\n",
    "num_s3 + num_s4 # 겹치는 인덱스인 b만 + 연산이 된 것을 확인"
   ]
  },
  {
   "cell_type": "markdown",
   "metadata": {},
   "source": [
    "* 시리즈 - 시리즈"
   ]
  },
  {
   "cell_type": "code",
   "execution_count": 51,
   "metadata": {},
   "outputs": [
    {
     "data": {
      "text/plain": [
       "a    NaN\n",
       "b    4.0\n",
       "c    NaN\n",
       "d    NaN\n",
       "e    NaN\n",
       "f    NaN\n",
       "g    NaN\n",
       "dtype: float64"
      ]
     },
     "execution_count": 51,
     "metadata": {},
     "output_type": "execute_result"
    }
   ],
   "source": [
    "# 두 시리즈의 -연산\n",
    "num_s3  - num_s4"
   ]
  },
  {
   "cell_type": "markdown",
   "metadata": {},
   "source": [
    "* 시리즈의 values 속성을 이용한 연산\n",
    "    * values 속성을 사용하면 시리즈의 형태가 사라지므로 동일 위치 원소들끼리 연산\n",
    "    * 시리즈.values 는 array 형태 반환"
   ]
  },
  {
   "cell_type": "code",
   "execution_count": 52,
   "metadata": {},
   "outputs": [
    {
     "data": {
      "text/plain": [
       "array([4, 4, 4, 4], dtype=int64)"
      ]
     },
     "execution_count": 52,
     "metadata": {},
     "output_type": "execute_result"
    }
   ],
   "source": [
    "#  두 시리즈 values 들 간의 - 연산\n",
    "num_s3.values - num_s4.values"
   ]
  },
  {
   "cell_type": "markdown",
   "metadata": {},
   "source": [
    "#### in 연산자/for 반복문 사용"
   ]
  },
  {
   "cell_type": "markdown",
   "metadata": {},
   "source": [
    "* 시리즈 객체는 라벨(문자)에 의해 인덱싱이 가능\n",
    "* 실질적으로는 라벨을 key로 가지는 딕셔너리 형과 같다고 볼 수 있음\n",
    "* 딕셔너리에서 제공하는 대부분의 연산자 사용 가능\n",
    "    * in 연산자 : T / F\n",
    "    * for 루프를 통해 각 원소의 key와 value에 접근"
   ]
  },
  {
   "cell_type": "code",
   "execution_count": 53,
   "metadata": {},
   "outputs": [
    {
     "data": {
      "text/plain": [
       "도시\n",
       "서울    10000000\n",
       "부산     3448737\n",
       "인천      289045\n",
       "대구     2466052\n",
       "Name: 인구수, dtype: int64"
      ]
     },
     "execution_count": 53,
     "metadata": {},
     "output_type": "execute_result"
    }
   ],
   "source": [
    "s"
   ]
  },
  {
   "cell_type": "code",
   "execution_count": 54,
   "metadata": {},
   "outputs": [
    {
     "data": {
      "text/plain": [
       "True"
      ]
     },
     "execution_count": 54,
     "metadata": {},
     "output_type": "execute_result"
    }
   ],
   "source": [
    "# 인덱스가 서울인 원소가 시리즈에 있는지\n",
    "'서울' in s"
   ]
  },
  {
   "cell_type": "code",
   "execution_count": 55,
   "metadata": {},
   "outputs": [
    {
     "data": {
      "text/plain": [
       "False"
      ]
     },
     "execution_count": 55,
     "metadata": {},
     "output_type": "execute_result"
    }
   ],
   "source": [
    "# 인덱스가 대전인 원소가 시리즈에 있는지\n",
    "'대전' in s"
   ]
  },
  {
   "cell_type": "code",
   "execution_count": 56,
   "metadata": {},
   "outputs": [
    {
     "data": {
      "text/plain": [
       "True"
      ]
     },
     "execution_count": 56,
     "metadata": {},
     "output_type": "execute_result"
    }
   ],
   "source": [
    "# 인덱스가 대전인 원소가 시리즈에 없는지\n",
    "'대전' not in s"
   ]
  },
  {
   "cell_type": "code",
   "execution_count": 57,
   "metadata": {},
   "outputs": [
    {
     "data": {
      "text/plain": [
       "<zip at 0x23007690f00>"
      ]
     },
     "execution_count": 57,
     "metadata": {},
     "output_type": "execute_result"
    }
   ],
   "source": [
    "# 딕셔너리의 items()과 같은 함수가 시리즈에도 있음\n",
    "s.items() # zip 객체"
   ]
  },
  {
   "cell_type": "code",
   "execution_count": 58,
   "metadata": {},
   "outputs": [
    {
     "data": {
      "text/plain": [
       "[('서울', 10000000), ('부산', 3448737), ('인천', 289045), ('대구', 2466052)]"
      ]
     },
     "execution_count": 58,
     "metadata": {},
     "output_type": "execute_result"
    }
   ],
   "source": [
    "# list로 변환 후 확인\n",
    "list(s.items())"
   ]
  },
  {
   "cell_type": "code",
   "execution_count": 59,
   "metadata": {},
   "outputs": [
    {
     "name": "stdout",
     "output_type": "stream",
     "text": [
      "서울=10000000\n",
      "부산=3448737\n",
      "인천=289045\n",
      "대구=2466052\n"
     ]
    }
   ],
   "source": [
    "# 시리즈 각 원소 출력\n",
    "for k, v in s.items():\n",
    "    print(f'{k}={v}')"
   ]
  },
  {
   "cell_type": "markdown",
   "metadata": {},
   "source": [
    "---"
   ]
  },
  {
   "cell_type": "markdown",
   "metadata": {},
   "source": [
    "### 딕셔너리로 시리즈 만들기"
   ]
  },
  {
   "cell_type": "markdown",
   "metadata": {},
   "source": [
    "* **Series({key1:value1, key2:value2, key3:value3, ...})**\n",
    "    * 인덱스 -> key\n",
    "    * 값 -> value"
   ]
  },
  {
   "cell_type": "code",
   "execution_count": 60,
   "metadata": {},
   "outputs": [
    {
     "data": {
      "text/plain": [
       "홍길동     96\n",
       "이몽룡    100\n",
       "성춘향     88\n",
       "dtype: int64"
      ]
     },
     "execution_count": 60,
     "metadata": {},
     "output_type": "execute_result"
    }
   ],
   "source": [
    "scores = {'홍길동':96, '이몽룡':100, '성춘향':88}\n",
    "s = pd.Series(scores)\n",
    "s"
   ]
  },
  {
   "cell_type": "code",
   "execution_count": 61,
   "metadata": {},
   "outputs": [
    {
     "data": {
      "text/plain": [
       "서울    9631482\n",
       "부산    3393191\n",
       "인천    2632035\n",
       "대전    1490158\n",
       "dtype: int64"
      ]
     },
     "execution_count": 61,
     "metadata": {},
     "output_type": "execute_result"
    }
   ],
   "source": [
    "city = {'서울':9631482, '부산':3393191, '인천':2632035, '대전':1490158}\n",
    "s = pd.Series(city)\n",
    "s"
   ]
  },
  {
   "cell_type": "markdown",
   "metadata": {},
   "source": [
    "#### 딕셔너리 기반으로 생성한 시리즈 인덱스 설정"
   ]
  },
  {
   "cell_type": "markdown",
   "metadata": {},
   "source": [
    "* 딕셔너리의 원소는 순서를 갖지 않는다.\n",
    "    * 딕셔너리로 생성된 시리즈의 원소도 순서가 보장되지 않는다.\n",
    "    * 만약 순서를 보장하고 싶으면 인덱스를 리스트로 지정해야 한다."
   ]
  },
  {
   "cell_type": "code",
   "execution_count": 62,
   "metadata": {},
   "outputs": [
    {
     "data": {
      "text/plain": [
       "부산    3393191\n",
       "인천    2632035\n",
       "서울    9631482\n",
       "대전    1490158\n",
       "dtype: int64"
      ]
     },
     "execution_count": 62,
     "metadata": {},
     "output_type": "execute_result"
    }
   ],
   "source": [
    "# 딕셔너리 기반으로 생성한 시리즈 인덱스 설정\n",
    "s = pd.Series(city, index = ['부산','인천','서울','대전'])\n",
    "s"
   ]
  },
  {
   "cell_type": "markdown",
   "metadata": {},
   "source": [
    "---"
   ]
  },
  {
   "cell_type": "markdown",
   "metadata": {},
   "source": [
    "### 시리즈 데이터의 갱신, 추가, 삭제\n",
    "\n",
    "* 인덱싱을 이용하면 딕셔너리 처럼 갱신, 추가 가능"
   ]
  },
  {
   "cell_type": "code",
   "execution_count": 63,
   "metadata": {},
   "outputs": [
    {
     "data": {
      "text/plain": [
       "부산    3393191\n",
       "인천    2632035\n",
       "서울    9631482\n",
       "대전    1490158\n",
       "dtype: int64"
      ]
     },
     "execution_count": 63,
     "metadata": {},
     "output_type": "execute_result"
    }
   ],
   "source": [
    "s"
   ]
  },
  {
   "cell_type": "markdown",
   "metadata": {},
   "source": [
    "* 시리즈 데이터 갱신"
   ]
  },
  {
   "cell_type": "code",
   "execution_count": 64,
   "metadata": {},
   "outputs": [
    {
     "data": {
      "text/plain": [
       "부산    1630000\n",
       "인천    2632035\n",
       "서울    9631482\n",
       "대전    1490158\n",
       "dtype: int64"
      ]
     },
     "execution_count": 64,
     "metadata": {},
     "output_type": "execute_result"
    }
   ],
   "source": [
    "# s2 시리즈의 부산 인구 값을 1630000으로 변경\n",
    "s.부산 = 1630000\n",
    "s"
   ]
  },
  {
   "cell_type": "markdown",
   "metadata": {},
   "source": [
    "* 시리즈 데이터 삭제"
   ]
  },
  {
   "cell_type": "code",
   "execution_count": 65,
   "metadata": {},
   "outputs": [
    {
     "data": {
      "text/plain": [
       "인천    2632035\n",
       "서울    9631482\n",
       "대전    1490158\n",
       "dtype: int64"
      ]
     },
     "execution_count": 65,
     "metadata": {},
     "output_type": "execute_result"
    }
   ],
   "source": [
    "# 데이터를 삭제할 때도 딕셔너리처럼 del 명령을 사용\n",
    "del s['부산']\n",
    "s"
   ]
  },
  {
   "cell_type": "markdown",
   "metadata": {},
   "source": [
    "* 시리즈 데이터 추가"
   ]
  },
  {
   "cell_type": "code",
   "execution_count": 66,
   "metadata": {},
   "outputs": [
    {
     "data": {
      "text/plain": [
       "인천    2632035\n",
       "서울    9631482\n",
       "대전    1490158\n",
       "대구    1875000\n",
       "dtype: int64"
      ]
     },
     "execution_count": 66,
     "metadata": {},
     "output_type": "execute_result"
    }
   ],
   "source": [
    "# 시리즈에 새로운 값 추가\n",
    "s['대구'] = 1875000\n",
    "s"
   ]
  },
  {
   "cell_type": "markdown",
   "metadata": {},
   "source": [
    "---"
   ]
  },
  {
   "cell_type": "markdown",
   "metadata": {},
   "source": [
    "### Series 함수"
   ]
  },
  {
   "cell_type": "markdown",
   "metadata": {},
   "source": [
    "#### Series size, shape, unique, count, value_counts 함수"
   ]
  },
  {
   "cell_type": "markdown",
   "metadata": {},
   "source": [
    "* size : 시리즈 원소 개수 반환\n",
    "* shape : 튜플 형태로 shape 반환\n",
    "* unique() : 유일한 값만 ndarray로 반환\n",
    "* count() : NaN을 제외한 개수를 반환\n",
    "* mean() : NaN을 제외한 평균\n",
    "* value_counts() : NaN을 제외하고 각 값들의 빈도를 반환"
   ]
  },
  {
   "cell_type": "code",
   "execution_count": 67,
   "metadata": {},
   "outputs": [
    {
     "data": {
      "text/plain": [
       "0     1.0\n",
       "1     1.0\n",
       "2     2.0\n",
       "3     1.0\n",
       "4     2.0\n",
       "5     2.0\n",
       "6     2.0\n",
       "7     1.0\n",
       "8     1.0\n",
       "9     3.0\n",
       "10    3.0\n",
       "11    4.0\n",
       "12    5.0\n",
       "13    5.0\n",
       "14    7.0\n",
       "15    NaN\n",
       "dtype: float64"
      ]
     },
     "execution_count": 67,
     "metadata": {},
     "output_type": "execute_result"
    }
   ],
   "source": [
    "s1 = pd.Series([1, 1, 2, 1, 2, 2, 2, 1, 1, 3, 3, 4, 5, 5, 7, np.NaN])\n",
    "s1"
   ]
  },
  {
   "cell_type": "markdown",
   "metadata": {},
   "source": [
    "* 시리즈 원소 크기"
   ]
  },
  {
   "cell_type": "code",
   "execution_count": 68,
   "metadata": {},
   "outputs": [
    {
     "data": {
      "text/plain": [
       "16"
      ]
     },
     "execution_count": 68,
     "metadata": {},
     "output_type": "execute_result"
    }
   ],
   "source": [
    "s1.size"
   ]
  },
  {
   "cell_type": "code",
   "execution_count": 69,
   "metadata": {},
   "outputs": [
    {
     "data": {
      "text/plain": [
       "16"
      ]
     },
     "execution_count": 69,
     "metadata": {},
     "output_type": "execute_result"
    }
   ],
   "source": [
    "len(s1)"
   ]
  },
  {
   "cell_type": "code",
   "execution_count": 70,
   "metadata": {},
   "outputs": [
    {
     "data": {
      "text/plain": [
       "(16,)"
      ]
     },
     "execution_count": 70,
     "metadata": {},
     "output_type": "execute_result"
    }
   ],
   "source": [
    "s1.shape\n",
    "# 결과가 튜플형태로 (차원, )"
   ]
  },
  {
   "cell_type": "markdown",
   "metadata": {},
   "source": [
    "* **unique()** : 시리즈의 유일한 값 반환"
   ]
  },
  {
   "cell_type": "code",
   "execution_count": 71,
   "metadata": {},
   "outputs": [
    {
     "data": {
      "text/plain": [
       "array([ 1.,  2.,  3.,  4.,  5.,  7., nan])"
      ]
     },
     "execution_count": 71,
     "metadata": {},
     "output_type": "execute_result"
    }
   ],
   "source": [
    "s1.unique()"
   ]
  },
  {
   "cell_type": "markdown",
   "metadata": {},
   "source": [
    "* **count()** : NaN을 제외한 개수를 반환"
   ]
  },
  {
   "cell_type": "code",
   "execution_count": 72,
   "metadata": {},
   "outputs": [
    {
     "data": {
      "text/plain": [
       "15"
      ]
     },
     "execution_count": 72,
     "metadata": {},
     "output_type": "execute_result"
    }
   ],
   "source": [
    "s1.count()"
   ]
  },
  {
   "cell_type": "markdown",
   "metadata": {},
   "source": [
    "* **mean()** : 데이터의 평균(결측치 제외)"
   ]
  },
  {
   "cell_type": "code",
   "execution_count": 73,
   "metadata": {},
   "outputs": [
    {
     "data": {
      "text/plain": [
       "2.6666666666666665"
      ]
     },
     "execution_count": 73,
     "metadata": {},
     "output_type": "execute_result"
    }
   ],
   "source": [
    "s1.mean()"
   ]
  },
  {
   "cell_type": "code",
   "execution_count": 74,
   "metadata": {},
   "outputs": [
    {
     "data": {
      "text/plain": [
       "nan"
      ]
     },
     "execution_count": 74,
     "metadata": {},
     "output_type": "execute_result"
    }
   ],
   "source": [
    "# numpy의 1차원 데이터 생성하고 평균을 계산\n",
    "a = np.array([2, 2, 2, 2, np.NaN])\n",
    "a.mean() # 결측치를 포함해버림"
   ]
  },
  {
   "cell_type": "code",
   "execution_count": 75,
   "metadata": {},
   "outputs": [
    {
     "data": {
      "text/plain": [
       "2.0"
      ]
     },
     "execution_count": 75,
     "metadata": {},
     "output_type": "execute_result"
    }
   ],
   "source": [
    "# 시리즈의 경우 평균은 NaN을 제외하고 계산\n",
    "b = pd.Series(a) # numpy array 데이터를 시리즈로 변경\n",
    "b.mean() # NaN 빼고 계산"
   ]
  },
  {
   "cell_type": "markdown",
   "metadata": {},
   "source": [
    "* **value_counts()** : 그룹핑 된 원소별 개수"
   ]
  },
  {
   "cell_type": "code",
   "execution_count": 76,
   "metadata": {},
   "outputs": [
    {
     "data": {
      "text/plain": [
       "1.0    5\n",
       "2.0    4\n",
       "5.0    2\n",
       "3.0    2\n",
       "7.0    1\n",
       "4.0    1\n",
       "dtype: int64"
      ]
     },
     "execution_count": 76,
     "metadata": {},
     "output_type": "execute_result"
    }
   ],
   "source": [
    "# 각 원소들 그룹핑하여 개수를 셈(빈도계산)\n",
    "s1.value_counts()"
   ]
  },
  {
   "cell_type": "markdown",
   "metadata": {},
   "source": [
    "---"
   ]
  },
  {
   "cell_type": "markdown",
   "metadata": {},
   "source": [
    "### 날짜 인덱스를 이용하여 시리즈 생성"
   ]
  },
  {
   "cell_type": "code",
   "execution_count": 77,
   "metadata": {},
   "outputs": [
    {
     "data": {
      "text/plain": [
       "2021-10-07    200.0\n",
       "2021-10-08    195.0\n",
       "2021-10-09      NaN\n",
       "2021-10-10    205.0\n",
       "dtype: float64"
      ]
     },
     "execution_count": 77,
     "metadata": {},
     "output_type": "execute_result"
    }
   ],
   "source": [
    "# 날짜 인덱스를 이용하여 시리즈 만들기\n",
    "# 날자 표시 : '년-월-일' 형태의 문자열로 표시\n",
    "\n",
    "index_date = ['2021-10-07', '2021-10-08', '2021-10-09', '2021-10-10']\n",
    "\n",
    "s = pd.Series([200,195, np.nan, 205], index=index_date )\n",
    "s"
   ]
  },
  {
   "cell_type": "code",
   "execution_count": 78,
   "metadata": {},
   "outputs": [
    {
     "data": {
      "text/plain": [
       "str"
      ]
     },
     "execution_count": 78,
     "metadata": {},
     "output_type": "execute_result"
    }
   ],
   "source": [
    "type(s.index[0]) # 문자열 형태"
   ]
  },
  {
   "cell_type": "markdown",
   "metadata": {},
   "source": [
    "#### 날짜 생성 함수 : date_range()"
   ]
  },
  {
   "cell_type": "markdown",
   "metadata": {},
   "source": [
    "* 판다스 패키지의 date_range 함수 (날짜생성)\n",
    "* pd.date_range(start=None, end=None, periods=None, freq='D')\n",
    "    * start : 시작 날짜\n",
    "    * end : 끝 날짜\n",
    "    * periods : 날짜 생성기간\n",
    "    * freq : 날짜 생성 주기, 기본값은 'D'(Days)\n",
    "    * start는 필수 옵션/end 나 periods는 둘 중 하나가 있어야 함"
   ]
  },
  {
   "cell_type": "markdown",
   "metadata": {},
   "source": [
    "freq 옵션"
   ]
  },
  {
   "cell_type": "markdown",
   "metadata": {},
   "source": [
    "![image](https://user-images.githubusercontent.com/75322297/148507304-f44c475c-6005-4b74-b107-cf71d6d31026.png)"
   ]
  },
  {
   "cell_type": "markdown",
   "metadata": {},
   "source": [
    "* 일별 간격으로 날짜 생성"
   ]
  },
  {
   "cell_type": "code",
   "execution_count": 79,
   "metadata": {},
   "outputs": [
    {
     "data": {
      "text/plain": [
       "DatetimeIndex(['2021-10-01', '2021-10-02', '2021-10-03', '2021-10-04',\n",
       "               '2021-10-05', '2021-10-06', '2021-10-07', '2021-10-08',\n",
       "               '2021-10-09', '2021-10-10', '2021-10-11', '2021-10-12',\n",
       "               '2021-10-13', '2021-10-14', '2021-10-15', '2021-10-16',\n",
       "               '2021-10-17', '2021-10-18', '2021-10-19', '2021-10-20'],\n",
       "              dtype='datetime64[ns]', freq='D')"
      ]
     },
     "execution_count": 79,
     "metadata": {},
     "output_type": "execute_result"
    }
   ],
   "source": [
    "# dtype = 'datetime64[ns] 데이트 타입 형태로 생성\n",
    "\n",
    "date = pd.date_range(start='2021-10-01', end='2021-10-20')\n",
    "date\n",
    "# default로 D(일) 기준으로 생성된다.(freq='D')"
   ]
  },
  {
   "cell_type": "code",
   "execution_count": 80,
   "metadata": {},
   "outputs": [
    {
     "data": {
      "text/plain": [
       "pandas.core.indexes.datetimes.DatetimeIndex"
      ]
     },
     "execution_count": 80,
     "metadata": {},
     "output_type": "execute_result"
    }
   ],
   "source": [
    "type(date)"
   ]
  },
  {
   "cell_type": "code",
   "execution_count": 81,
   "metadata": {},
   "outputs": [
    {
     "data": {
      "text/plain": [
       "DatetimeIndex(['2022-01-07', '2022-01-08', '2022-01-09', '2022-01-10',\n",
       "               '2022-01-11', '2022-01-12', '2022-01-13', '2022-01-14',\n",
       "               '2022-01-15', '2022-01-16', '2022-01-17', '2022-01-18',\n",
       "               '2022-01-19', '2022-01-20', '2022-01-21', '2022-01-22',\n",
       "               '2022-01-23', '2022-01-24', '2022-01-25', '2022-01-26',\n",
       "               '2022-01-27', '2022-01-28', '2022-01-29', '2022-01-30',\n",
       "               '2022-01-31'],\n",
       "              dtype='datetime64[ns]', freq='D')"
      ]
     },
     "execution_count": 81,
     "metadata": {},
     "output_type": "execute_result"
    }
   ],
   "source": [
    "# 하루 주기로 '2022-01-07'에서 '2022-01-31' 사이의 일자 생성\n",
    "pd.date_range(start='2022-01-07', end='2022-01-31', freq='D')"
   ]
  },
  {
   "cell_type": "markdown",
   "metadata": {},
   "source": [
    "* 3일 간격의 날짜 생성"
   ]
  },
  {
   "cell_type": "code",
   "execution_count": 82,
   "metadata": {},
   "outputs": [
    {
     "data": {
      "text/plain": [
       "DatetimeIndex(['2022-01-07', '2022-01-10', '2022-01-13', '2022-01-16',\n",
       "               '2022-01-19', '2022-01-22', '2022-01-25', '2022-01-28',\n",
       "               '2022-01-31'],\n",
       "              dtype='datetime64[ns]', freq='3D')"
      ]
     },
     "execution_count": 82,
     "metadata": {},
     "output_type": "execute_result"
    }
   ],
   "source": [
    "# '2022-01-07'에서 '2022-01-31' 사이의 3일 간격의 일자 생성\n",
    "pd.date_range(start='2022-01-07', end='2022-01-31', freq='3D')"
   ]
  },
  {
   "cell_type": "markdown",
   "metadata": {},
   "source": [
    "* 주간격으로 날짜 생성\n",
    "    * 지정한 일자가 포함된 주의 요일 시작 일자 기준으로 일주일 주기로 생성\n",
    "    * **freq='W'** : 일요일 기준으로 일주일 주기로 생성\n",
    "    * **freq='W-MON'** : 월요일 기준으로 일주일 주기로 생성"
   ]
  },
  {
   "cell_type": "code",
   "execution_count": 83,
   "metadata": {},
   "outputs": [
    {
     "data": {
      "text/plain": [
       "DatetimeIndex(['2022-01-09', '2022-01-16', '2022-01-23', '2022-01-30'], dtype='datetime64[ns]', freq='W-SUN')"
      ]
     },
     "execution_count": 83,
     "metadata": {},
     "output_type": "execute_result"
    }
   ],
   "source": [
    "# 2022-01-07을 기준으로 1주일씩 증가하는 4개의 1주 시작일(일요일)\n",
    "# '2022-01-07'은 금요일\n",
    "\n",
    "pd.date_range(start='2022-01-07', periods=4, freq='W')"
   ]
  },
  {
   "cell_type": "code",
   "execution_count": 84,
   "metadata": {},
   "outputs": [
    {
     "data": {
      "text/plain": [
       "DatetimeIndex(['2022-01-09', '2022-01-16', '2022-01-23', '2022-01-30'], dtype='datetime64[ns]', freq='W-SUN')"
      ]
     },
     "execution_count": 84,
     "metadata": {},
     "output_type": "execute_result"
    }
   ],
   "source": [
    "# 2021-10-01을 기준으로 1주일씩 증가하는 4개의 1주 시작일(일요일)\n",
    "# '2022-01-07'은 금요일\n",
    "\n",
    "pd.date_range(start='2022-01-07', periods=4, freq='W-SUN')"
   ]
  },
  {
   "cell_type": "code",
   "execution_count": 85,
   "metadata": {},
   "outputs": [
    {
     "data": {
      "text/plain": [
       "DatetimeIndex(['2022-01-10', '2022-01-17', '2022-01-24', '2022-01-31'], dtype='datetime64[ns]', freq='W-MON')"
      ]
     },
     "execution_count": 85,
     "metadata": {},
     "output_type": "execute_result"
    }
   ],
   "source": [
    "# 2022-01-07을 기준으로 1주일씩 증가하는 4개의 1주 시작일(월요일)\n",
    "# '2022-01-07'은 금요일\n",
    "\n",
    "pd.date_range(start='2022-01-07', periods = 4, freq='W-MON')\n",
    "# periods 로 월요일 4개 생성"
   ]
  },
  {
   "cell_type": "code",
   "execution_count": 86,
   "metadata": {},
   "outputs": [
    {
     "data": {
      "text/plain": [
       "DatetimeIndex(['2022-01-07', '2022-01-14', '2022-01-21', '2022-01-28'], dtype='datetime64[ns]', freq='W-FRI')"
      ]
     },
     "execution_count": 86,
     "metadata": {},
     "output_type": "execute_result"
    }
   ],
   "source": [
    "# 2022-01-07을 기준으로 1주일씩 증가하는 4개의 1주 시작일(금요일)\n",
    "# '2022-01-07'은 금요일\n",
    "\n",
    "pd.date_range(start='2022-01-07', periods=4, freq='W-FRI')"
   ]
  },
  {
   "cell_type": "markdown",
   "metadata": {},
   "source": [
    "* 월 간격으로 날짜 생성\n",
    "    * **freq='M'** : 월말 날짜 기준 주기\n",
    "    * **freq='BM'** : 업무 월말 날짜 기준 주기\n",
    "    * **freq='MS'** : 월초 날짜 기준 주기"
   ]
  },
  {
   "cell_type": "code",
   "execution_count": 87,
   "metadata": {},
   "outputs": [
    {
     "data": {
      "text/plain": [
       "DatetimeIndex(['2022-01-31', '2022-02-28', '2022-03-31', '2022-04-30'], dtype='datetime64[ns]', freq='M')"
      ]
     },
     "execution_count": 87,
     "metadata": {},
     "output_type": "execute_result"
    }
   ],
   "source": [
    "# 2022-01-07 기준으로 한 달 간격의 일자 4개 생성 : 월말 기준\n",
    "pd.date_range(start='2022-01-07', periods = 4, freq='M')"
   ]
  },
  {
   "cell_type": "code",
   "execution_count": 88,
   "metadata": {},
   "outputs": [
    {
     "data": {
      "text/plain": [
       "DatetimeIndex(['2022-02-01', '2022-03-01', '2022-04-01', '2022-05-01'], dtype='datetime64[ns]', freq='MS')"
      ]
     },
     "execution_count": 88,
     "metadata": {},
     "output_type": "execute_result"
    }
   ],
   "source": [
    "# 2022-01-07 기준으로 한 달 간격의 일자 4개 생성 : 월초 기준\n",
    "pd.date_range(start='2022-01-07', periods = 4, freq='MS')"
   ]
  },
  {
   "cell_type": "code",
   "execution_count": 89,
   "metadata": {},
   "outputs": [
    {
     "data": {
      "text/plain": [
       "DatetimeIndex(['2022-01-31', '2022-02-28', '2022-03-31', '2022-04-29'], dtype='datetime64[ns]', freq='BM')"
      ]
     },
     "execution_count": 89,
     "metadata": {},
     "output_type": "execute_result"
    }
   ],
   "source": [
    "# 2022-01-07 기준으로 한 달 간격의 일자 4개 생성 : 업무 월말 기준\n",
    "pd.date_range(start='2022-01-07', periods = 4, freq='BM')"
   ]
  },
  {
   "cell_type": "code",
   "execution_count": 90,
   "metadata": {},
   "outputs": [
    {
     "data": {
      "text/plain": [
       "DatetimeIndex(['2022-01-31', '2022-04-30', '2022-07-31', '2022-10-31'], dtype='datetime64[ns]', freq='3M')"
      ]
     },
     "execution_count": 90,
     "metadata": {},
     "output_type": "execute_result"
    }
   ],
   "source": [
    "# 2022-01-07 기준으로 세 달 간격의 일자 4개 생성 : 월말 기준\n",
    "pd.date_range(start='2022-01-07', periods = 4, freq='3M')"
   ]
  },
  {
   "cell_type": "code",
   "execution_count": 91,
   "metadata": {},
   "outputs": [
    {
     "data": {
      "text/plain": [
       "DatetimeIndex(['2022-02-01', '2022-04-01', '2022-06-01', '2022-08-01',\n",
       "               '2022-10-01', '2022-12-01', '2023-02-01', '2023-04-01',\n",
       "               '2023-06-01', '2023-08-01', '2023-10-01', '2023-12-01'],\n",
       "              dtype='datetime64[ns]', freq='2MS')"
      ]
     },
     "execution_count": 91,
     "metadata": {},
     "output_type": "execute_result"
    }
   ],
   "source": [
    "# 2개월 월초주기로 12개의 월말 날짜 생성\n",
    "pd.date_range(start='2022-01-07', periods = 12, freq='2MS')"
   ]
  },
  {
   "cell_type": "markdown",
   "metadata": {},
   "source": [
    "* 분기별 주기로 날짜 생성\n",
    "    * **freq = Q** : 분기 끝 날짜 기준 주기\n",
    "    * **freq = BQ** : 업무 분기 끝 날짜 기준 주기\n",
    "    * **freq = QS** : 분기 시작 날짜 기준 주기"
   ]
  },
  {
   "cell_type": "code",
   "execution_count": 92,
   "metadata": {},
   "outputs": [
    {
     "data": {
      "text/plain": [
       "DatetimeIndex(['2022-03-31', '2022-06-30', '2022-09-30', '2022-12-31'], dtype='datetime64[ns]', freq='Q-DEC')"
      ]
     },
     "execution_count": 92,
     "metadata": {},
     "output_type": "execute_result"
    }
   ],
   "source": [
    "# 2022-01-07 기준으로 분기 간격의 일자 4개 생성 : 분기 끝 날짜 기준\n",
    "pd.date_range(start='2022-01-07', periods = 4, freq='Q')"
   ]
  },
  {
   "cell_type": "code",
   "execution_count": 93,
   "metadata": {},
   "outputs": [
    {
     "data": {
      "text/plain": [
       "DatetimeIndex(['2022-03-31', '2022-06-30', '2022-09-30', '2022-12-30'], dtype='datetime64[ns]', freq='BQ-DEC')"
      ]
     },
     "execution_count": 93,
     "metadata": {},
     "output_type": "execute_result"
    }
   ],
   "source": [
    "# 2022-01-07 기준으로 업무 분기 간격의 일자 4개 생성 : 업무 분기 끝 날짜 기준\n",
    "pd.date_range(start='2022-01-07', periods = 4, freq='BQ')"
   ]
  },
  {
   "cell_type": "code",
   "execution_count": 94,
   "metadata": {},
   "outputs": [
    {
     "data": {
      "text/plain": [
       "DatetimeIndex(['2022-04-01', '2022-07-01', '2022-10-01', '2023-01-01'], dtype='datetime64[ns]', freq='QS-JAN')"
      ]
     },
     "execution_count": 94,
     "metadata": {},
     "output_type": "execute_result"
    }
   ],
   "source": [
    "# 2022-01-07 기준으로 분기 간격의 일자 4개 생성 : 분기 시작 날짜 기준\n",
    "pd.date_range(start='2022-01-07', periods = 4, freq='QS')"
   ]
  },
  {
   "cell_type": "markdown",
   "metadata": {},
   "source": [
    "* 연별 주기로 날짜 생성\n",
    "    * **freq = A** : 일년 끝 날짜 기준 주기\n",
    "    * **freq = BA** : 업무 일년 끝 날짜 기준 주기\n",
    "    * **freq = AS** : 일년 시작 날짜 기준 주기"
   ]
  },
  {
   "cell_type": "code",
   "execution_count": 95,
   "metadata": {},
   "outputs": [
    {
     "data": {
      "text/plain": [
       "DatetimeIndex(['2022-12-31', '2023-12-31', '2024-12-31', '2025-12-31'], dtype='datetime64[ns]', freq='A-DEC')"
      ]
     },
     "execution_count": 95,
     "metadata": {},
     "output_type": "execute_result"
    }
   ],
   "source": [
    "# 2022-01-07일 이후 부터 일년 끝 날짜기준으로 4개의 날짜 생성\n",
    "pd.date_range(start='2022-01-07', periods=4, freq='A')"
   ]
  },
  {
   "cell_type": "code",
   "execution_count": 96,
   "metadata": {},
   "outputs": [
    {
     "data": {
      "text/plain": [
       "DatetimeIndex(['2022-12-30', '2023-12-29', '2024-12-31', '2025-12-31'], dtype='datetime64[ns]', freq='BA-DEC')"
      ]
     },
     "execution_count": 96,
     "metadata": {},
     "output_type": "execute_result"
    }
   ],
   "source": [
    "# 2022-01-07일 이후 부터 업무 일년 끝 날짜기준으로 4개의 날짜 생성\n",
    "pd.date_range(start='2022-01-07', periods=4, freq='BA')"
   ]
  },
  {
   "cell_type": "code",
   "execution_count": 97,
   "metadata": {},
   "outputs": [
    {
     "data": {
      "text/plain": [
       "DatetimeIndex(['2021-01-01', '2022-01-01', '2023-01-01', '2024-01-01'], dtype='datetime64[ns]', freq='AS-JAN')"
      ]
     },
     "execution_count": 97,
     "metadata": {},
     "output_type": "execute_result"
    }
   ],
   "source": [
    "# 2022-01-07일 이후 부터 연초 기준으로 4개의 날짜 생성\n",
    "pd.date_range(start='2020-01-07', periods=4, freq='AS')"
   ]
  },
  {
   "cell_type": "markdown",
   "metadata": {},
   "source": [
    "* 시간 기준 주기로 날짜 생성\n",
    "    * **freq = H** : 시간 주기\n",
    "    * **freq = BH** : 업무 시간 주기\n",
    "    * **freq = T 또는 min** : 분 주기\n",
    "    * **freq = S** : 초 주기"
   ]
  },
  {
   "cell_type": "code",
   "execution_count": 98,
   "metadata": {},
   "outputs": [
    {
     "data": {
      "text/plain": [
       "DatetimeIndex(['2022-01-07 08:00:00', '2022-01-07 09:00:00',\n",
       "               '2022-01-07 10:00:00', '2022-01-07 11:00:00',\n",
       "               '2022-01-07 12:00:00', '2022-01-07 13:00:00',\n",
       "               '2022-01-07 14:00:00', '2022-01-07 15:00:00',\n",
       "               '2022-01-07 16:00:00', '2022-01-07 17:00:00'],\n",
       "              dtype='datetime64[ns]', freq='H')"
      ]
     },
     "execution_count": 98,
     "metadata": {},
     "output_type": "execute_result"
    }
   ],
   "source": [
    "# 2022-01-07일 08:00 부터 시간 기준으로 10개의 날짜 생성\n",
    "\n",
    "pd.date_range(start='2022-01-07 08:00', periods=10, freq='H')"
   ]
  },
  {
   "cell_type": "code",
   "execution_count": 99,
   "metadata": {},
   "outputs": [
    {
     "data": {
      "text/plain": [
       "DatetimeIndex(['2022-01-07 09:00:00', '2022-01-07 10:00:00',\n",
       "               '2022-01-07 11:00:00', '2022-01-07 12:00:00',\n",
       "               '2022-01-07 13:00:00', '2022-01-07 14:00:00',\n",
       "               '2022-01-07 15:00:00', '2022-01-07 16:00:00',\n",
       "               '2022-01-10 09:00:00', '2022-01-10 10:00:00'],\n",
       "              dtype='datetime64[ns]', freq='BH')"
      ]
     },
     "execution_count": 99,
     "metadata": {},
     "output_type": "execute_result"
    }
   ],
   "source": [
    "# 2022-01-07일 08:00 부터 업무시간 기준으로 10개의 날짜 생성\n",
    "# 업무시간기준 9 to 5로 설정되어 있음\n",
    "\n",
    "pd.date_range(start='2022-01-07 08:00', periods=10, freq='BH')"
   ]
  },
  {
   "cell_type": "code",
   "execution_count": 100,
   "metadata": {},
   "outputs": [
    {
     "data": {
      "text/plain": [
       "DatetimeIndex(['2022-01-07 08:00:00', '2022-01-07 08:30:00',\n",
       "               '2022-01-07 09:00:00', '2022-01-07 09:30:00',\n",
       "               '2022-01-07 10:00:00', '2022-01-07 10:30:00',\n",
       "               '2022-01-07 11:00:00', '2022-01-07 11:30:00',\n",
       "               '2022-01-07 12:00:00', '2022-01-07 12:30:00'],\n",
       "              dtype='datetime64[ns]', freq='30T')"
      ]
     },
     "execution_count": 100,
     "metadata": {},
     "output_type": "execute_result"
    }
   ],
   "source": [
    "# 30분 단위 : 30T로 해도 됨\n",
    "pd.date_range(start='2022-01-07 08:00', periods=10, freq='30min')"
   ]
  },
  {
   "cell_type": "code",
   "execution_count": 101,
   "metadata": {},
   "outputs": [
    {
     "data": {
      "text/plain": [
       "DatetimeIndex(['2022-01-07 08:00:00', '2022-01-07 08:00:10',\n",
       "               '2022-01-07 08:00:20', '2022-01-07 08:00:30',\n",
       "               '2022-01-07 08:00:40', '2022-01-07 08:00:50',\n",
       "               '2022-01-07 08:01:00', '2022-01-07 08:01:10',\n",
       "               '2022-01-07 08:01:20', '2022-01-07 08:01:30'],\n",
       "              dtype='datetime64[ns]', freq='10S')"
      ]
     },
     "execution_count": 101,
     "metadata": {},
     "output_type": "execute_result"
    }
   ],
   "source": [
    "# 10초 단위로 증가\n",
    "pd.date_range(start='2022-01-07 08:00', periods=10, freq='10S')"
   ]
  }
 ],
 "metadata": {
  "kernelspec": {
   "display_name": "Python 3",
   "language": "python",
   "name": "python3"
  },
  "language_info": {
   "codemirror_mode": {
    "name": "ipython",
    "version": 3
   },
   "file_extension": ".py",
   "mimetype": "text/x-python",
   "name": "python",
   "nbconvert_exporter": "python",
   "pygments_lexer": "ipython3",
   "version": "3.8.5"
  }
 },
 "nbformat": 4,
 "nbformat_minor": 4
}
